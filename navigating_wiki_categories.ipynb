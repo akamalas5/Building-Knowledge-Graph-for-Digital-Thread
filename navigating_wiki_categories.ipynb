{
  "cells": [
    {
      "cell_type": "markdown",
      "metadata": {
        "id": "view-in-github",
        "colab_type": "text"
      },
      "source": [
        "<a href=\"https://colab.research.google.com/github/akamalas5/Capstone/blob/main/navigating_wiki_categories.ipynb\" target=\"_parent\"><img src=\"https://colab.research.google.com/assets/colab-badge.svg\" alt=\"Open In Colab\"/></a>"
      ]
    },
    {
      "cell_type": "code",
      "source": [
        "from google.colab import drive\n",
        "drive.mount('/content/drive')"
      ],
      "metadata": {
        "colab": {
          "base_uri": "https://localhost:8080/"
        },
        "id": "u6ovcO62OfTn",
        "outputId": "aa924e7e-44cc-47e1-9525-b396bf8123e2"
      },
      "id": "u6ovcO62OfTn",
      "execution_count": null,
      "outputs": [
        {
          "output_type": "stream",
          "name": "stdout",
          "text": [
            "Drive already mounted at /content/drive; to attempt to forcibly remount, call drive.mount(\"/content/drive\", force_remount=True).\n"
          ]
        }
      ]
    },
    {
      "cell_type": "code",
      "source": [
        "import pandas as pd\n",
        "import re\n"
      ],
      "metadata": {
        "id": "srv958azTxc9"
      },
      "id": "srv958azTxc9",
      "execution_count": null,
      "outputs": []
    },
    {
      "cell_type": "code",
      "execution_count": null,
      "metadata": {
        "id": "OQ2EHmh5OZF6"
      },
      "outputs": [],
      "source": [
        "import requests\n",
        "\n",
        "def getPages(category='Brakes'):\n",
        "    S = requests.Session()\n",
        "\n",
        "    URL = \"https://en.wikipedia.org/w/api.php\"\n",
        "\n",
        "    PARAMS = {\n",
        "        \"action\": \"query\",\n",
        "        \"cmtitle\": \"Category:\"+category,\n",
        "        \"cmlimit\": \"200\",\n",
        "        #\"mode\": \"pages\",\n",
        "        \"list\": \"categorymembers\",\n",
        "        \"depth\": 5,\n",
        "    #     \"cmtype\":\"page\",\n",
        "        \"prop\": \"links\",\n",
        "        \"format\": \"json\",\n",
        "    }\n",
        "\n",
        "    R = S.get(url=URL, params=PARAMS)\n",
        "    DATA = R.json()\n",
        "\n",
        "    PAGES = DATA['query']['categorymembers']\n",
        "    \n",
        "    # traversing subcategories\n",
        "    for page in PAGES:\n",
        "        if(type(page) == dict and 'Category:' in page['title']):\n",
        "           #{'pageid': 54336598, 'ns': 14, 'title': 'Category:Bicycle brakes'} \n",
        "           title = page['title'].split(':')[1]    \n",
        "           subpages = getPages(title)\n",
        "           PAGES.extend(subpages)\n",
        "    return PAGES"
      ],
      "id": "OQ2EHmh5OZF6"
    },
    {
      "cell_type": "code",
      "execution_count": null,
      "metadata": {
        "colab": {
          "base_uri": "https://localhost:8080/"
        },
        "id": "468KSWH-OZGE",
        "outputId": "15596cd7-53ac-455c-f2f0-d1cd4c80a739"
      },
      "outputs": [
        {
          "output_type": "stream",
          "name": "stderr",
          "text": [
            "100%|██████████| 123/123 [00:38<00:00,  3.19it/s]"
          ]
        },
        {
          "output_type": "stream",
          "name": "stdout",
          "text": [
            "Done. Extracting table links..: 2877\n"
          ]
        },
        {
          "output_type": "stream",
          "name": "stderr",
          "text": [
            "\n"
          ]
        },
        {
          "output_type": "execute_result",
          "data": {
            "text/plain": [
              "(                                           wiki_text\n",
              " 0  A brake is a mechanical device that inhibits m...\n",
              " 1  Most brakes commonly use friction between two ...\n",
              " 2  Brakes are generally applied to rotating axles...\n",
              " 3  Since kinetic energy increases quadratically w...\n",
              " 4  Almost all wheeled vehicles have a brake of so..., 2877)"
            ]
          },
          "metadata": {},
          "execution_count": 4
        }
      ],
      "source": [
        "from collections import defaultdict\n",
        "from tqdm import tqdm\n",
        "from bs4 import BeautifulSoup\n",
        "\n",
        "# traverse pages for given categories\n",
        "page_list = getPages()\n",
        "wiki_text = defaultdict(list)\n",
        "\n",
        "for page in tqdm(page_list):\n",
        "    pageid = page['pageid']\n",
        "    wiki_url = 'http://en.wikipedia.org/?curid='+str(pageid)\n",
        "    #print(url)\n",
        "    \n",
        "#     if 'brake' not in wiki_url:\n",
        "#         continue\n",
        "    page = requests.get(wiki_url)\n",
        "\n",
        "    html = BeautifulSoup(page.text)\n",
        "    \n",
        "    paragraphs = html.find_all('p')\n",
        "    \n",
        "    for para in paragraphs:\n",
        "#         print(para)\n",
        "        if(len(para.text)>1):\n",
        "            wiki_text['wiki_text'].append(para.text)\n",
        "            \n",
        "print('Done. Extracting table links..:', len(wiki_text['wiki_text']))\n",
        "rqt_df = pd.DataFrame(wiki_text)\n",
        "rqt_df.head(), len(rqt_df)"
      ],
      "id": "468KSWH-OZGE"
    },
    {
      "cell_type": "code",
      "execution_count": null,
      "metadata": {
        "id": "WqTZz6zkOZGM"
      },
      "outputs": [],
      "source": [
        "# function to preprocess rqt_text\n",
        "def clean(text):\n",
        "    \n",
        "    # removing paragraph numbers\n",
        "    text = re.sub('[0-9]+.','',str(text))\n",
        "    \n",
        "    # removing new line characters\n",
        "    text = re.sub('\\n ','',str(text))\n",
        "    # text = re.sub('\\n',' ',str(text))\n",
        "    \n",
        "    # removing apostrophes\n",
        "    text = re.sub(\"'s\",'',str(text))\n",
        "    \n",
        "    # removing hyphens\n",
        "    text = re.sub(\"-\",' ',str(text))\n",
        "    text = re.sub(\"— \",'',str(text))\n",
        "    # removing quotation marks\n",
        "    text = re.sub('\\\"','',str(text))\n",
        "\n",
        "    # removing any reference to outside text\n",
        "    text = re.sub(\"[\\(*?[\\)\\]\\[]\", \"\", str(text))\n",
        "    \n",
        "    # removing table tags\n",
        "    text = re.sub('&nbsp;', ' ', str(text))\n",
        "    text = re.sub('nbsp;', ' ', str(text))\n",
        "    \n",
        "    # removing table tags\n",
        "    text = re.sub('  ', ' ', str(text))\n",
        "    text = text.strip()\n",
        "    \n",
        "    return text\n",
        "\n"
      ],
      "id": "WqTZz6zkOZGM"
    },
    {
      "cell_type": "code",
      "execution_count": null,
      "metadata": {
        "colab": {
          "base_uri": "https://localhost:8080/",
          "height": 72
        },
        "id": "XqoP8dvdOZGS",
        "outputId": "46fcdc27-fee0-4942-87a5-d8845f08928e"
      },
      "outputs": [
        {
          "output_type": "execute_result",
          "data": {
            "application/vnd.google.colaboratory.intrinsic+json": {
              "type": "string"
            },
            "text/plain": [
              "'A brake is a mechanical device that inhibits motion by absorbing energy from a moving system. It is used for slowing or stopping a moving vehicle, wheel, axle, or to prevent its motion, most often accomplished by means of friction.'"
            ]
          },
          "metadata": {},
          "execution_count": 6
        }
      ],
      "source": [
        "\n",
        "# preprocessing req_text\n",
        "rqt_df['text_clean'] = rqt_df['wiki_text'].apply(clean)\n",
        "rqt_df.loc[0, 'text_clean']"
      ],
      "id": "XqoP8dvdOZGS"
    },
    {
      "cell_type": "code",
      "source": [
        ""
      ],
      "metadata": {
        "id": "ve7ubYGwPtnS"
      },
      "id": "ve7ubYGwPtnS",
      "execution_count": null,
      "outputs": []
    },
    {
      "cell_type": "code",
      "execution_count": null,
      "metadata": {
        "id": "uug7qeupOZGW"
      },
      "outputs": [],
      "source": [
        "rqt_df.to_csv('drive/MyDrive/Capstone/data/wiki_brake_all_pages.csv') # -> to be sent for coref resolution"
      ],
      "id": "uug7qeupOZGW"
    },
    {
      "cell_type": "markdown",
      "metadata": {
        "id": "QXXtwEfVOZGb"
      },
      "source": [
        "### Coref Resolution"
      ],
      "id": "QXXtwEfVOZGb"
    },
    {
      "cell_type": "code",
      "source": [
        "req_df = pd.read_csv('drive/MyDrive/Capstone/data/wiki_brake_all_pages_with_coref_df.csv')"
      ],
      "metadata": {
        "id": "tWKshNrKPv1d"
      },
      "id": "tWKshNrKPv1d",
      "execution_count": null,
      "outputs": []
    },
    {
      "cell_type": "code",
      "source": [
        "len(req_df)"
      ],
      "metadata": {
        "colab": {
          "base_uri": "https://localhost:8080/"
        },
        "id": "rDhZkHMSPwBP",
        "outputId": "71d0c69a-d6da-409d-a3ac-70c31a0ba93f"
      },
      "id": "rDhZkHMSPwBP",
      "execution_count": null,
      "outputs": [
        {
          "output_type": "execute_result",
          "data": {
            "text/plain": [
              "2877"
            ]
          },
          "metadata": {},
          "execution_count": 9
        }
      ]
    },
    {
      "cell_type": "code",
      "execution_count": null,
      "metadata": {
        "colab": {
          "base_uri": "https://localhost:8080/"
        },
        "id": "54htSEJmOZGh",
        "outputId": "373e80fd-ea4c-46ce-ac1a-e4353fad72e0"
      },
      "outputs": [
        {
          "output_type": "execute_result",
          "data": {
            "text/plain": [
              "Index(['Unnamed: 0', 'Unnamed: 0.1', 'wiki_text', 'text_clean',\n",
              "       'tex_coref_resolved'],\n",
              "      dtype='object')"
            ]
          },
          "metadata": {},
          "execution_count": 10
        }
      ],
      "source": [
        "# reading coref resolved file (in other environment)\n",
        "#rqt_coref_df = pd.read_excel('../data/wiki_brake_full_coref_df.xlsx')\n",
        "req_df.columns"
      ],
      "id": "54htSEJmOZGh"
    },
    {
      "cell_type": "code",
      "execution_count": null,
      "metadata": {
        "id": "XnLGY-w2OZGk"
      },
      "outputs": [],
      "source": [
        "def sentences(text):\n",
        "    # split sentences and questions\n",
        "    text = re.split('[.?]', str(text))\n",
        "    clean_sent = []\n",
        "    for sent in text:\n",
        "        clean_sent.append(sent)\n",
        "    return clean_sent\n",
        "\n",
        "# sentences - The coref resolved data from offline is used\n",
        "req_df['sent'] = req_df['tex_coref_resolved'].apply(sentences)"
      ],
      "id": "XnLGY-w2OZGk"
    },
    {
      "cell_type": "code",
      "execution_count": null,
      "metadata": {
        "colab": {
          "base_uri": "https://localhost:8080/",
          "height": 293
        },
        "id": "QPWW24U_OZGn",
        "outputId": "a90db9e4-902a-47f7-9b0b-77d3d2b5829c"
      },
      "outputs": [
        {
          "output_type": "execute_result",
          "data": {
            "text/html": [
              "<div>\n",
              "<style scoped>\n",
              "    .dataframe tbody tr th:only-of-type {\n",
              "        vertical-align: middle;\n",
              "    }\n",
              "\n",
              "    .dataframe tbody tr th {\n",
              "        vertical-align: top;\n",
              "    }\n",
              "\n",
              "    .dataframe thead th {\n",
              "        text-align: right;\n",
              "    }\n",
              "</style>\n",
              "<table border=\"1\" class=\"dataframe\">\n",
              "  <thead>\n",
              "    <tr style=\"text-align: right;\">\n",
              "      <th></th>\n",
              "      <th>wiki_text</th>\n",
              "      <th>text_clean</th>\n",
              "      <th>tex_coref_resolved</th>\n",
              "      <th>sent</th>\n",
              "    </tr>\n",
              "  </thead>\n",
              "  <tbody>\n",
              "    <tr>\n",
              "      <th>0</th>\n",
              "      <td>A brake is a mechanical device that inhibits m...</td>\n",
              "      <td>A brake is a mechanical device that inhibits m...</td>\n",
              "      <td>A brake is a mechanical device that inhibits m...</td>\n",
              "      <td>[A brake is a mechanical device that inhibits ...</td>\n",
              "    </tr>\n",
              "    <tr>\n",
              "      <th>1</th>\n",
              "      <td>Most brakes commonly use friction between two ...</td>\n",
              "      <td>Most brakes commonly use friction between two ...</td>\n",
              "      <td>Most brakes commonly use friction between two ...</td>\n",
              "      <td>[Most brakes commonly use friction between two...</td>\n",
              "    </tr>\n",
              "    <tr>\n",
              "      <th>2</th>\n",
              "      <td>Brakes are generally applied to rotating axles...</td>\n",
              "      <td>Brakes are generally applied to rotating axles...</td>\n",
              "      <td>Brakes are generally applied to rotating axles...</td>\n",
              "      <td>[Brakes are generally applied to rotating axle...</td>\n",
              "    </tr>\n",
              "    <tr>\n",
              "      <th>3</th>\n",
              "      <td>Since kinetic energy increases quadratically w...</td>\n",
              "      <td>Since kinetic energy increases quadratically w...</td>\n",
              "      <td>Since kinetic energy increases quadratically w...</td>\n",
              "      <td>[Since kinetic energy increases quadratically ...</td>\n",
              "    </tr>\n",
              "    <tr>\n",
              "      <th>4</th>\n",
              "      <td>Almost all wheeled vehicles have a brake of so...</td>\n",
              "      <td>Almost all wheeled vehicles have a brake of so...</td>\n",
              "      <td>Almost all wheeled vehicles have a brake of so...</td>\n",
              "      <td>[Almost all wheeled vehicles have a brake of s...</td>\n",
              "    </tr>\n",
              "  </tbody>\n",
              "</table>\n",
              "</div>"
            ],
            "text/plain": [
              "                                           wiki_text  ...                                               sent\n",
              "0  A brake is a mechanical device that inhibits m...  ...  [A brake is a mechanical device that inhibits ...\n",
              "1  Most brakes commonly use friction between two ...  ...  [Most brakes commonly use friction between two...\n",
              "2  Brakes are generally applied to rotating axles...  ...  [Brakes are generally applied to rotating axle...\n",
              "3  Since kinetic energy increases quadratically w...  ...  [Since kinetic energy increases quadratically ...\n",
              "4  Almost all wheeled vehicles have a brake of so...  ...  [Almost all wheeled vehicles have a brake of s...\n",
              "\n",
              "[5 rows x 4 columns]"
            ]
          },
          "metadata": {},
          "execution_count": 12
        }
      ],
      "source": [
        "req_df = req_df.dropna().reset_index(drop=True)\n",
        "req_df= req_df.drop(['Unnamed: 0', 'Unnamed: 0.1'], axis=1)\n",
        "req_df.head()"
      ],
      "id": "QPWW24U_OZGn"
    },
    {
      "cell_type": "code",
      "execution_count": null,
      "metadata": {
        "id": "vFtPU0b8OZGr"
      },
      "outputs": [],
      "source": [
        "# create a dataframe containing sentences\n",
        "rqt_df2 = pd.DataFrame(columns=['Sent','Len'])\n",
        "\n",
        "row_list = []\n",
        "\n",
        "for i in range(len(req_df)):\n",
        "    for sent in req_df.loc[i,'sent']:\n",
        "        wordcount = len(sent.split())\n",
        "        if wordcount>0:\n",
        "            dict1 = {'Sent':sent.strip(),'Len':wordcount}\n",
        "            row_list.append(dict1)\n",
        "    \n",
        "rqt_df2 = pd.DataFrame(row_list)"
      ],
      "id": "vFtPU0b8OZGr"
    },
    {
      "cell_type": "code",
      "execution_count": null,
      "metadata": {
        "colab": {
          "base_uri": "https://localhost:8080/",
          "height": 206
        },
        "id": "752Dk0bKOZGu",
        "outputId": "707382b1-24be-47a3-c9cb-f2a996e87ab4"
      },
      "outputs": [
        {
          "output_type": "execute_result",
          "data": {
            "text/html": [
              "<div>\n",
              "<style scoped>\n",
              "    .dataframe tbody tr th:only-of-type {\n",
              "        vertical-align: middle;\n",
              "    }\n",
              "\n",
              "    .dataframe tbody tr th {\n",
              "        vertical-align: top;\n",
              "    }\n",
              "\n",
              "    .dataframe thead th {\n",
              "        text-align: right;\n",
              "    }\n",
              "</style>\n",
              "<table border=\"1\" class=\"dataframe\">\n",
              "  <thead>\n",
              "    <tr style=\"text-align: right;\">\n",
              "      <th></th>\n",
              "      <th>Sent</th>\n",
              "      <th>Len</th>\n",
              "    </tr>\n",
              "  </thead>\n",
              "  <tbody>\n",
              "    <tr>\n",
              "      <th>0</th>\n",
              "      <td>A brake is a mechanical device that inhibits m...</td>\n",
              "      <td>16</td>\n",
              "    </tr>\n",
              "    <tr>\n",
              "      <th>1</th>\n",
              "      <td>A brake is used for slowing or stopping a movi...</td>\n",
              "      <td>26</td>\n",
              "    </tr>\n",
              "    <tr>\n",
              "      <th>2</th>\n",
              "      <td>Most brakes commonly use friction between two ...</td>\n",
              "      <td>30</td>\n",
              "    </tr>\n",
              "    <tr>\n",
              "      <th>3</th>\n",
              "      <td>For example, regenerative braking converts muc...</td>\n",
              "      <td>19</td>\n",
              "    </tr>\n",
              "    <tr>\n",
              "      <th>4</th>\n",
              "      <td>Other methods convert kinetic energy into pote...</td>\n",
              "      <td>18</td>\n",
              "    </tr>\n",
              "  </tbody>\n",
              "</table>\n",
              "</div>"
            ],
            "text/plain": [
              "                                                Sent  Len\n",
              "0  A brake is a mechanical device that inhibits m...   16\n",
              "1  A brake is used for slowing or stopping a movi...   26\n",
              "2  Most brakes commonly use friction between two ...   30\n",
              "3  For example, regenerative braking converts muc...   19\n",
              "4  Other methods convert kinetic energy into pote...   18"
            ]
          },
          "metadata": {},
          "execution_count": 14
        }
      ],
      "source": [
        "rqt_df2.head()"
      ],
      "id": "752Dk0bKOZGu"
    },
    {
      "cell_type": "code",
      "execution_count": null,
      "metadata": {
        "colab": {
          "base_uri": "https://localhost:8080/"
        },
        "id": "OMdpELO5OZGw",
        "outputId": "e04d0af5-eeeb-4676-8fbb-8f1959a09993"
      },
      "outputs": [
        {
          "output_type": "execute_result",
          "data": {
            "text/plain": [
              "9569"
            ]
          },
          "metadata": {},
          "execution_count": 16
        }
      ],
      "source": [
        "len(rqt_df2)"
      ],
      "id": "OMdpELO5OZGw"
    },
    {
      "cell_type": "code",
      "source": [
        "rqt_df2.to_csv('drive/MyDrive/Capstone/data/wiki_brake_all_sents_with_coref_df.csv')  "
      ],
      "metadata": {
        "id": "bY_WXIJtgQMj"
      },
      "id": "bY_WXIJtgQMj",
      "execution_count": null,
      "outputs": []
    }
  ],
  "metadata": {
    "kernelspec": {
      "display_name": "Python 3",
      "language": "python",
      "name": "python3"
    },
    "language_info": {
      "codemirror_mode": {
        "name": "ipython",
        "version": 3
      },
      "file_extension": ".py",
      "mimetype": "text/x-python",
      "name": "python",
      "nbconvert_exporter": "python",
      "pygments_lexer": "ipython3",
      "version": "3.8.5"
    },
    "colab": {
      "name": "navigating_wiki_categories.ipynb",
      "provenance": [],
      "collapsed_sections": [],
      "include_colab_link": true
    }
  },
  "nbformat": 4,
  "nbformat_minor": 5
}