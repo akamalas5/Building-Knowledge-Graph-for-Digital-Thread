{
  "cells": [
    {
      "cell_type": "markdown",
      "metadata": {
        "id": "view-in-github",
        "colab_type": "text"
      },
      "source": [
        "<a href=\"https://colab.research.google.com/github/akamalas5/Capstone/blob/main/navigating_wiki_categories.ipynb\" target=\"_parent\"><img src=\"https://colab.research.google.com/assets/colab-badge.svg\" alt=\"Open In Colab\"/></a>"
      ]
    },
    {
      "cell_type": "markdown",
      "source": [
        "# Extract the Brake corpus from Wikipedia"
      ],
      "metadata": {
        "id": "wE2qx20xhMdG"
      },
      "id": "wE2qx20xhMdG"
    },
    {
      "cell_type": "code",
      "source": [
        "import pandas as pd\n",
        "import re\n",
        "import requests"
      ],
      "metadata": {
        "id": "srv958azTxc9"
      },
      "id": "srv958azTxc9",
      "execution_count": null,
      "outputs": []
    },
    {
      "cell_type": "code",
      "execution_count": null,
      "metadata": {
        "id": "OQ2EHmh5OZF6"
      },
      "outputs": [],
      "source": [
        "def getPages(category='Brakes'):\n",
        "    S = requests.Session()\n",
        "\n",
        "    URL = \"https://en.wikipedia.org/w/api.php\"\n",
        "\n",
        "    PARAMS = {\n",
        "        \"action\": \"query\",\n",
        "        \"cmtitle\": \"Category:\"+category,\n",
        "        \"cmlimit\": \"200\",\n",
        "        #\"mode\": \"pages\",\n",
        "        \"list\": \"categorymembers\",\n",
        "        \"depth\": 5,\n",
        "    #     \"cmtype\":\"page\",\n",
        "        \"prop\": \"links\",\n",
        "        \"format\": \"json\",\n",
        "    }\n",
        "\n",
        "    R = S.get(url=URL, params=PARAMS)\n",
        "    DATA = R.json()\n",
        "\n",
        "    PAGES = DATA['query']['categorymembers']\n",
        "    \n",
        "    # traversing subcategories\n",
        "    for page in PAGES:\n",
        "        if(type(page) == dict and 'Category:' in page['title']):\n",
        "           #{'pageid': 54336598, 'ns': 14, 'title': 'Category:Bicycle brakes'} \n",
        "           title = page['title'].split(':')[1]    \n",
        "           subpages = getPages(title)\n",
        "           PAGES.extend(subpages)\n",
        "    return PAGES"
      ],
      "id": "OQ2EHmh5OZF6"
    },
    {
      "cell_type": "markdown",
      "source": [
        "Create dataframe from the Pages of text extracted from Wikipeida"
      ],
      "metadata": {
        "id": "U3g_GsqyhdBP"
      },
      "id": "U3g_GsqyhdBP"
    },
    {
      "cell_type": "code",
      "execution_count": null,
      "metadata": {
        "colab": {
          "base_uri": "https://localhost:8080/"
        },
        "id": "468KSWH-OZGE",
        "outputId": "0b7ee0bf-4f52-464d-e66b-a075e4830049"
      },
      "outputs": [
        {
          "output_type": "stream",
          "name": "stderr",
          "text": [
            "100%|██████████| 123/123 [01:05<00:00,  1.88it/s]"
          ]
        },
        {
          "output_type": "stream",
          "name": "stdout",
          "text": [
            "Done. Extracting table links..: 2877\n"
          ]
        },
        {
          "output_type": "stream",
          "name": "stderr",
          "text": [
            "\n"
          ]
        },
        {
          "output_type": "execute_result",
          "data": {
            "text/plain": [
              "(                                           wiki_text\n",
              " 0  A brake is a mechanical device that inhibits m...\n",
              " 1  Most brakes commonly use friction between two ...\n",
              " 2  Brakes are generally applied to rotating axles...\n",
              " 3  Since kinetic energy increases quadratically w...\n",
              " 4  Almost all wheeled vehicles have a brake of so..., 2877)"
            ]
          },
          "metadata": {},
          "execution_count": 4
        }
      ],
      "source": [
        "from collections import defaultdict\n",
        "from tqdm import tqdm\n",
        "from bs4 import BeautifulSoup\n",
        "\n",
        "# traverse pages for given categories\n",
        "page_list = getPages()\n",
        "wiki_text = defaultdict(list)\n",
        "\n",
        "for page in tqdm(page_list):\n",
        "    pageid = page['pageid']\n",
        "    wiki_url = 'http://en.wikipedia.org/?curid='+str(pageid)\n",
        "    #print(url)\n",
        "    \n",
        "#     if 'brake' not in wiki_url:\n",
        "#         continue\n",
        "    page = requests.get(wiki_url)\n",
        "\n",
        "    html = BeautifulSoup(page.text)\n",
        "    \n",
        "    paragraphs = html.find_all('p')\n",
        "    \n",
        "    for para in paragraphs:\n",
        "#         print(para)\n",
        "        if(len(para.text)>1):\n",
        "            wiki_text['wiki_text'].append(para.text)\n",
        "            \n",
        "print('Done. Extracting table links..:', len(wiki_text['wiki_text']))\n",
        "rqt_df = pd.DataFrame(wiki_text)\n",
        "rqt_df.head(), len(rqt_df)"
      ],
      "id": "468KSWH-OZGE"
    },
    {
      "cell_type": "markdown",
      "source": [
        "Utility Function for Clean Up"
      ],
      "metadata": {
        "id": "zi1iBJ-uhkrL"
      },
      "id": "zi1iBJ-uhkrL"
    },
    {
      "cell_type": "code",
      "execution_count": null,
      "metadata": {
        "id": "WqTZz6zkOZGM"
      },
      "outputs": [],
      "source": [
        "# function to preprocess rqt_text\n",
        "def clean(text):\n",
        "    \n",
        "    # removing paragraph numbers\n",
        "    text = re.sub('[0-9]+.','',str(text))\n",
        "    \n",
        "    # removing new line characters\n",
        "    text = re.sub('\\n ','',str(text))\n",
        "    # text = re.sub('\\n',' ',str(text))\n",
        "    \n",
        "    # removing apostrophes\n",
        "    text = re.sub(\"'s\",'',str(text))\n",
        "    \n",
        "    # removing hyphens\n",
        "    text = re.sub(\"-\",' ',str(text))\n",
        "    text = re.sub(\"— \",'',str(text))\n",
        "    # removing quotation marks\n",
        "    text = re.sub('\\\"','',str(text))\n",
        "\n",
        "    # removing any reference to outside text\n",
        "    text = re.sub(\"[\\(*?[\\)\\]\\[]\", \"\", str(text))\n",
        "    \n",
        "    # removing table tags\n",
        "    text = re.sub('&nbsp;', ' ', str(text))\n",
        "    text = re.sub('nbsp;', ' ', str(text))\n",
        "    \n",
        "    # removing table tags\n",
        "    text = re.sub('  ', ' ', str(text))\n",
        "    text = text.strip()\n",
        "    \n",
        "    return text"
      ],
      "id": "WqTZz6zkOZGM"
    },
    {
      "cell_type": "markdown",
      "source": [
        "Create a new column with cleaned up text"
      ],
      "metadata": {
        "id": "pUgwsYhkhvpq"
      },
      "id": "pUgwsYhkhvpq"
    },
    {
      "cell_type": "code",
      "execution_count": null,
      "metadata": {
        "colab": {
          "base_uri": "https://localhost:8080/",
          "height": 54
        },
        "id": "XqoP8dvdOZGS",
        "outputId": "3f28e540-9bfc-4185-ea21-856607670738"
      },
      "outputs": [
        {
          "output_type": "execute_result",
          "data": {
            "application/vnd.google.colaboratory.intrinsic+json": {
              "type": "string"
            },
            "text/plain": [
              "'A brake is a mechanical device that inhibits motion by absorbing energy from a moving system. It is used for slowing or stopping a moving vehicle, wheel, axle, or to prevent its motion, most often accomplished by means of friction.'"
            ]
          },
          "metadata": {},
          "execution_count": 6
        }
      ],
      "source": [
        "# preprocessing req_text\n",
        "rqt_df['text_clean'] = rqt_df['wiki_text'].apply(clean)\n",
        "rqt_df.loc[0, 'text_clean']"
      ],
      "id": "XqoP8dvdOZGS"
    },
    {
      "cell_type": "markdown",
      "source": [
        "Save the Brake wiki data to a CSV file   "
      ],
      "metadata": {
        "id": "-lRVJjlHh4b1"
      },
      "id": "-lRVJjlHh4b1"
    },
    {
      "cell_type": "code",
      "execution_count": null,
      "metadata": {
        "id": "uug7qeupOZGW"
      },
      "outputs": [],
      "source": [
        "rqt_df.to_csv('../data/wiki_brake_all_pages.csv') # -> to be sent for coref resolution"
      ],
      "id": "uug7qeupOZGW"
    }
  ],
  "metadata": {
    "kernelspec": {
      "display_name": "Python 3",
      "language": "python",
      "name": "python3"
    },
    "language_info": {
      "codemirror_mode": {
        "name": "ipython",
        "version": 3
      },
      "file_extension": ".py",
      "mimetype": "text/x-python",
      "name": "python",
      "nbconvert_exporter": "python",
      "pygments_lexer": "ipython3",
      "version": "3.8.5"
    },
    "colab": {
      "name": "navigating_wiki_categories.ipynb",
      "provenance": [],
      "collapsed_sections": [],
      "include_colab_link": true
    }
  },
  "nbformat": 4,
  "nbformat_minor": 5
}