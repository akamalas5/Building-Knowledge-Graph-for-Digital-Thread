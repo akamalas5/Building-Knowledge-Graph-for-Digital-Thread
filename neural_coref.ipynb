{
  "nbformat": 4,
  "nbformat_minor": 0,
  "metadata": {
    "colab": {
      "name": "neural_coref.ipynb",
      "provenance": [],
      "collapsed_sections": [],
      "machine_shape": "hm",
      "include_colab_link": true
    },
    "kernelspec": {
      "name": "python3",
      "display_name": "Python 3"
    },
    "language_info": {
      "name": "python"
    },
    "accelerator": "GPU"
  },
  "cells": [
    {
      "cell_type": "markdown",
      "metadata": {
        "id": "view-in-github",
        "colab_type": "text"
      },
      "source": [
        "<a href=\"https://colab.research.google.com/github/akamalas5/Capstone/blob/main/neural_coref.ipynb\" target=\"_parent\"><img src=\"https://colab.research.google.com/assets/colab-badge.svg\" alt=\"Open In Colab\"/></a>"
      ]
    },
    {
      "cell_type": "code",
      "metadata": {
        "colab": {
          "base_uri": "https://localhost:8080/"
        },
        "id": "9fY6-cznbMed",
        "outputId": "2424b6f5-d497-4135-f0f9-f24c1692d143"
      },
      "source": [
        "from google.colab import drive\n",
        "drive.mount('/content/drive')"
      ],
      "execution_count": 1,
      "outputs": [
        {
          "output_type": "stream",
          "name": "stdout",
          "text": [
            "Mounted at /content/drive\n"
          ]
        }
      ]
    },
    {
      "cell_type": "code",
      "metadata": {
        "id": "__pApUoVb0bq",
        "colab": {
          "base_uri": "https://localhost:8080/"
        },
        "outputId": "573de854-0ddf-4d2b-e130-f6be0ce00779"
      },
      "source": [
        "cd /content/drive/My Drive/myEnv"
      ],
      "execution_count": null,
      "outputs": [
        {
          "output_type": "stream",
          "name": "stdout",
          "text": [
            "/content/drive/My Drive/myEnv\n"
          ]
        }
      ]
    },
    {
      "cell_type": "code",
      "metadata": {
        "colab": {
          "base_uri": "https://localhost:8080/"
        },
        "id": "FPSFlXu1JGPI",
        "outputId": "a6e343bf-a09f-48cd-fbf0-c500d7a35011"
      },
      "source": [
        "!pip install -q condacolab\n",
        "import condacolab\n",
        "condacolab.install()"
      ],
      "execution_count": null,
      "outputs": [
        {
          "output_type": "stream",
          "name": "stdout",
          "text": [
            "⏬ Downloading https://github.com/jaimergp/miniforge/releases/latest/download/Mambaforge-colab-Linux-x86_64.sh...\n",
            "📦 Installing...\n",
            "📌 Adjusting configuration...\n",
            "🩹 Patching environment...\n",
            "⏲ Done in 0:00:27\n",
            "🔁 Restarting kernel...\n"
          ]
        }
      ]
    },
    {
      "cell_type": "code",
      "metadata": {
        "colab": {
          "base_uri": "https://localhost:8080/"
        },
        "id": "_YoZMTVZJBoi",
        "outputId": "2e4105fb-402a-4da6-f303-0225f7b03c22"
      },
      "source": [
        "!conda create --name neural_coref\n",
        "!conda info --envs\n"
      ],
      "execution_count": null,
      "outputs": [
        {
          "output_type": "stream",
          "name": "stdout",
          "text": [
            "Collecting package metadata (current_repodata.json): - \b\bdone\n",
            "Solving environment: | \b\bdone\n",
            "\n",
            "\n",
            "==> WARNING: A newer version of conda exists. <==\n",
            "  current version: 4.9.2\n",
            "  latest version: 4.11.0\n",
            "\n",
            "Please update conda by running\n",
            "\n",
            "    $ conda update -n base conda\n",
            "\n",
            "\n",
            "\n",
            "## Package Plan ##\n",
            "\n",
            "  environment location: /usr/local/envs/neural_coref\n",
            "\n",
            "\n",
            "\n",
            "Preparing transaction: - \b\bdone\n",
            "Verifying transaction: | \b\bdone\n",
            "Executing transaction: - \b\bdone\n",
            "#\n",
            "# To activate this environment, use\n",
            "#\n",
            "#     $ conda activate neural_coref\n",
            "#\n",
            "# To deactivate an active environment, use\n",
            "#\n",
            "#     $ conda deactivate\n",
            "\n",
            "# conda environments:\n",
            "#\n",
            "base                  *  /usr/local\n",
            "neural_coref             /usr/local/envs/neural_coref\n",
            "\n"
          ]
        }
      ]
    },
    {
      "cell_type": "code",
      "metadata": {
        "colab": {
          "base_uri": "https://localhost:8080/"
        },
        "id": "GL1oEhK2lXCg",
        "outputId": "dd5bb1e8-b30c-4347-863d-9b9f871ecfbb"
      },
      "source": [
        "!conda update -n base conda\n"
      ],
      "execution_count": null,
      "outputs": [
        {
          "output_type": "stream",
          "name": "stdout",
          "text": [
            "Collecting package metadata (current_repodata.json): - \b\b\\ \b\b| \b\b/ \b\b- \b\b\\ \b\b| \b\b/ \b\b- \b\b\\ \b\b| \b\bdone\n",
            "Solving environment: - \b\b\\ \b\b| \b\b/ \b\b- \b\b\\ \b\b| \b\b/ \b\b- \b\b\\ \b\b| \b\b/ \b\b- \b\b\\ \b\b| \b\b/ \b\b- \b\b\\ \b\bdone\n",
            "\n",
            "## Package Plan ##\n",
            "\n",
            "  environment location: /usr/local\n",
            "\n",
            "  added / updated specs:\n",
            "    - conda\n",
            "\n",
            "\n",
            "The following packages will be downloaded:\n",
            "\n",
            "    package                    |            build\n",
            "    ---------------------------|-----------------\n",
            "    brotlipy-0.7.0             |py37h5e8e339_1003         342 KB  conda-forge\n",
            "    c-ares-1.18.1              |       h7f98852_0         113 KB  conda-forge\n",
            "    ca-certificates-2021.10.8  |       ha878542_0         139 KB  conda-forge\n",
            "    certifi-2021.10.8          |   py37h89c1867_1         145 KB  conda-forge\n",
            "    cffi-1.15.0                |   py37h036bc23_0         225 KB  conda-forge\n",
            "    charset-normalizer-2.0.8   |     pyhd8ed1ab_0          34 KB  conda-forge\n",
            "    colorama-0.4.4             |     pyh9f0ad1d_0          18 KB  conda-forge\n",
            "    conda-4.11.0               |   py37h89c1867_0        16.9 MB  conda-forge\n",
            "    conda-package-handling-1.7.3|   py37h5e8e339_1        1008 KB  conda-forge\n",
            "    cryptography-36.0.0        |   py37hf1a17b8_0         1.7 MB  conda-forge\n",
            "    icu-69.1                   |       h9c3ff4c_0        13.2 MB  conda-forge\n",
            "    idna-3.1                   |     pyhd3deb0d_0          52 KB  conda-forge\n",
            "    krb5-1.19.2                |       hcc1bbae_3         1.4 MB  conda-forge\n",
            "    ld_impl_linux-64-2.36.1    |       hea4e1c9_2         667 KB  conda-forge\n",
            "    libarchive-3.5.2           |       hccf745f_1         1.6 MB  conda-forge\n",
            "    libcurl-7.80.0             |       h2574ce0_0         337 KB  conda-forge\n",
            "    libffi-3.4.2               |       h7f98852_5          57 KB  conda-forge\n",
            "    libgcc-ng-11.2.0           |      h1d223b6_11         887 KB  conda-forge\n",
            "    libgomp-11.2.0             |      h1d223b6_11         427 KB  conda-forge\n",
            "    libnghttp2-1.43.0          |       h812cca2_1         790 KB  conda-forge\n",
            "    libnsl-2.0.0               |       h7f98852_0          31 KB  conda-forge\n",
            "    libsolv-0.7.19             |       h780b84a_5         445 KB  conda-forge\n",
            "    libssh2-1.10.0             |       ha56f1ee_2         233 KB  conda-forge\n",
            "    libstdcxx-ng-11.2.0        |      he4da1e4_11         4.2 MB  conda-forge\n",
            "    libxml2-2.9.12             |       h885dcf4_1         760 KB  conda-forge\n",
            "    libzlib-1.2.11             |    h36c2ea0_1013          59 KB  conda-forge\n",
            "    lz4-c-1.9.3                |       h9c3ff4c_1         179 KB  conda-forge\n",
            "    openssl-1.1.1l             |       h7f98852_0         2.1 MB  conda-forge\n",
            "    pycosat-0.6.3              |py37h5e8e339_1009         107 KB  conda-forge\n",
            "    pycparser-2.21             |     pyhd8ed1ab_0         100 KB  conda-forge\n",
            "    pyopenssl-21.0.0           |     pyhd8ed1ab_0          48 KB  conda-forge\n",
            "    pysocks-1.7.1              |   py37h89c1867_4          28 KB  conda-forge\n",
            "    python-3.7.12              |hb7a2778_100_cpython        57.3 MB  conda-forge\n",
            "    python_abi-3.7             |          2_cp37m           4 KB  conda-forge\n",
            "    readline-8.1               |       h46c0cb4_0         295 KB  conda-forge\n",
            "    reproc-14.2.3              |       h7f98852_0          28 KB  conda-forge\n",
            "    reproc-cpp-14.2.3          |       h9c3ff4c_0          20 KB  conda-forge\n",
            "    requests-2.26.0            |     pyhd8ed1ab_1          52 KB  conda-forge\n",
            "    ruamel_yaml-0.15.80        |py37h5e8e339_1006         270 KB  conda-forge\n",
            "    setuptools-59.4.0          |   py37h89c1867_0        1016 KB  conda-forge\n",
            "    six-1.16.0                 |     pyh6c4a22f_0          14 KB  conda-forge\n",
            "    sqlite-3.37.0              |       h9cd32fc_0         1.5 MB  conda-forge\n",
            "    tk-8.6.11                  |       h27826a3_1         3.3 MB  conda-forge\n",
            "    tqdm-4.62.3                |     pyhd8ed1ab_0          80 KB  conda-forge\n",
            "    urllib3-1.26.7             |     pyhd8ed1ab_0         100 KB  conda-forge\n",
            "    wheel-0.37.0               |     pyhd8ed1ab_1          31 KB  conda-forge\n",
            "    zlib-1.2.11                |    h36c2ea0_1013          86 KB  conda-forge\n",
            "    zstd-1.5.0                 |       ha95c52a_0         490 KB  conda-forge\n",
            "    ------------------------------------------------------------\n",
            "                                           Total:       112.7 MB\n",
            "\n",
            "The following NEW packages will be INSTALLED:\n",
            "\n",
            "  charset-normalizer conda-forge/noarch::charset-normalizer-2.0.8-pyhd8ed1ab_0\n",
            "  colorama           conda-forge/noarch::colorama-0.4.4-pyh9f0ad1d_0\n",
            "  libnsl             conda-forge/linux-64::libnsl-2.0.0-h7f98852_0\n",
            "  libzlib            conda-forge/linux-64::libzlib-1.2.11-h36c2ea0_1013\n",
            "\n",
            "The following packages will be REMOVED:\n",
            "\n",
            "  chardet-4.0.0-py37h89c1867_1\n",
            "\n",
            "The following packages will be UPDATED:\n",
            "\n",
            "  brotlipy                          0.7.0-py37h5e8e339_1001 --> 0.7.0-py37h5e8e339_1003\n",
            "  c-ares                                  1.17.1-h7f98852_1 --> 1.18.1-h7f98852_0\n",
            "  ca-certificates                      2020.12.5-ha878542_0 --> 2021.10.8-ha878542_0\n",
            "  certifi                          2020.12.5-py37h89c1867_1 --> 2021.10.8-py37h89c1867_1\n",
            "  cffi                                1.14.5-py37hc58025e_0 --> 1.15.0-py37h036bc23_0\n",
            "  conda                                4.9.2-py37h89c1867_0 --> 4.11.0-py37h89c1867_0\n",
            "  conda-package-han~                   1.7.2-py37hb5d75c8_0 --> 1.7.3-py37h5e8e339_1\n",
            "  cryptography                         3.4.5-py37h5d9358c_1 --> 36.0.0-py37hf1a17b8_0\n",
            "  icu                                       68.1-h58526e2_0 --> 69.1-h9c3ff4c_0\n",
            "  idna                                    2.10-pyh9f0ad1d_0 --> 3.1-pyhd3deb0d_0\n",
            "  krb5                                    1.17.2-h926e7f8_0 --> 1.19.2-hcc1bbae_3\n",
            "  ld_impl_linux-64                        2.35.1-hea4e1c9_2 --> 2.36.1-hea4e1c9_2\n",
            "  libarchive                               3.5.1-h3f442fb_1 --> 3.5.2-hccf745f_1\n",
            "  libcurl                                 7.75.0-hc4aaa36_0 --> 7.80.0-h2574ce0_0\n",
            "  libffi                                     3.3-h58526e2_2 --> 3.4.2-h7f98852_5\n",
            "  libgcc-ng                               9.3.0-h2828fa1_18 --> 11.2.0-h1d223b6_11\n",
            "  libgomp                                 9.3.0-h2828fa1_18 --> 11.2.0-h1d223b6_11\n",
            "  libnghttp2                              1.43.0-h812cca2_0 --> 1.43.0-h812cca2_1\n",
            "  libsolv                                 0.7.17-h780b84a_0 --> 0.7.19-h780b84a_5\n",
            "  libssh2                                  1.9.0-ha56f1ee_6 --> 1.10.0-ha56f1ee_2\n",
            "  libstdcxx-ng                            9.3.0-h6de172a_18 --> 11.2.0-he4da1e4_11\n",
            "  libxml2                                 2.9.10-h72842e0_3 --> 2.9.12-h885dcf4_1\n",
            "  lz4-c                                    1.9.3-h9c3ff4c_0 --> 1.9.3-h9c3ff4c_1\n",
            "  openssl                                 1.1.1j-h7f98852_0 --> 1.1.1l-h7f98852_0\n",
            "  pycosat                           0.6.3-py37h5e8e339_1006 --> 0.6.3-py37h5e8e339_1009\n",
            "  pycparser                               2.20-pyh9f0ad1d_2 --> 2.21-pyhd8ed1ab_0\n",
            "  pyopenssl                             20.0.1-pyhd8ed1ab_0 --> 21.0.0-pyhd8ed1ab_0\n",
            "  pysocks                              1.7.1-py37h89c1867_3 --> 1.7.1-py37h89c1867_4\n",
            "  python                        3.7.10-hffdb5ce_100_cpython --> 3.7.12-hb7a2778_100_cpython\n",
            "  python_abi                                    3.7-1_cp37m --> 3.7-2_cp37m\n",
            "  readline                                   8.0-he28a2e2_2 --> 8.1-h46c0cb4_0\n",
            "  reproc                                  14.2.1-h36c2ea0_0 --> 14.2.3-h7f98852_0\n",
            "  reproc-cpp                              14.2.1-h58526e2_0 --> 14.2.3-h9c3ff4c_0\n",
            "  requests                              2.25.1-pyhd3deb0d_0 --> 2.26.0-pyhd8ed1ab_1\n",
            "  ruamel_yaml                     0.15.80-py37h5e8e339_1004 --> 0.15.80-py37h5e8e339_1006\n",
            "  setuptools                          49.6.0-py37h89c1867_3 --> 59.4.0-py37h89c1867_0\n",
            "  six                                   1.15.0-pyh9f0ad1d_0 --> 1.16.0-pyh6c4a22f_0\n",
            "  sqlite                                  3.34.0-h74cdb3f_0 --> 3.37.0-h9cd32fc_0\n",
            "  tk                                      8.6.10-h21135ba_1 --> 8.6.11-h27826a3_1\n",
            "  tqdm                                  4.59.0-pyhd8ed1ab_0 --> 4.62.3-pyhd8ed1ab_0\n",
            "  urllib3                               1.26.3-pyhd8ed1ab_0 --> 1.26.7-pyhd8ed1ab_0\n",
            "  wheel                                 0.36.2-pyhd3deb0d_0 --> 0.37.0-pyhd8ed1ab_1\n",
            "  zlib                                 1.2.11-h516909a_1010 --> 1.2.11-h36c2ea0_1013\n",
            "  zstd                                     1.4.9-ha95c52a_0 --> 1.5.0-ha95c52a_0\n",
            "\n",
            "\n",
            "\n",
            "Downloading and Extracting Packages\n",
            "openssl-1.1.1l       | 2.1 MB    | : 100% 1.0/1 [00:00<00:00,  1.94it/s]\n",
            "libzlib-1.2.11       | 59 KB     | : 100% 1.0/1 [00:00<00:00, 19.34it/s]\n",
            "certifi-2021.10.8    | 145 KB    | : 100% 1.0/1 [00:00<00:00, 13.79it/s]\n",
            "pysocks-1.7.1        | 28 KB     | : 100% 1.0/1 [00:00<00:00, 18.87it/s]\n",
            "setuptools-59.4.0    | 1016 KB   | : 100% 1.0/1 [00:00<00:00,  3.77it/s]\n",
            "libnsl-2.0.0         | 31 KB     | : 100% 1.0/1 [00:00<00:00, 20.82it/s]\n",
            "krb5-1.19.2          | 1.4 MB    | : 100% 1.0/1 [00:00<00:00,  3.74it/s]\n",
            "requests-2.26.0      | 52 KB     | : 100% 1.0/1 [00:00<00:00, 18.03it/s]\n",
            "six-1.16.0           | 14 KB     | : 100% 1.0/1 [00:00<00:00, 22.19it/s]\n",
            "pycosat-0.6.3        | 107 KB    | : 100% 1.0/1 [00:00<00:00, 16.98it/s]\n",
            "zstd-1.5.0           | 490 KB    | : 100% 1.0/1 [00:00<00:00,  9.38it/s]\n",
            "zlib-1.2.11          | 86 KB     | : 100% 1.0/1 [00:00<00:00, 20.66it/s]\n",
            "ld_impl_linux-64-2.3 | 667 KB    | : 100% 1.0/1 [00:00<00:00,  6.05it/s]\n",
            "tqdm-4.62.3          | 80 KB     | : 100% 1.0/1 [00:00<00:00, 19.29it/s]\n",
            "tk-8.6.11            | 3.3 MB    | : 100% 1.0/1 [00:00<00:00,  1.80it/s]\n",
            "pycparser-2.21       | 100 KB    | : 100% 1.0/1 [00:00<00:00, 14.37it/s]\n",
            "brotlipy-0.7.0       | 342 KB    | : 100% 1.0/1 [00:00<00:00, 11.64it/s]\n",
            "pyopenssl-21.0.0     | 48 KB     | : 100% 1.0/1 [00:00<00:00, 19.75it/s]\n",
            "reproc-14.2.3        | 28 KB     | : 100% 1.0/1 [00:00<00:00, 23.75it/s]\n",
            "libarchive-3.5.2     | 1.6 MB    | : 100% 1.0/1 [00:00<00:00,  3.62it/s]\n",
            "ca-certificates-2021 | 139 KB    | : 100% 1.0/1 [00:00<00:00, 17.23it/s]\n",
            "readline-8.1         | 295 KB    | : 100% 1.0/1 [00:00<00:00, 11.68it/s]\n",
            "sqlite-3.37.0        | 1.5 MB    | : 100% 1.0/1 [00:00<00:00,  4.50it/s]\n",
            "icu-69.1             | 13.2 MB   | : 100% 1.0/1 [00:01<00:00,  1.84s/it]\n",
            "python_abi-3.7       | 4 KB      | : 100% 1.0/1 [00:00<00:00, 20.91it/s]\n",
            "urllib3-1.26.7       | 100 KB    | : 100% 1.0/1 [00:00<00:00, 15.10it/s]\n",
            "python-3.7.12        | 57.3 MB   | : 100% 1.0/1 [00:06<00:00,  6.80s/it]\n",
            "charset-normalizer-2 | 34 KB     | : 100% 1.0/1 [00:00<00:00, 17.66it/s]\n",
            "c-ares-1.18.1        | 113 KB    | : 100% 1.0/1 [00:00<00:00, 17.02it/s]\n",
            "libxml2-2.9.12       | 760 KB    | : 100% 1.0/1 [00:00<00:00,  5.37it/s]\n",
            "cffi-1.15.0          | 225 KB    | : 100% 1.0/1 [00:00<00:00, 12.06it/s]\n",
            "libnghttp2-1.43.0    | 790 KB    | : 100% 1.0/1 [00:00<00:00,  5.27it/s]\n",
            "libstdcxx-ng-11.2.0  | 4.2 MB    | : 100% 1.0/1 [00:00<00:00,  1.68it/s]\n",
            "libgomp-11.2.0       | 427 KB    | : 100% 1.0/1 [00:00<00:00, 11.38it/s]\n",
            "wheel-0.37.0         | 31 KB     | : 100% 1.0/1 [00:00<00:00, 15.06it/s]\n",
            "libsolv-0.7.19       | 445 KB    | : 100% 1.0/1 [00:00<00:00,  9.18it/s]\n",
            "conda-package-handli | 1008 KB   | : 100% 1.0/1 [00:00<00:00,  5.70it/s]\n",
            "reproc-cpp-14.2.3    | 20 KB     | : 100% 1.0/1 [00:00<00:00, 21.51it/s]\n",
            "libssh2-1.10.0       | 233 KB    | : 100% 1.0/1 [00:00<00:00, 12.23it/s]\n",
            "idna-3.1             | 52 KB     | : 100% 1.0/1 [00:00<00:00, 20.54it/s]\n",
            "libffi-3.4.2         | 57 KB     | : 100% 1.0/1 [00:00<00:00, 18.10it/s]\n",
            "libgcc-ng-11.2.0     | 887 KB    | : 100% 1.0/1 [00:00<00:00,  6.44it/s]\n",
            "colorama-0.4.4       | 18 KB     | : 100% 1.0/1 [00:00<00:00, 20.33it/s]\n",
            "conda-4.11.0         | 16.9 MB   | : 100% 1.0/1 [00:03<00:00,  3.20s/it]               \n",
            "cryptography-36.0.0  | 1.7 MB    | : 100% 1.0/1 [00:00<00:00,  2.96it/s]\n",
            "libcurl-7.80.0       | 337 KB    | : 100% 1.0/1 [00:00<00:00, 11.31it/s]\n",
            "ruamel_yaml-0.15.80  | 270 KB    | : 100% 1.0/1 [00:00<00:00, 11.61it/s]\n",
            "lz4-c-1.9.3          | 179 KB    | : 100% 1.0/1 [00:00<00:00, 14.02it/s]\n",
            "Preparing transaction: / \b\b- \b\b\\ \b\bdone\n",
            "Verifying transaction: / \b\b- \b\b\\ \b\b| \b\b/ \b\b- \b\b\\ \b\b| \b\b/ \b\b- \b\b\\ \b\b| \b\b/ \b\bdone\n",
            "Executing transaction: \\ \b\b| \b\b/ \b\b- \b\b\\ \b\b| \b\b/ \b\b- \b\b\\ \b\b| \b\b/ \b\bdone\n"
          ]
        }
      ]
    },
    {
      "cell_type": "code",
      "metadata": {
        "colab": {
          "base_uri": "https://localhost:8080/"
        },
        "id": "5Htr8VMdlrRb",
        "outputId": "0a22636c-91be-4c22-df6d-ff81f13cc8cf"
      },
      "source": [
        "!conda init bash"
      ],
      "execution_count": null,
      "outputs": [
        {
          "output_type": "stream",
          "name": "stdout",
          "text": [
            "no change     /usr/local/condabin/conda\n",
            "no change     /usr/local/bin/conda\n",
            "no change     /usr/local/bin/conda-env\n",
            "no change     /usr/local/bin/activate\n",
            "no change     /usr/local/bin/deactivate\n",
            "no change     /usr/local/etc/profile.d/conda.sh\n",
            "no change     /usr/local/etc/fish/conf.d/conda.fish\n",
            "no change     /usr/local/shell/condabin/Conda.psm1\n",
            "no change     /usr/local/shell/condabin/conda-hook.ps1\n",
            "no change     /usr/local/lib/python3.7/site-packages/xontrib/conda.xsh\n",
            "no change     /usr/local/etc/profile.d/conda.csh\n",
            "modified      /root/.bashrc\n",
            "\n",
            "==> For changes to take effect, close and re-open your current shell. <==\n",
            "\n"
          ]
        }
      ]
    },
    {
      "cell_type": "code",
      "metadata": {
        "colab": {
          "base_uri": "https://localhost:8080/"
        },
        "id": "NKD7vAZDLp8f",
        "outputId": "3967cf3e-77da-4860-8351-83dd4396ac10"
      },
      "source": [
        "!conda activate neural_coref\n"
      ],
      "execution_count": null,
      "outputs": [
        {
          "output_type": "stream",
          "name": "stdout",
          "text": [
            "\n",
            "CommandNotFoundError: Your shell has not been properly configured to use 'conda activate'.\n",
            "To initialize your shell, run\n",
            "\n",
            "    $ conda init <SHELL_NAME>\n",
            "\n",
            "Currently supported shells are:\n",
            "  - bash\n",
            "  - fish\n",
            "  - tcsh\n",
            "  - xonsh\n",
            "  - zsh\n",
            "  - powershell\n",
            "\n",
            "See 'conda init --help' for more information and options.\n",
            "\n",
            "IMPORTANT: You may need to close and restart your shell after running 'conda init'.\n",
            "\n",
            "\n"
          ]
        }
      ]
    },
    {
      "cell_type": "code",
      "metadata": {
        "colab": {
          "base_uri": "https://localhost:8080/"
        },
        "id": "mN62-4ViL24x",
        "outputId": "aacb2dde-9d7f-4078-e1ba-ca41103685da"
      },
      "source": [
        "!apt-get install python3.7"
      ],
      "execution_count": null,
      "outputs": [
        {
          "output_type": "stream",
          "name": "stdout",
          "text": [
            "Reading package lists... Done\n",
            "Building dependency tree       \n",
            "Reading state information... Done\n",
            "python3.7 is already the newest version (3.7.12-1+bionic1).\n",
            "0 upgraded, 0 newly installed, 0 to remove and 37 not upgraded.\n"
          ]
        }
      ]
    },
    {
      "cell_type": "code",
      "metadata": {
        "colab": {
          "base_uri": "https://localhost:8080/",
          "height": 1000
        },
        "id": "UamM6wvhMcLU",
        "outputId": "284d86f9-5f88-4c9e-cf8d-2ca88d309bb0"
      },
      "source": [
        "!pip install spacy==2.1.0\n",
        "!pip install neuralcoref\n",
        "!pip install https://github.com/explosion/spacy-models/releases//download/en_core_web_lg-2.1.0/en_core_web_lg-2.1.0.tar.gz"
      ],
      "execution_count": null,
      "outputs": [
        {
          "output_type": "stream",
          "name": "stdout",
          "text": [
            "Collecting spacy==2.1.0\n",
            "  Downloading spacy-2.1.0-cp37-cp37m-manylinux1_x86_64.whl (27.7 MB)\n",
            "\u001b[K     |████████████████████████████████| 27.7 MB 97.2 MB/s \n",
            "\u001b[?25hCollecting blis<0.3.0,>=0.2.2\n",
            "  Downloading blis-0.2.4-cp37-cp37m-manylinux1_x86_64.whl (3.2 MB)\n",
            "\u001b[K     |████████████████████████████████| 3.2 MB 59.1 MB/s \n",
            "\u001b[?25hCollecting wasabi<1.1.0,>=0.0.12\n",
            "  Downloading wasabi-0.8.2-py3-none-any.whl (23 kB)\n",
            "Collecting cymem<2.1.0,>=2.0.2\n",
            "  Downloading cymem-2.0.6-cp37-cp37m-manylinux_2_17_x86_64.manylinux2014_x86_64.whl (35 kB)\n",
            "Collecting murmurhash<1.1.0,>=0.28.0\n",
            "  Downloading murmurhash-1.0.6-cp37-cp37m-manylinux_2_5_x86_64.manylinux1_x86_64.manylinux_2_17_x86_64.manylinux2014_x86_64.whl (21 kB)\n",
            "Collecting numpy>=1.15.0\n",
            "  Downloading numpy-1.21.4-cp37-cp37m-manylinux_2_12_x86_64.manylinux2010_x86_64.whl (15.7 MB)\n",
            "\u001b[K     |████████████████████████████████| 15.7 MB 61.9 MB/s \n",
            "\u001b[?25hCollecting jsonschema<3.0.0,>=2.6.0\n",
            "  Downloading jsonschema-2.6.0-py2.py3-none-any.whl (39 kB)\n",
            "Collecting plac<1.0.0,>=0.9.6\n",
            "  Downloading plac-0.9.6-py2.py3-none-any.whl (20 kB)\n",
            "Requirement already satisfied: requests<3.0.0,>=2.13.0 in /usr/local/lib/python3.7/site-packages (from spacy==2.1.0) (2.25.1)\n",
            "Collecting srsly<1.1.0,>=0.0.5\n",
            "  Downloading srsly-1.0.5-cp37-cp37m-manylinux2014_x86_64.whl (184 kB)\n",
            "\u001b[K     |████████████████████████████████| 184 kB 76.7 MB/s \n",
            "\u001b[?25hCollecting preshed<2.1.0,>=2.0.1\n",
            "  Downloading preshed-2.0.1-cp37-cp37m-manylinux1_x86_64.whl (82 kB)\n",
            "\u001b[K     |████████████████████████████████| 82 kB 522 kB/s \n",
            "\u001b[?25hCollecting thinc<7.1.0,>=7.0.2\n",
            "  Downloading thinc-7.0.8-cp37-cp37m-manylinux1_x86_64.whl (2.1 MB)\n",
            "\u001b[K     |████████████████████████████████| 2.1 MB 71.6 MB/s \n",
            "\u001b[?25hRequirement already satisfied: idna<3,>=2.5 in /usr/local/lib/python3.7/site-packages (from requests<3.0.0,>=2.13.0->spacy==2.1.0) (2.10)\n",
            "Requirement already satisfied: urllib3<1.27,>=1.21.1 in /usr/local/lib/python3.7/site-packages (from requests<3.0.0,>=2.13.0->spacy==2.1.0) (1.26.3)\n",
            "Requirement already satisfied: certifi>=2017.4.17 in /usr/local/lib/python3.7/site-packages (from requests<3.0.0,>=2.13.0->spacy==2.1.0) (2020.12.5)\n",
            "Requirement already satisfied: chardet<5,>=3.0.2 in /usr/local/lib/python3.7/site-packages (from requests<3.0.0,>=2.13.0->spacy==2.1.0) (4.0.0)\n",
            "Requirement already satisfied: tqdm<5.0.0,>=4.10.0 in /usr/local/lib/python3.7/site-packages (from thinc<7.1.0,>=7.0.2->spacy==2.1.0) (4.59.0)\n",
            "Installing collected packages: numpy, cymem, wasabi, srsly, preshed, plac, murmurhash, blis, thinc, jsonschema, spacy\n",
            "Successfully installed blis-0.2.4 cymem-2.0.6 jsonschema-2.6.0 murmurhash-1.0.6 numpy-1.21.4 plac-0.9.6 preshed-2.0.1 spacy-2.1.0 srsly-1.0.5 thinc-7.0.8 wasabi-0.8.2\n"
          ]
        },
        {
          "output_type": "display_data",
          "data": {
            "application/vnd.colab-display-data+json": {
              "pip_warning": {
                "packages": [
                  "cymem",
                  "jsonschema",
                  "murmurhash",
                  "srsly",
                  "wasabi"
                ]
              }
            }
          },
          "metadata": {}
        },
        {
          "output_type": "stream",
          "name": "stdout",
          "text": [
            "Collecting neuralcoref\n",
            "  Downloading neuralcoref-4.0-cp37-cp37m-manylinux1_x86_64.whl (286 kB)\n",
            "\u001b[?25l\r\u001b[K     |█▏                              | 10 kB 6.2 MB/s eta 0:00:01\r\u001b[K     |██▎                             | 20 kB 6.5 MB/s eta 0:00:01\r\u001b[K     |███▍                            | 30 kB 5.6 MB/s eta 0:00:01\r\u001b[K     |████▋                           | 40 kB 3.4 MB/s eta 0:00:01\r\u001b[K     |█████▊                          | 51 kB 3.7 MB/s eta 0:00:01\r\u001b[K     |██████▉                         | 61 kB 3.9 MB/s eta 0:00:01\r\u001b[K     |████████                        | 71 kB 4.0 MB/s eta 0:00:01\r\u001b[K     |█████████▏                      | 81 kB 4.6 MB/s eta 0:00:01\r\u001b[K     |██████████▎                     | 92 kB 4.7 MB/s eta 0:00:01\r\u001b[K     |███████████▌                    | 102 kB 3.9 MB/s eta 0:00:01\r\u001b[K     |████████████▋                   | 112 kB 3.9 MB/s eta 0:00:01\r\u001b[K     |█████████████▊                  | 122 kB 3.9 MB/s eta 0:00:01\r\u001b[K     |██████████████▉                 | 133 kB 3.9 MB/s eta 0:00:01\r\u001b[K     |████████████████                | 143 kB 3.9 MB/s eta 0:00:01\r\u001b[K     |█████████████████▏              | 153 kB 3.9 MB/s eta 0:00:01\r\u001b[K     |██████████████████▎             | 163 kB 3.9 MB/s eta 0:00:01\r\u001b[K     |███████████████████▌            | 174 kB 3.9 MB/s eta 0:00:01\r\u001b[K     |████████████████████▋           | 184 kB 3.9 MB/s eta 0:00:01\r\u001b[K     |█████████████████████▊          | 194 kB 3.9 MB/s eta 0:00:01\r\u001b[K     |███████████████████████         | 204 kB 3.9 MB/s eta 0:00:01\r\u001b[K     |████████████████████████        | 215 kB 3.9 MB/s eta 0:00:01\r\u001b[K     |█████████████████████████▏      | 225 kB 3.9 MB/s eta 0:00:01\r\u001b[K     |██████████████████████████▎     | 235 kB 3.9 MB/s eta 0:00:01\r\u001b[K     |███████████████████████████▌    | 245 kB 3.9 MB/s eta 0:00:01\r\u001b[K     |████████████████████████████▋   | 256 kB 3.9 MB/s eta 0:00:01\r\u001b[K     |█████████████████████████████▊  | 266 kB 3.9 MB/s eta 0:00:01\r\u001b[K     |███████████████████████████████ | 276 kB 3.9 MB/s eta 0:00:01\r\u001b[K     |████████████████████████████████| 286 kB 3.9 MB/s \n",
            "\u001b[?25hRequirement already satisfied: numpy>=1.15.0 in /usr/local/lib/python3.7/site-packages (from neuralcoref) (1.21.4)\n",
            "Requirement already satisfied: spacy>=2.1.0 in /usr/local/lib/python3.7/site-packages (from neuralcoref) (2.1.0)\n",
            "Requirement already satisfied: requests<3.0.0,>=2.13.0 in /usr/local/lib/python3.7/site-packages (from neuralcoref) (2.25.1)\n",
            "Collecting boto3\n",
            "  Downloading boto3-1.20.13-py3-none-any.whl (131 kB)\n",
            "\u001b[K     |████████████████████████████████| 131 kB 72.0 MB/s \n",
            "\u001b[?25hRequirement already satisfied: idna<3,>=2.5 in /usr/local/lib/python3.7/site-packages (from requests<3.0.0,>=2.13.0->neuralcoref) (2.10)\n",
            "Requirement already satisfied: urllib3<1.27,>=1.21.1 in /usr/local/lib/python3.7/site-packages (from requests<3.0.0,>=2.13.0->neuralcoref) (1.26.3)\n",
            "Requirement already satisfied: certifi>=2017.4.17 in /usr/local/lib/python3.7/site-packages (from requests<3.0.0,>=2.13.0->neuralcoref) (2020.12.5)\n",
            "Requirement already satisfied: chardet<5,>=3.0.2 in /usr/local/lib/python3.7/site-packages (from requests<3.0.0,>=2.13.0->neuralcoref) (4.0.0)\n",
            "Requirement already satisfied: cymem<2.1.0,>=2.0.2 in /usr/local/lib/python3.7/site-packages (from spacy>=2.1.0->neuralcoref) (2.0.6)\n",
            "Requirement already satisfied: preshed<2.1.0,>=2.0.1 in /usr/local/lib/python3.7/site-packages (from spacy>=2.1.0->neuralcoref) (2.0.1)\n",
            "Requirement already satisfied: thinc<7.1.0,>=7.0.2 in /usr/local/lib/python3.7/site-packages (from spacy>=2.1.0->neuralcoref) (7.0.8)\n",
            "Requirement already satisfied: srsly<1.1.0,>=0.0.5 in /usr/local/lib/python3.7/site-packages (from spacy>=2.1.0->neuralcoref) (1.0.5)\n",
            "Requirement already satisfied: wasabi<1.1.0,>=0.0.12 in /usr/local/lib/python3.7/site-packages (from spacy>=2.1.0->neuralcoref) (0.8.2)\n",
            "Requirement already satisfied: plac<1.0.0,>=0.9.6 in /usr/local/lib/python3.7/site-packages (from spacy>=2.1.0->neuralcoref) (0.9.6)\n",
            "Requirement already satisfied: blis<0.3.0,>=0.2.2 in /usr/local/lib/python3.7/site-packages (from spacy>=2.1.0->neuralcoref) (0.2.4)\n",
            "Requirement already satisfied: jsonschema<3.0.0,>=2.6.0 in /usr/local/lib/python3.7/site-packages (from spacy>=2.1.0->neuralcoref) (2.6.0)\n",
            "Requirement already satisfied: murmurhash<1.1.0,>=0.28.0 in /usr/local/lib/python3.7/site-packages (from spacy>=2.1.0->neuralcoref) (1.0.6)\n",
            "Requirement already satisfied: tqdm<5.0.0,>=4.10.0 in /usr/local/lib/python3.7/site-packages (from thinc<7.1.0,>=7.0.2->spacy>=2.1.0->neuralcoref) (4.59.0)\n",
            "Collecting botocore<1.24.0,>=1.23.13\n",
            "  Downloading botocore-1.23.13-py3-none-any.whl (8.2 MB)\n",
            "\u001b[K     |████████████████████████████████| 8.2 MB 57.0 MB/s \n",
            "\u001b[?25hCollecting jmespath<1.0.0,>=0.7.1\n",
            "  Downloading jmespath-0.10.0-py2.py3-none-any.whl (24 kB)\n",
            "Collecting s3transfer<0.6.0,>=0.5.0\n",
            "  Downloading s3transfer-0.5.0-py3-none-any.whl (79 kB)\n",
            "\u001b[K     |████████████████████████████████| 79 kB 10.5 MB/s \n",
            "\u001b[?25hCollecting python-dateutil<3.0.0,>=2.1\n",
            "  Downloading python_dateutil-2.8.2-py2.py3-none-any.whl (247 kB)\n",
            "\u001b[K     |████████████████████████████████| 247 kB 106.3 MB/s \n",
            "\u001b[?25hRequirement already satisfied: six>=1.5 in /usr/local/lib/python3.7/site-packages (from python-dateutil<3.0.0,>=2.1->botocore<1.24.0,>=1.23.13->boto3->neuralcoref) (1.15.0)\n",
            "Installing collected packages: python-dateutil, jmespath, botocore, s3transfer, boto3, neuralcoref\n",
            "Successfully installed boto3-1.20.13 botocore-1.23.13 jmespath-0.10.0 neuralcoref-4.0 python-dateutil-2.8.2 s3transfer-0.5.0\n"
          ]
        },
        {
          "output_type": "display_data",
          "data": {
            "application/vnd.colab-display-data+json": {
              "pip_warning": {
                "packages": [
                  "dateutil"
                ]
              }
            }
          },
          "metadata": {}
        },
        {
          "output_type": "stream",
          "name": "stdout",
          "text": [
            "Collecting https://github.com/explosion/spacy-models/releases//download/en_core_web_lg-2.1.0/en_core_web_lg-2.1.0.tar.gz\n",
            "  Downloading https://github.com/explosion/spacy-models/releases//download/en_core_web_lg-2.1.0/en_core_web_lg-2.1.0.tar.gz (826.9 MB)\n",
            "\u001b[K     |████████████████████████████████| 826.9 MB 20 kB/s \n",
            "\u001b[?25hRequirement already satisfied: spacy>=2.1.0 in /usr/local/lib/python3.7/site-packages (from en-core-web-lg==2.1.0) (2.1.0)\n",
            "Requirement already satisfied: requests<3.0.0,>=2.13.0 in /usr/local/lib/python3.7/site-packages (from spacy>=2.1.0->en-core-web-lg==2.1.0) (2.25.1)\n",
            "Requirement already satisfied: wasabi<1.1.0,>=0.0.12 in /usr/local/lib/python3.7/site-packages (from spacy>=2.1.0->en-core-web-lg==2.1.0) (0.8.2)\n",
            "Requirement already satisfied: blis<0.3.0,>=0.2.2 in /usr/local/lib/python3.7/site-packages (from spacy>=2.1.0->en-core-web-lg==2.1.0) (0.2.4)\n",
            "Requirement already satisfied: numpy>=1.15.0 in /usr/local/lib/python3.7/site-packages (from spacy>=2.1.0->en-core-web-lg==2.1.0) (1.21.4)\n",
            "Requirement already satisfied: cymem<2.1.0,>=2.0.2 in /usr/local/lib/python3.7/site-packages (from spacy>=2.1.0->en-core-web-lg==2.1.0) (2.0.6)\n",
            "Requirement already satisfied: srsly<1.1.0,>=0.0.5 in /usr/local/lib/python3.7/site-packages (from spacy>=2.1.0->en-core-web-lg==2.1.0) (1.0.5)\n",
            "Requirement already satisfied: thinc<7.1.0,>=7.0.2 in /usr/local/lib/python3.7/site-packages (from spacy>=2.1.0->en-core-web-lg==2.1.0) (7.0.8)\n",
            "Requirement already satisfied: plac<1.0.0,>=0.9.6 in /usr/local/lib/python3.7/site-packages (from spacy>=2.1.0->en-core-web-lg==2.1.0) (0.9.6)\n",
            "Requirement already satisfied: jsonschema<3.0.0,>=2.6.0 in /usr/local/lib/python3.7/site-packages (from spacy>=2.1.0->en-core-web-lg==2.1.0) (2.6.0)\n",
            "Requirement already satisfied: preshed<2.1.0,>=2.0.1 in /usr/local/lib/python3.7/site-packages (from spacy>=2.1.0->en-core-web-lg==2.1.0) (2.0.1)\n",
            "Requirement already satisfied: murmurhash<1.1.0,>=0.28.0 in /usr/local/lib/python3.7/site-packages (from spacy>=2.1.0->en-core-web-lg==2.1.0) (1.0.6)\n",
            "Requirement already satisfied: chardet<5,>=3.0.2 in /usr/local/lib/python3.7/site-packages (from requests<3.0.0,>=2.13.0->spacy>=2.1.0->en-core-web-lg==2.1.0) (4.0.0)\n",
            "Requirement already satisfied: idna<3,>=2.5 in /usr/local/lib/python3.7/site-packages (from requests<3.0.0,>=2.13.0->spacy>=2.1.0->en-core-web-lg==2.1.0) (2.10)\n",
            "Requirement already satisfied: certifi>=2017.4.17 in /usr/local/lib/python3.7/site-packages (from requests<3.0.0,>=2.13.0->spacy>=2.1.0->en-core-web-lg==2.1.0) (2020.12.5)\n",
            "Requirement already satisfied: urllib3<1.27,>=1.21.1 in /usr/local/lib/python3.7/site-packages (from requests<3.0.0,>=2.13.0->spacy>=2.1.0->en-core-web-lg==2.1.0) (1.26.3)\n",
            "Requirement already satisfied: tqdm<5.0.0,>=4.10.0 in /usr/local/lib/python3.7/site-packages (from thinc<7.1.0,>=7.0.2->spacy>=2.1.0->en-core-web-lg==2.1.0) (4.59.0)\n",
            "Building wheels for collected packages: en-core-web-lg\n",
            "  Building wheel for en-core-web-lg (setup.py) ... \u001b[?25l\u001b[?25hdone\n",
            "  Created wheel for en-core-web-lg: filename=en_core_web_lg-2.1.0-py3-none-any.whl size=828255075 sha256=e719b6233f3f48d5a729843e6e2b7b109e174e2dd4d475bf2176a96e474d74b4\n",
            "  Stored in directory: /root/.cache/pip/wheels/26/0b/83/1848f0f2bf9022e2195aea917615e61573a70367c21b5ae4b7\n",
            "Successfully built en-core-web-lg\n",
            "Installing collected packages: en-core-web-lg\n",
            "Successfully installed en-core-web-lg-2.1.0\n"
          ]
        }
      ]
    },
    {
      "cell_type": "code",
      "metadata": {
        "colab": {
          "base_uri": "https://localhost:8080/"
        },
        "id": "4F3donwVMo1Z",
        "outputId": "74ff79cd-b58e-4c22-d68b-3a92c7bb9a67"
      },
      "source": [
        "import pandas as pd\n",
        "import re\n",
        "import spacy\n",
        "import neuralcoref\n",
        "import en_core_web_lg\n",
        "\n",
        "nlp = en_core_web_lg.load()\n",
        "neuralcoref.add_to_pipe(nlp)"
      ],
      "execution_count": null,
      "outputs": [
        {
          "output_type": "stream",
          "name": "stderr",
          "text": [
            "/usr/lib/python3.7/importlib/_bootstrap.py:219: RuntimeWarning: spacy.morphology.Morphology size changed, may indicate binary incompatibility. Expected 104 from C header, got 112 from PyObject\n",
            "  return f(*args, **kwds)\n",
            "/usr/lib/python3.7/importlib/_bootstrap.py:219: RuntimeWarning: spacy.vocab.Vocab size changed, may indicate binary incompatibility. Expected 96 from C header, got 104 from PyObject\n",
            "  return f(*args, **kwds)\n",
            "/usr/lib/python3.7/importlib/_bootstrap.py:219: RuntimeWarning: spacy.tokens.span.Span size changed, may indicate binary incompatibility. Expected 72 from C header, got 80 from PyObject\n",
            "  return f(*args, **kwds)\n",
            "100%|██████████| 40155833/40155833 [00:04<00:00, 8185624.02B/s] \n"
          ]
        },
        {
          "output_type": "execute_result",
          "data": {
            "text/plain": [
              "<spacy.lang.en.English at 0x7fa62af3e810>"
            ]
          },
          "metadata": {},
          "execution_count": 6
        }
      ]
    },
    {
      "cell_type": "code",
      "metadata": {
        "colab": {
          "base_uri": "https://localhost:8080/"
        },
        "id": "pZwkwetUzEM9",
        "outputId": "54ddd843-2a60-46b0-e4a1-5b7388e1a7ff"
      },
      "source": [
        "cd /content/drive/My Drive/myEnv"
      ],
      "execution_count": null,
      "outputs": [
        {
          "output_type": "stream",
          "name": "stdout",
          "text": [
            "/content/drive/My Drive/myEnv\n"
          ]
        }
      ]
    },
    {
      "cell_type": "code",
      "metadata": {
        "id": "Bs88bhzS-F5m"
      },
      "source": [
        ""
      ],
      "execution_count": null,
      "outputs": []
    },
    {
      "cell_type": "code",
      "metadata": {
        "id": "dnfmXt9Tb0kp"
      },
      "source": [
        "from bs4 import BeautifulSoup\n",
        "import requests"
      ],
      "execution_count": null,
      "outputs": []
    },
    {
      "cell_type": "code",
      "metadata": {
        "id": "zNFf84n8b0n6"
      },
      "source": [
        "import wikipedia\n",
        "from collections import Counter\n",
        "import matplotlib.pyplot as plt\n",
        "import networkx as nx\n",
        "from tqdm import tqdm\n",
        "import pandas as pd\n",
        "import numpy as np\n",
        "from collections import defaultdict"
      ],
      "execution_count": null,
      "outputs": []
    },
    {
      "cell_type": "code",
      "metadata": {
        "id": "M4d6dJ_3b0rE",
        "colab": {
          "base_uri": "https://localhost:8080/"
        },
        "outputId": "71514e19-4c30-4312-cd02-13009a56aff0"
      },
      "source": [
        "result = wikipedia.search(\"Braking System\")\n",
        "result"
      ],
      "execution_count": null,
      "outputs": [
        {
          "output_type": "execute_result",
          "data": {
            "text/plain": [
              "['Anti-lock braking system',\n",
              " 'Brake',\n",
              " 'Combined braking system',\n",
              " 'Collision avoidance system',\n",
              " 'Regenerative brake',\n",
              " 'Bicycle brake',\n",
              " 'Brake-by-wire',\n",
              " 'Emergency brake assist',\n",
              " 'Railway air brake',\n",
              " 'List of aircraft braking systems']"
            ]
          },
          "metadata": {},
          "execution_count": 12
        }
      ]
    },
    {
      "cell_type": "code",
      "metadata": {
        "colab": {
          "base_uri": "https://localhost:8080/"
        },
        "id": "3kQmPc5t1uul",
        "outputId": "1dd24c25-68b7-4f26-915a-c6e9143d324e"
      },
      "source": [
        "wiki_url = 'https://en.wikipedia.org/wiki/braking_system' # 'https://en.wikipedia.org/wiki/Disc_brake'\n",
        "print('Fetching main wiki article: %s' % wiki_url)\n",
        "page = requests.get(wiki_url)\n",
        "print('Done. Extracting table links..')\n",
        "html = BeautifulSoup(page.text)\n",
        "# table = html.find('table', 'wikitable')\n",
        "# links = table.findAll('a')\n",
        "sents = html.find_all('p')\n",
        "links = html.find_all('a')\n",
        "\n",
        "print('Done extracting links. About to fetch: %s links..' % len(links))"
      ],
      "execution_count": null,
      "outputs": [
        {
          "output_type": "stream",
          "name": "stdout",
          "text": [
            "Fetching main wiki article: https://en.wikipedia.org/wiki/braking_system\n",
            "Done. Extracting table links..\n",
            "Done extracting links. About to fetch: 565 links..\n"
          ]
        }
      ]
    },
    {
      "cell_type": "code",
      "metadata": {
        "colab": {
          "base_uri": "https://localhost:8080/",
          "height": 53
        },
        "id": "8UO0E2dg1u13",
        "outputId": "7000fa3f-91ab-4ab6-a392-270434ed0591"
      },
      "source": [
        " sents[0].text"
      ],
      "execution_count": null,
      "outputs": [
        {
          "output_type": "execute_result",
          "data": {
            "application/vnd.google.colaboratory.intrinsic+json": {
              "type": "string"
            },
            "text/plain": [
              "'A brake is a mechanical device that inhibits motion by absorbing energy from a moving system.[1] It is used for slowing or stopping a moving vehicle, wheel, axle, or to prevent its motion, most often accomplished by means of friction.[2]\\n'"
            ]
          },
          "metadata": {},
          "execution_count": 14
        }
      ]
    },
    {
      "cell_type": "code",
      "metadata": {
        "colab": {
          "base_uri": "https://localhost:8080/"
        },
        "id": "4HkGsNUJ1u60",
        "outputId": "e4081e86-c6d1-444a-e1b5-78645c38c9e3"
      },
      "source": [
        "for sent in sents[1:2]:\n",
        "    doc = nlp(sent.text)\n",
        "\n",
        "    for token in doc:\n",
        "        # extract subject\n",
        "        if (token.dep_=='nsubj'):\n",
        "            print(\"Subj: \",token.text)\n",
        "        # extract object\n",
        "        elif (token.dep_=='dobj'):\n",
        "            print(\"Obj: \",token.text)\n",
        "        elif(token.pos_==\"VERB\"):\n",
        "            print(\"Verb: \", token.text)\n",
        "    print(\"======================================\")"
      ],
      "execution_count": null,
      "outputs": [
        {
          "output_type": "stream",
          "name": "stdout",
          "text": [
            "Subj:  brakes\n",
            "Verb:  use\n",
            "Obj:  friction\n",
            "Verb:  pressed\n",
            "Verb:  convert\n",
            "Obj:  energy\n",
            "Verb:  moving\n",
            "Verb:  may\n",
            "Verb:  be\n",
            "Verb:  employed\n",
            "Subj:  braking\n",
            "Verb:  converts\n",
            "Obj:  much\n",
            "Verb:  may\n",
            "Verb:  be\n",
            "Verb:  stored\n",
            "Subj:  methods\n",
            "Verb:  convert\n",
            "Obj:  energy\n",
            "Verb:  stored\n",
            "Verb:  pressurized\n",
            "Verb:  pressurized\n",
            "Subj:  brakes\n",
            "Verb:  use\n",
            "Obj:  fields\n",
            "Verb:  convert\n",
            "Obj:  energy\n",
            "Verb:  is\n",
            "Verb:  converted\n",
            "Subj:  methods\n",
            "Verb:  transform\n",
            "Obj:  energy\n",
            "Verb:  transferring\n",
            "Obj:  energy\n",
            "======================================\n"
          ]
        }
      ]
    },
    {
      "cell_type": "code",
      "metadata": {
        "colab": {
          "base_uri": "https://localhost:8080/"
        },
        "id": "w--2Xq_b2HfM",
        "outputId": "ea12a5be-c303-487e-a487-35f838ab0821"
      },
      "source": [
        "wiki_text = defaultdict(list)\n",
        "for sent in sents:\n",
        "    if(len(sent.text)>1):\n",
        "        wiki_text['rqt_text'].append(sent.text)\n",
        "\n",
        "rqt_df = pd.DataFrame(wiki_text)\n",
        "rqt_df.head(), len(rqt_df)"
      ],
      "execution_count": null,
      "outputs": [
        {
          "output_type": "execute_result",
          "data": {
            "text/plain": [
              "(                                            rqt_text\n",
              " 0  A brake is a mechanical device that inhibits m...\n",
              " 1  Most brakes commonly use friction between two ...\n",
              " 2  Brakes are generally applied to rotating axles...\n",
              " 3  Since kinetic energy increases quadratically w...\n",
              " 4  Almost all wheeled vehicles have a brake of so..., 35)"
            ]
          },
          "metadata": {},
          "execution_count": 18
        }
      ]
    },
    {
      "cell_type": "code",
      "metadata": {
        "id": "j6UHST2N2Hiq"
      },
      "source": [
        "# function to preprocess rqt_text\n",
        "def clean(text):\n",
        "    \n",
        "    # removing paragraph numbers\n",
        "    text = re.sub('[0-9]+.','',str(text))\n",
        "    \n",
        "    # removing new line characters\n",
        "    text = re.sub('\\n ','',str(text))\n",
        "    text = re.sub('\\n',' ',str(text))\n",
        "    \n",
        "    # removing apostrophes\n",
        "    text = re.sub(\"'s\",'',str(text))\n",
        "    \n",
        "    # removing hyphens\n",
        "    text = re.sub(\"-\",' ',str(text))\n",
        "    text = re.sub(\"— \",'',str(text))\n",
        "    # removing quotation marks\n",
        "    text = re.sub('\\\"','',str(text))\n",
        "\n",
        "    # removing any reference to outside text\n",
        "    text = re.sub(\"[\\(\\[.*?[\\)\\]]\", \"\", str(text))\n",
        "    \n",
        "    # removing table tags\n",
        "    text = re.sub('&nbsp;', ' ', str(text))\n",
        "\n",
        "    # removing table tags\n",
        "    text = re.sub('  ', ' ', str(text))\n",
        "    \n",
        "    return text\n",
        "\n",
        "# preprocessing req_text\n",
        "rqt_df['text_clean'] = rqt_df['rqt_text'].apply(clean)"
      ],
      "execution_count": null,
      "outputs": []
    },
    {
      "cell_type": "code",
      "metadata": {
        "id": "iwdeO_xP2Y7T"
      },
      "source": [
        "def coref_resolution(text):\n",
        "    \"\"\"Function that executes coreference resolution on a given text\"\"\"\n",
        "    doc = nlp(text)\n",
        "    # fetches tokens with whitespaces from spacy document\n",
        "    tok_list = list(token.text_with_ws for token in doc)\n",
        "    for cluster in doc._.coref_clusters:\n",
        "        # get tokens from representative cluster name\n",
        "        cluster_main_words = set(cluster.main.text.split(' '))\n",
        "        for coref in cluster:\n",
        "            if coref != cluster.main:  # if coreference element is not the representative element of that cluster\n",
        "                if coref.text != cluster.main.text and bool(set(coref.text.split(' ')).intersection(cluster_main_words)) == False:\n",
        "                    # if coreference element text and representative element text are not equal and none of the coreference element words are in representative element. This was done to handle nested coreference scenarios\n",
        "                    tok_list[coref.start] = cluster.main.text + \\\n",
        "                        doc[coref.end-1].whitespace_\n",
        "                    for i in range(coref.start+1, coref.end):\n",
        "                        tok_list[i] = \"\"\n",
        "\n",
        "    return \"\".join(tok_list)"
      ],
      "execution_count": null,
      "outputs": []
    },
    {
      "cell_type": "code",
      "metadata": {
        "colab": {
          "base_uri": "https://localhost:8080/"
        },
        "id": "3UQu-ZPn57ty",
        "outputId": "bf40b7f8-7000-4e63-fb56-8fcb1938ed2c"
      },
      "source": [
        "cd /content/drive/My Drive/myEnv"
      ],
      "execution_count": null,
      "outputs": [
        {
          "output_type": "stream",
          "name": "stdout",
          "text": [
            "/content/drive/My Drive/myEnv\n"
          ]
        }
      ]
    },
    {
      "cell_type": "code",
      "metadata": {
        "colab": {
          "base_uri": "https://localhost:8080/",
          "height": 53
        },
        "id": "0d8HEjZl2ZH8",
        "outputId": "cb81c81a-3b5e-4ad3-dff1-7054975bc7ab"
      },
      "source": [
        "coref_resolution('The brake system and hose system should to be mounted on chassis.  it should also be linked with pedal. Pedel is part of under body. it should be in the hood') "
      ],
      "execution_count": null,
      "outputs": [
        {
          "output_type": "execute_result",
          "data": {
            "application/vnd.google.colaboratory.intrinsic+json": {
              "type": "string"
            },
            "text/plain": [
              "'The brake system and hose system should to be mounted on chassis.  The brake system and hose system should also be linked with pedal. Pedel is part of under body. Pedel should be in the hood'"
            ]
          },
          "metadata": {},
          "execution_count": 22
        }
      ]
    },
    {
      "cell_type": "code",
      "metadata": {
        "id": "F5ysULwl2Hul"
      },
      "source": [
        "# input_data = \"/content/drive/My Drive/Capstone/data/wiki_brake_all_pages_df.csv\"\n",
        "# input_data = \"/content/drive/My Drive/Capstone/data/wiki_brake_full_coref_df.csv\"\n",
        "# input_data = \"/content/drive/My Drive/Capstone/data/reqt_entities_df.csv\"\n",
        "input_data = \"/content/drive/My Drive/Capstone/data/req_brake_coref_df.xlsx\"\n"
      ],
      "execution_count": null,
      "outputs": []
    },
    {
      "cell_type": "code",
      "metadata": {
        "colab": {
          "base_uri": "https://localhost:8080/",
          "height": 35
        },
        "id": "FsRIOfAtZwM-",
        "outputId": "9b7e1aef-af48-4b50-fbb7-0acee78c04c7"
      },
      "source": [
        "cd ../Capstone/data/req_brake_coref_df.xlsx"
      ],
      "execution_count": null,
      "outputs": [
        {
          "output_type": "execute_result",
          "data": {
            "application/vnd.google.colaboratory.intrinsic+json": {
              "type": "string"
            },
            "text/plain": [
              "'/content/drive/My Drive/myEnv'"
            ]
          },
          "metadata": {},
          "execution_count": 34
        }
      ]
    },
    {
      "cell_type": "code",
      "metadata": {
        "colab": {
          "base_uri": "https://localhost:8080/",
          "height": 206
        },
        "id": "6iEMTDGwOZ8X",
        "outputId": "d09eda57-ad7d-43b9-a35b-716fd7e2ae99"
      },
      "source": [
        "brake_df = pd.read_excel(input_data)\n",
        "brake_df.head()"
      ],
      "execution_count": null,
      "outputs": [
        {
          "output_type": "execute_result",
          "data": {
            "text/html": [
              "<div>\n",
              "<style scoped>\n",
              "    .dataframe tbody tr th:only-of-type {\n",
              "        vertical-align: middle;\n",
              "    }\n",
              "\n",
              "    .dataframe tbody tr th {\n",
              "        vertical-align: top;\n",
              "    }\n",
              "\n",
              "    .dataframe thead th {\n",
              "        text-align: right;\n",
              "    }\n",
              "</style>\n",
              "<table border=\"1\" class=\"dataframe\">\n",
              "  <thead>\n",
              "    <tr style=\"text-align: right;\">\n",
              "      <th></th>\n",
              "      <th>No</th>\n",
              "      <th>id</th>\n",
              "      <th>Type</th>\n",
              "      <th>date</th>\n",
              "      <th>rqt_text</th>\n",
              "      <th>text_clean</th>\n",
              "    </tr>\n",
              "  </thead>\n",
              "  <tbody>\n",
              "    <tr>\n",
              "      <th>0</th>\n",
              "      <td>0</td>\n",
              "      <td>REG-001200-007515/8</td>\n",
              "      <td>RegReqment</td>\n",
              "      <td>2020-11-09 19:44:00</td>\n",
              "      <td>REG-001200-007515&amp;#x00a0;&amp;#x00a0;&amp;#x00a0;&amp;#x00...</td>\n",
              "      <td>REG #x&amp;#x&amp;#x&amp;#x&amp;#x&amp;#x&amp;#x&amp;#xVB nbsp;Title: USA/...</td>\n",
              "    </tr>\n",
              "    <tr>\n",
              "      <th>1</th>\n",
              "      <td>1</td>\n",
              "      <td>REG-001200-008241/6</td>\n",
              "      <td>RegReqment</td>\n",
              "      <td>2021-02-05 16:16:00</td>\n",
              "      <td>Regulation Summary: C/ FMVSS 136 Electronic...</td>\n",
              "      <td>Regulation Summary: C/ FMVSS Electronic Stabil...</td>\n",
              "    </tr>\n",
              "    <tr>\n",
              "      <th>2</th>\n",
              "      <td>2</td>\n",
              "      <td>REG-001200-008317/2</td>\n",
              "      <td>RegReqment</td>\n",
              "      <td>2016-12-22 14:11:00</td>\n",
              "      <td>The National Traffic Department - DENATRAN iss...</td>\n",
              "      <td>The National Traffic Department  DENATRAN issu...</td>\n",
              "    </tr>\n",
              "    <tr>\n",
              "      <th>3</th>\n",
              "      <td>3</td>\n",
              "      <td>REG-001200-008587/3</td>\n",
              "      <td>RegReqment</td>\n",
              "      <td>2018-01-24 15:46:00</td>\n",
              "      <td>REG-001200-008587ROK ESC requirement&amp;nbsp;Arti...</td>\n",
              "      <td>REG OK ESC requirement Article Electronic Stab...</td>\n",
              "    </tr>\n",
              "    <tr>\n",
              "      <th>4</th>\n",
              "      <td>4</td>\n",
              "      <td>REG-001204-008553/5</td>\n",
              "      <td>RegReqment</td>\n",
              "      <td>2020-12-11 05:26:00</td>\n",
              "      <td>REG- 001204 - 008553  CHN General Requireme...</td>\n",
              "      <td>REG   CHN General Requirements for Brake Syste...</td>\n",
              "    </tr>\n",
              "  </tbody>\n",
              "</table>\n",
              "</div>"
            ],
            "text/plain": [
              "   No  ...                                         text_clean\n",
              "0   0  ...  REG #x&#x&#x&#x&#x&#x&#x&#xVB nbsp;Title: USA/...\n",
              "1   1  ...  Regulation Summary: C/ FMVSS Electronic Stabil...\n",
              "2   2  ...  The National Traffic Department  DENATRAN issu...\n",
              "3   3  ...  REG OK ESC requirement Article Electronic Stab...\n",
              "4   4  ...  REG   CHN General Requirements for Brake Syste...\n",
              "\n",
              "[5 rows x 6 columns]"
            ]
          },
          "metadata": {},
          "execution_count": 36
        }
      ]
    },
    {
      "cell_type": "code",
      "metadata": {
        "id": "VCkr9MGrVt5Y"
      },
      "source": [
        "brake_df['text_clean'] = brake_df['text_clean'].astype(str)\n",
        "brake_df['tex_coref_resolved'] = brake_df['text_clean'].apply(coref_resolution)"
      ],
      "execution_count": null,
      "outputs": []
    },
    {
      "cell_type": "code",
      "metadata": {
        "colab": {
          "base_uri": "https://localhost:8080/",
          "height": 293
        },
        "id": "3IFsKpYgVt-m",
        "outputId": "2eb9792f-fb95-4702-88d4-9ef02eab4811"
      },
      "source": [
        "brake_df.head()"
      ],
      "execution_count": null,
      "outputs": [
        {
          "output_type": "execute_result",
          "data": {
            "text/html": [
              "<div>\n",
              "<style scoped>\n",
              "    .dataframe tbody tr th:only-of-type {\n",
              "        vertical-align: middle;\n",
              "    }\n",
              "\n",
              "    .dataframe tbody tr th {\n",
              "        vertical-align: top;\n",
              "    }\n",
              "\n",
              "    .dataframe thead th {\n",
              "        text-align: right;\n",
              "    }\n",
              "</style>\n",
              "<table border=\"1\" class=\"dataframe\">\n",
              "  <thead>\n",
              "    <tr style=\"text-align: right;\">\n",
              "      <th></th>\n",
              "      <th>No</th>\n",
              "      <th>id</th>\n",
              "      <th>Type</th>\n",
              "      <th>date</th>\n",
              "      <th>rqt_text</th>\n",
              "      <th>text_clean</th>\n",
              "      <th>tex_coref_resolved</th>\n",
              "    </tr>\n",
              "  </thead>\n",
              "  <tbody>\n",
              "    <tr>\n",
              "      <th>0</th>\n",
              "      <td>0</td>\n",
              "      <td>REG-001200-007515/8</td>\n",
              "      <td>RegReqment</td>\n",
              "      <td>2020-11-09 19:44:00</td>\n",
              "      <td>REG-001200-007515&amp;#x00a0;&amp;#x00a0;&amp;#x00a0;&amp;#x00...</td>\n",
              "      <td>REG #x&amp;#x&amp;#x&amp;#x&amp;#x&amp;#x&amp;#x&amp;#xVB nbsp;Title: USA/...</td>\n",
              "      <td>REG #x&amp;#x&amp;#x&amp;#x&amp;#x&amp;#x&amp;#x&amp;#xVB nbsp;Title: USA/...</td>\n",
              "    </tr>\n",
              "    <tr>\n",
              "      <th>1</th>\n",
              "      <td>1</td>\n",
              "      <td>REG-001200-008241/6</td>\n",
              "      <td>RegReqment</td>\n",
              "      <td>2021-02-05 16:16:00</td>\n",
              "      <td>Regulation Summary: C/ FMVSS 136 Electronic...</td>\n",
              "      <td>Regulation Summary: C/ FMVSS Electronic Stabil...</td>\n",
              "      <td>Regulation Summary: C/ FMVSS Electronic Stabil...</td>\n",
              "    </tr>\n",
              "    <tr>\n",
              "      <th>2</th>\n",
              "      <td>2</td>\n",
              "      <td>REG-001200-008317/2</td>\n",
              "      <td>RegReqment</td>\n",
              "      <td>2016-12-22 14:11:00</td>\n",
              "      <td>The National Traffic Department - DENATRAN iss...</td>\n",
              "      <td>The National Traffic Department  DENATRAN issu...</td>\n",
              "      <td>The National Traffic Department  DENATRAN issu...</td>\n",
              "    </tr>\n",
              "    <tr>\n",
              "      <th>3</th>\n",
              "      <td>3</td>\n",
              "      <td>REG-001200-008587/3</td>\n",
              "      <td>RegReqment</td>\n",
              "      <td>2018-01-24 15:46:00</td>\n",
              "      <td>REG-001200-008587ROK ESC requirement&amp;nbsp;Arti...</td>\n",
              "      <td>REG OK ESC requirement Article Electronic Stab...</td>\n",
              "      <td>REG OK ESC requirement Article Electronic Stab...</td>\n",
              "    </tr>\n",
              "    <tr>\n",
              "      <th>4</th>\n",
              "      <td>4</td>\n",
              "      <td>REG-001204-008553/5</td>\n",
              "      <td>RegReqment</td>\n",
              "      <td>2020-12-11 05:26:00</td>\n",
              "      <td>REG- 001204 - 008553  CHN General Requireme...</td>\n",
              "      <td>REG   CHN General Requirements for Brake Syste...</td>\n",
              "      <td>REG   CHN General Requirements for Brake Syste...</td>\n",
              "    </tr>\n",
              "  </tbody>\n",
              "</table>\n",
              "</div>"
            ],
            "text/plain": [
              "   No  ...                                 tex_coref_resolved\n",
              "0   0  ...  REG #x&#x&#x&#x&#x&#x&#x&#xVB nbsp;Title: USA/...\n",
              "1   1  ...  Regulation Summary: C/ FMVSS Electronic Stabil...\n",
              "2   2  ...  The National Traffic Department  DENATRAN issu...\n",
              "3   3  ...  REG OK ESC requirement Article Electronic Stab...\n",
              "4   4  ...  REG   CHN General Requirements for Brake Syste...\n",
              "\n",
              "[5 rows x 7 columns]"
            ]
          },
          "metadata": {},
          "execution_count": 38
        }
      ]
    },
    {
      "cell_type": "code",
      "metadata": {
        "id": "N47ngyvlVuDR"
      },
      "source": [
        "brake_df.to_csv(\"/content/drive/My Drive/Capstone/data/req_brakeswith_coref_df.csv\")"
      ],
      "execution_count": null,
      "outputs": []
    }
  ]
}