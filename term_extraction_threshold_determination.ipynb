{
  "cells": [
    {
      "cell_type": "markdown",
      "metadata": {
        "id": "view-in-github",
        "colab_type": "text"
      },
      "source": [
        "<a href=\"https://colab.research.google.com/github/akamalas5/Capstone/blob/main/term_extraction_threshold_determination.ipynb\" target=\"_parent\"><img src=\"https://colab.research.google.com/assets/colab-badge.svg\" alt=\"Open In Colab\"/></a>"
      ]
    },
    {
      "cell_type": "markdown",
      "source": [
        "**Entity Relationship Extraction - Data, Model and Prediction**"
      ],
      "metadata": {
        "id": "dEgAsM29uwDd"
      },
      "id": "dEgAsM29uwDd"
    },
    {
      "cell_type": "markdown",
      "source": [
        "### Import utility libraries"
      ],
      "metadata": {
        "id": "Ltrmyd-BvX1H"
      },
      "id": "Ltrmyd-BvX1H"
    },
    {
      "cell_type": "code",
      "execution_count": null,
      "metadata": {
        "id": "tDu76Zh8H8HE"
      },
      "outputs": [],
      "source": [
        "import requests\n",
        "from collections import defaultdict\n",
        "from tqdm import tqdm\n",
        "from bs4 import BeautifulSoup\n",
        "import requests\n",
        "import re\n",
        "import pandas as pd\n",
        "from tqdm.notebook import tqdm\n",
        "import numpy as np\n",
        "import ast\n",
        "import csv\n",
        "\n",
        "# URL page extraction and annotation\n",
        "import urllib\n",
        "from string import punctuation\n",
        "import nltk\n",
        "import json\n",
        "import itertools"
      ],
      "id": "tDu76Zh8H8HE"
    },
    {
      "cell_type": "markdown",
      "metadata": {
        "id": "yGWAyj42Wu6d"
      },
      "source": [
        "Generate Sentenses from Corefererence Resolved Requirements Text paragraphs"
      ],
      "id": "yGWAyj42Wu6d"
    },
    {
      "cell_type": "code",
      "execution_count": null,
      "metadata": {
        "colab": {
          "base_uri": "https://localhost:8080/"
        },
        "id": "610870d3",
        "outputId": "f969eb29-664d-4878-8510-623006fd09da"
      },
      "outputs": [
        {
          "output_type": "execute_result",
          "data": {
            "text/plain": [
              "Index(['Unnamed: 0', 'Unnamed: 0.1', 'wiki_text', 'text_clean',\n",
              "       'tex_coref_resolved'],\n",
              "      dtype='object')"
            ]
          },
          "metadata": {},
          "execution_count": 17
        }
      ],
      "source": [
        "input_file = '../data/wiki_brake_all_pages_with_coref_df.csv'\n",
        "rqt_df = pd.read_csv(input_file)\n",
        "rqt_df.columns"
      ],
      "id": "610870d3"
    },
    {
      "cell_type": "code",
      "execution_count": null,
      "metadata": {
        "colab": {
          "base_uri": "https://localhost:8080/",
          "height": 231
        },
        "id": "23e8c373",
        "outputId": "b49c9500-9811-4295-ff4c-872cf37e950f"
      },
      "outputs": [
        {
          "output_type": "stream",
          "name": "stdout",
          "text": [
            "Number of requirements : 2877\n"
          ]
        },
        {
          "output_type": "execute_result",
          "data": {
            "text/html": [
              "<div>\n",
              "<style scoped>\n",
              "    .dataframe tbody tr th:only-of-type {\n",
              "        vertical-align: middle;\n",
              "    }\n",
              "\n",
              "    .dataframe tbody tr th {\n",
              "        vertical-align: top;\n",
              "    }\n",
              "\n",
              "    .dataframe thead th {\n",
              "        text-align: right;\n",
              "    }\n",
              "</style>\n",
              "<table border=\"1\" class=\"dataframe\">\n",
              "  <thead>\n",
              "    <tr style=\"text-align: right;\">\n",
              "      <th></th>\n",
              "      <th>Unnamed: 0</th>\n",
              "      <th>Unnamed: 0.1</th>\n",
              "      <th>wiki_text</th>\n",
              "      <th>text_clean</th>\n",
              "      <th>tex_coref_resolved</th>\n",
              "      <th>sent</th>\n",
              "    </tr>\n",
              "  </thead>\n",
              "  <tbody>\n",
              "    <tr>\n",
              "      <th>0</th>\n",
              "      <td>0</td>\n",
              "      <td>0</td>\n",
              "      <td>A brake is a mechanical device that inhibits m...</td>\n",
              "      <td>A brake is a mechanical device that inhibits m...</td>\n",
              "      <td>A brake is a mechanical device that inhibits m...</td>\n",
              "      <td>[A brake is a mechanical device that inhibits ...</td>\n",
              "    </tr>\n",
              "    <tr>\n",
              "      <th>1</th>\n",
              "      <td>1</td>\n",
              "      <td>1</td>\n",
              "      <td>Most brakes commonly use friction between two ...</td>\n",
              "      <td>Most brakes commonly use friction between two ...</td>\n",
              "      <td>Most brakes commonly use friction between two ...</td>\n",
              "      <td>[Most brakes commonly use friction between two...</td>\n",
              "    </tr>\n",
              "    <tr>\n",
              "      <th>2</th>\n",
              "      <td>2</td>\n",
              "      <td>2</td>\n",
              "      <td>Brakes are generally applied to rotating axles...</td>\n",
              "      <td>Brakes are generally applied to rotating axles...</td>\n",
              "      <td>Brakes are generally applied to rotating axles...</td>\n",
              "      <td>[Brakes are generally applied to rotating axle...</td>\n",
              "    </tr>\n",
              "  </tbody>\n",
              "</table>\n",
              "</div>"
            ],
            "text/plain": [
              "   Unnamed: 0  ...                                               sent\n",
              "0           0  ...  [A brake is a mechanical device that inhibits ...\n",
              "1           1  ...  [Most brakes commonly use friction between two...\n",
              "2           2  ...  [Brakes are generally applied to rotating axle...\n",
              "\n",
              "[3 rows x 6 columns]"
            ]
          },
          "metadata": {},
          "execution_count": 18
        }
      ],
      "source": [
        "def sentences(text):\n",
        "    # split sentences and questions\n",
        "    text = re.split('[.?]', str(text))\n",
        "    clean_sent = []\n",
        "    for sent in text:\n",
        "        clean_sent.append(sent)\n",
        "    return clean_sent\n",
        "\n",
        "# sentences - The coref resolved data from offline is used\n",
        "rqt_df['sent'] = rqt_df['tex_coref_resolved'].apply(sentences)\n",
        "print(\"Number of requirements :\", len(rqt_df))\n",
        "rqt_df = rqt_df.dropna().reset_index(drop=True)\n",
        "rqt_df.head(3)"
      ],
      "id": "23e8c373"
    },
    {
      "cell_type": "markdown",
      "metadata": {
        "id": "_HBxcxVMXUTV"
      },
      "source": [
        "Create a dataframe of just sentences alone\n",
        "\n",
        "\n"
      ],
      "id": "_HBxcxVMXUTV"
    },
    {
      "cell_type": "code",
      "execution_count": null,
      "metadata": {
        "colab": {
          "base_uri": "https://localhost:8080/",
          "height": 225
        },
        "id": "c8c25556",
        "outputId": "ad3f03bb-44c0-4230-eca3-6bcf4490a9b5"
      },
      "outputs": [
        {
          "output_type": "stream",
          "name": "stdout",
          "text": [
            "The number of sentenses Generated : 9569\n"
          ]
        },
        {
          "output_type": "execute_result",
          "data": {
            "text/html": [
              "<div>\n",
              "<style scoped>\n",
              "    .dataframe tbody tr th:only-of-type {\n",
              "        vertical-align: middle;\n",
              "    }\n",
              "\n",
              "    .dataframe tbody tr th {\n",
              "        vertical-align: top;\n",
              "    }\n",
              "\n",
              "    .dataframe thead th {\n",
              "        text-align: right;\n",
              "    }\n",
              "</style>\n",
              "<table border=\"1\" class=\"dataframe\">\n",
              "  <thead>\n",
              "    <tr style=\"text-align: right;\">\n",
              "      <th></th>\n",
              "      <th>Sent</th>\n",
              "      <th>Len</th>\n",
              "    </tr>\n",
              "  </thead>\n",
              "  <tbody>\n",
              "    <tr>\n",
              "      <th>0</th>\n",
              "      <td>A brake is a mechanical device that inhibits m...</td>\n",
              "      <td>16</td>\n",
              "    </tr>\n",
              "    <tr>\n",
              "      <th>1</th>\n",
              "      <td>A brake is used for slowing or stopping a movi...</td>\n",
              "      <td>26</td>\n",
              "    </tr>\n",
              "    <tr>\n",
              "      <th>2</th>\n",
              "      <td>Most brakes commonly use friction between two ...</td>\n",
              "      <td>30</td>\n",
              "    </tr>\n",
              "    <tr>\n",
              "      <th>3</th>\n",
              "      <td>For example, regenerative braking converts muc...</td>\n",
              "      <td>19</td>\n",
              "    </tr>\n",
              "    <tr>\n",
              "      <th>4</th>\n",
              "      <td>Other methods convert kinetic energy into pote...</td>\n",
              "      <td>18</td>\n",
              "    </tr>\n",
              "  </tbody>\n",
              "</table>\n",
              "</div>"
            ],
            "text/plain": [
              "                                                Sent  Len\n",
              "0  A brake is a mechanical device that inhibits m...   16\n",
              "1  A brake is used for slowing or stopping a movi...   26\n",
              "2  Most brakes commonly use friction between two ...   30\n",
              "3  For example, regenerative braking converts muc...   19\n",
              "4  Other methods convert kinetic energy into pote...   18"
            ]
          },
          "metadata": {},
          "execution_count": 19
        }
      ],
      "source": [
        "rqt_df2 = pd.DataFrame(columns=['Sent','Len'])\n",
        "\n",
        "row_list = []\n",
        "\n",
        "for i in range(len(rqt_df)):\n",
        "    for sent in rqt_df.loc[i,'sent']:\n",
        "        wordcount = len(sent.split())\n",
        "        if wordcount>0:\n",
        "            dict1 = {'Sent':sent.strip(),'Len':wordcount}\n",
        "            row_list.append(dict1)\n",
        "    \n",
        "rqt_df2 = pd.DataFrame(row_list)\n",
        "print(\"The number of sentenses Generated :\", len(rqt_df2))\n",
        "rqt_df2.head(5)"
      ],
      "id": "c8c25556"
    },
    {
      "cell_type": "markdown",
      "metadata": {
        "id": "6c5c569a"
      },
      "source": [
        "**Extracting Entities using Wikifier Annotations**"
      ],
      "id": "6c5c569a"
    },
    {
      "cell_type": "markdown",
      "source": [
        "### Get Annotations - Terms, Words, Tokens, postions\n",
        "\n",
        "The threshold value determines the number of terms extracted (based on page rank score).  The higher the threshold more will be the number of terms extracted.  Trials are conducted with the threshold values of 0.6, 0.7, 0.8 , 0.9 and 1.0. The extracted terms/entities are compared with the terms/entities extracted mannually and accuracy socre is computed.  The accuracy obtained for the threshold value of 0.8 is found to be maximum and became the ideal threshold value for this study"
      ],
      "metadata": {
        "id": "NLD99ACiwgvb"
      },
      "id": "NLD99ACiwgvb"
    },
    {
      "cell_type": "code",
      "execution_count": null,
      "metadata": {
        "id": "TMGnTD8oYgvL"
      },
      "outputs": [],
      "source": [
        "def CallWikifier_1(text, lang=\"en\", threshold=1.0):\n",
        "    # Prepare the URL.\n",
        "    result = []\n",
        "    data = urllib.parse.urlencode([\n",
        "        (\"text\", text), (\"lang\", lang),\n",
        "        (\"userKey\", \"hnjbhmqwsejlhzzjhlqtyybolxgpgs\"),   \n",
        "        (\"pageRankSqThreshold\", \"%g\" % threshold), (\"applyPageRankSqThreshold\", \"true\"),\n",
        "        (\"nTopDfValuesToIgnore\", \"200\"), (\"nWordsToIgnoreFromList\", \"200\"),\n",
        "        (\"wikiDataClasses\", \"true\"), (\"wikiDataClassIds\", \"false\"),\n",
        "        (\"support\", \"true\"), (\"ranges\", \"false\"), (\"minLinkFrequency\", \"2\"),\n",
        "        (\"includeCosines\", \"false\"), (\"maxMentionEntropy\", \"3\")\n",
        "        ])\n",
        "\n",
        "    url = \"http://www.wikifier.org/annotate-article\"\n",
        "    # Call the Wikifier and read the response.\n",
        "    req = urllib.request.Request(url, data=data.encode(\"utf8\"), method=\"POST\")\n",
        "    \n",
        "    with urllib.request.urlopen(req, timeout = 60) as f:\n",
        "        response = f.read()\n",
        "        response = json.loads(response.decode(\"utf8\"))\n",
        "    tokens = response['words']\n",
        "    for annotation in response[\"annotations\"]:\n",
        "        word_indexs = [(el['wFrom'], el['wTo']+1) for el in annotation['support']]\n",
        "        words = [tokens[el['wFrom']:el['wTo']+1] for el in annotation['support']]\n",
        "        longword = \" \".join(max(words, key=len))\n",
        "        ind = words.index(max(words, key=len))\n",
        "        longwrod_ind = [word_indexs[ind][0], word_indexs[ind][1]]\n",
        "\n",
        "        if 'wikiDataItemId' in annotation:\n",
        "          result.append({'term': {\"name\": longword, 'entity':annotation[\"title\"], 'id' :annotation['wikiDataItemId'],  \n",
        "                                  \"pos\": longwrod_ind }})\n",
        "        else :\n",
        "          result.append({'term': {\"name\": longword, 'entity':annotation[\"title\"], 'id' :\"no_id\", \n",
        "                                  \"pos\": longwrod_ind}})\n",
        "\n",
        "    result.append({\"token\":tokens})\n",
        "\n",
        "    \n",
        "    return result"
      ],
      "id": "TMGnTD8oYgvL"
    },
    {
      "cell_type": "markdown",
      "source": [
        "### Extaract the all Combinations of Source /Target Pairs\n",
        "\n",
        "Form the extracted terms for a sentences, all permuatationon of pairing (source and target ) computed for link prediction"
      ],
      "metadata": {
        "id": "DJutDsqO1HeU"
      },
      "id": "DJutDsqO1HeU"
    },
    {
      "cell_type": "code",
      "execution_count": null,
      "metadata": {
        "id": "g_2pY_L4aFlt"
      },
      "outputs": [],
      "source": [
        "def create_map_data(input_df, threshold = 1):\n",
        "  train_data = []\n",
        "  for input_sent in tqdm(input_df[\"Sent\"]):\n",
        "    result = CallWikifier_1(input_sent, threshold = threshold)\n",
        "    terms = [item for item  in result if ('term' in item)]\n",
        "    token_dict = [item for item  in result if ('token' in item)]\n",
        "    token = token_dict[0]['token']\n",
        "    \n",
        "    for permutation in itertools.permutations(terms, 2):\n",
        "      train_data.append({'data' : {'token' :token, 'h': permutation[0]['term'], 't': permutation[1]['term'], \n",
        "                                   \"relation\" : \"owned by\"},\n",
        "                          'source_word':permutation[0]['term']['name'],\n",
        "                          'target_word':permutation[1]['term']['name'],\n",
        "                          'source_term':permutation[0]['term']['entity'],\n",
        "                          'target_term':permutation[1]['term']['entity'] })\n",
        "    \n",
        "  return pd.DataFrame(train_data) "
      ],
      "id": "g_2pY_L4aFlt"
    },
    {
      "cell_type": "markdown",
      "source": [
        "The terms extraction is time consuming. So the input data is split into chucks and processed. The data processed for each chuck is persisted as csv file.  This enables fail over mechanism to begin from where it ended from the last run.  Once the all input chuks are processed, the corresponding .csv files are combined. The code for exeuction of the funtion is commented. The output file is provided readily to continue to the next steps"
      ],
      "metadata": {
        "id": "SlvbOgY64pat"
      },
      "id": "SlvbOgY64pat"
    },
    {
      "cell_type": "code",
      "execution_count": null,
      "metadata": {
        "id": "7lQqx8GsbI6H"
      },
      "outputs": [],
      "source": [
        "def create_map(input_df, num_chunks = 10, threshold = 0.8, iterid = 0, suffix =\"brake_\"):\n",
        "  input_dfs = np.array_split(input_df, num_chunks)\n",
        "  for idx, df in enumerate(input_dfs): \n",
        "    df_name = suffix+str(iterid)+\"_\"+str(threshold)+\"_\"+str(idx)\n",
        "    map_df = create_map_data(df, threshold = threshold)\n",
        "    print(len(map_df))\n",
        "    output_file = \"../data/\"+df_name+\".csv\"\n",
        "    map_df.to_csv(output_file, header = True, index = False)\n",
        "    return output_file\n",
        "\n",
        "num_chunks = 10\n",
        "threshold = 0.6\n",
        "iterid = 0\n",
        "suffix = \"dec12_req_map_\"\n",
        "#create_map(rqt_df2, num_chunks =num_chunks, threshold = threshold, iterid = iterid, suffix =suffix )"
      ],
      "id": "7lQqx8GsbI6H"
    },
    {
      "cell_type": "markdown",
      "source": [
        "Combine the CSV files generated for chucks of data and genrate Final mapping File  - The final output file is provided in the data Folder - dec_07_mapping_data_wiki_text_0.8.csv"
      ],
      "metadata": {
        "id": "SlAtKo2W5iNQ"
      },
      "id": "SlAtKo2W5iNQ"
    },
    {
      "cell_type": "code",
      "execution_count": null,
      "metadata": {
        "id": "TVvRjCvL22Y8"
      },
      "outputs": [],
      "source": [
        "import glob, os\n",
        "output_dir = \"../data/\"\n",
        "output_name = \"dec_07_mapping_data_wiki_text_0.8.csv\"\n",
        "os.chdir(output_dir)\n",
        "list_of_dfs = list()\n",
        "# for file in glob.glob(\"*.csv\"):\n",
        "#   df = pd.read_csv(file)\n",
        "  #print(len(df))\n",
        "  #list_of_dfs.append(df)\n",
        "#df = pd.concat(list_of_dfs)\n",
        "#print(len(df))\n",
        "# df.to_csv(output_name)"
      ],
      "id": "TVvRjCvL22Y8"
    },
    {
      "cell_type": "markdown",
      "source": [
        "### Ideal Threshold Value Determination for Terms Extraction\n",
        "\n",
        "\n",
        "*   Extract random 100 samples from the input data\n",
        "*   Annotate terms of the sample sentenses\n",
        "*   Normalize the wikifier extracted terms and compare with manual annodation\n",
        "*   Compute the precisions for the terms extracted with the threshold values of 0.6, 07, 0.9=8, 0.9 and 1.0\n",
        "*   Determine the best threshold value and use them for terms extraction\n",
        "\n"
      ],
      "metadata": {
        "id": "aqBuD3g17Pkl"
      },
      "id": "aqBuD3g17Pkl"
    },
    {
      "cell_type": "code",
      "source": [
        "# The input text is annotated using Wifikier API and terms are extracted\n",
        "def Wikified_terms(text, lang=\"en\", threshold=1):\n",
        "    # Prepare the URL.\n",
        "    result = []\n",
        "    data = urllib.parse.urlencode([\n",
        "        (\"text\", text), (\"lang\", lang),\n",
        "        (\"userKey\", \"hnjbhmqwsejlhzzjhlqtyybolxgpgs\"),   #sbasarkoumichedu\n",
        "        \n",
        "        (\"pageRankSqThreshold\", \"%g\" % threshold), (\"applyPageRankSqThreshold\", \"true\"),\n",
        "        (\"nTopDfValuesToIgnore\", \"200\"), (\"nWordsToIgnoreFromList\", \"200\"),\n",
        "        (\"wikiDataClasses\", \"true\"), (\"wikiDataClassIds\", \"false\"),\n",
        "        (\"support\", \"true\"), (\"ranges\", \"false\"), (\"minLinkFrequency\", \"2\"),\n",
        "        (\"includeCosines\", \"false\"), (\"maxMentionEntropy\", \"3\")\n",
        "        ])\n",
        "\n",
        "    url = \"http://www.wikifier.org/annotate-article\"\n",
        "    req = urllib.request.Request(url, data=data.encode(\"utf8\"), method=\"POST\")\n",
        "    \n",
        "    with urllib.request.urlopen(req, timeout = 60) as f:\n",
        "        response = f.read()\n",
        "        response = json.loads(response.decode(\"utf8\"))\n",
        "\n",
        "    # Output the annotations.\n",
        "    terms = []\n",
        "    for annotation in response[\"annotations\"]:\n",
        "        if 'wikiDataItemId' in annotation:\n",
        "          terms.append(annotation[\"title\"])\n",
        "        else :\n",
        "          terms.append(annotation[\"title\"])\n",
        "\n",
        "    return terms    "
      ],
      "metadata": {
        "id": "O7UzMyLWP2w5"
      },
      "id": "O7UzMyLWP2w5",
      "execution_count": null,
      "outputs": []
    },
    {
      "cell_type": "code",
      "source": [
        "# The output files generated with different thresholds numbers\n",
        "input_files = ['dec_12_mapping_data_wiki_text_0.6.csv',\n",
        "               'dec_12_mapping_data_wiki_text_0.7.csv',\n",
        "               'dec_07_mapping_data_wiki_text_0.8.csv',\n",
        "               'dec_12_mapping_data_wiki_text_0.9.csv',\n",
        "               'dec_12_mapping_data_wiki_text_1.0.csv']\n",
        "\n",
        "data_dir = \"../data/\"\n",
        "# for file in input_files:\n",
        "#   input_file = data_dir + file\n",
        "#   df = pd.read_csv(input_file)\n",
        "#   df['data'] = df['data'].apply(ast.literal_eval)\n",
        "#   df['tokens'] = df['data'].apply(lambda x: x.pop(\"token\", None))\n",
        "#   df['liststring'] = [' '.join(map(str, l)) for l in df['tokens']]\n",
        "#   print(\"Input Dataframe length :\", len(df))\n",
        "#   df = df.groupby('liststring').agg({'source_term': ','.join, 'source_word':'.'.join})\n",
        "#   print(\"Dataframe sentenses length :\", len(df))\n",
        "#   df.to_csv(data_dir+\"terms\"+file)"
      ],
      "metadata": {
        "id": "v6R6fc-sZLv0"
      },
      "id": "v6R6fc-sZLv0",
      "execution_count": null,
      "outputs": []
    },
    {
      "cell_type": "markdown",
      "source": [
        "Calculate Precission Score\n",
        "\n",
        "Generate Output with Sample sentenses extracted from the wiki documents. Refer the Final output file in the data Folder - wiki_mapping/wiki_entities_baseline.csv. If you want to generate the outfile, please uncomment the code below."
      ],
      "metadata": {
        "id": "V4o6mdNrBeLr"
      },
      "id": "V4o6mdNrBeLr"
    },
    {
      "cell_type": "code",
      "source": [
        "base_line = \"wiki_entities_baseline.csv\"\n",
        "data_dir = \"../data/\"\n",
        "input_df = pd.read_csv(data_dir+base_line)\n",
        "print(\"length of input df :\", len(input_df))\n",
        "thresh_holds = [0.6, 0.7, 0.8, 0.9, 1.0]\n",
        "\n",
        "# Uncomment the following line if you want to generate the output file (Also available in the data folder)\n",
        "\n",
        "# for threhold in thresh_holds:\n",
        "#   input_df['terms_'+str(threhold)] = input_df['Sent'].apply(lambda x: Wikified_terms(x, threshold=threhold) )\n",
        "# output_file = \"wiki_entities_baseline_threshold_terms.csv\"\n",
        "# input_df.to_csv(data_dir+output_file)"
      ],
      "metadata": {
        "colab": {
          "base_uri": "https://localhost:8080/"
        },
        "id": "MGtOpYqSGDrk",
        "outputId": "0bfbdbd4-7000-4a4d-f78f-c58887f4c77e"
      },
      "id": "MGtOpYqSGDrk",
      "execution_count": null,
      "outputs": [
        {
          "output_type": "stream",
          "name": "stdout",
          "text": [
            "length of input df : 91\n"
          ]
        }
      ]
    },
    {
      "cell_type": "code",
      "source": [
        "input_df.head()"
      ],
      "metadata": {
        "colab": {
          "base_uri": "https://localhost:8080/",
          "height": 310
        },
        "id": "xCWd_WjUzKh3",
        "outputId": "1335b731-7ac7-4dae-b8bd-e9a41bfe152a"
      },
      "id": "xCWd_WjUzKh3",
      "execution_count": null,
      "outputs": [
        {
          "output_type": "execute_result",
          "data": {
            "text/html": [
              "<div>\n",
              "<style scoped>\n",
              "    .dataframe tbody tr th:only-of-type {\n",
              "        vertical-align: middle;\n",
              "    }\n",
              "\n",
              "    .dataframe tbody tr th {\n",
              "        vertical-align: top;\n",
              "    }\n",
              "\n",
              "    .dataframe thead th {\n",
              "        text-align: right;\n",
              "    }\n",
              "</style>\n",
              "<table border=\"1\" class=\"dataframe\">\n",
              "  <thead>\n",
              "    <tr style=\"text-align: right;\">\n",
              "      <th></th>\n",
              "      <th>Unnamed: 0</th>\n",
              "      <th>Sent</th>\n",
              "      <th>Len</th>\n",
              "      <th>wiki_entities</th>\n",
              "      <th>Manual Annotation</th>\n",
              "    </tr>\n",
              "  </thead>\n",
              "  <tbody>\n",
              "    <tr>\n",
              "      <th>0</th>\n",
              "      <td>0</td>\n",
              "      <td>A brake is a mechanical device that inhibits m...</td>\n",
              "      <td>16</td>\n",
              "      <td>['Brake', 'Machine', 'Motion', 'Absorption (el...</td>\n",
              "      <td>Brake, Machine, energy, system</td>\n",
              "    </tr>\n",
              "    <tr>\n",
              "      <th>1</th>\n",
              "      <td>1</td>\n",
              "      <td>A brake is used for slowing or stopping a movi...</td>\n",
              "      <td>26</td>\n",
              "      <td>['Brake', 'Motion', 'Vehicle', 'Wheel', 'Axle'...</td>\n",
              "      <td>Brake, Moving Vehicle, Wheel, Axle, Motion, Fr...</td>\n",
              "    </tr>\n",
              "    <tr>\n",
              "      <th>2</th>\n",
              "      <td>2</td>\n",
              "      <td>Most brakes commonly use friction between two ...</td>\n",
              "      <td>30</td>\n",
              "      <td>['Most (city)', 'Brake', 'Common name', 'Frict...</td>\n",
              "      <td>Brake, Friction, Surface, Pressure, Kinetic En...</td>\n",
              "    </tr>\n",
              "    <tr>\n",
              "      <th>3</th>\n",
              "      <td>3</td>\n",
              "      <td>For example, regenerative braking converts muc...</td>\n",
              "      <td>19</td>\n",
              "      <td>['For', '.example', 'Regenerative brake', 'Bra...</td>\n",
              "      <td>Regenerative Brake, Energy, Electrical Energy</td>\n",
              "    </tr>\n",
              "    <tr>\n",
              "      <th>4</th>\n",
              "      <td>4</td>\n",
              "      <td>Other methods convert kinetic energy into pote...</td>\n",
              "      <td>18</td>\n",
              "      <td>['Scientific method', 'Kinetic energy', 'Poten...</td>\n",
              "      <td>Kinetic Energy, Potential Energy, compressed a...</td>\n",
              "    </tr>\n",
              "  </tbody>\n",
              "</table>\n",
              "</div>"
            ],
            "text/plain": [
              "   Unnamed: 0  ...                                  Manual Annotation\n",
              "0           0  ...                     Brake, Machine, energy, system\n",
              "1           1  ...  Brake, Moving Vehicle, Wheel, Axle, Motion, Fr...\n",
              "2           2  ...  Brake, Friction, Surface, Pressure, Kinetic En...\n",
              "3           3  ...      Regenerative Brake, Energy, Electrical Energy\n",
              "4           4  ...  Kinetic Energy, Potential Energy, compressed a...\n",
              "\n",
              "[5 rows x 5 columns]"
            ]
          },
          "metadata": {},
          "execution_count": 29
        }
      ]
    },
    {
      "cell_type": "markdown",
      "source": [
        "## Calcualte accruracy of Terms extracted\n",
        "Compare the terms extracted manually against the terms extracted with threshold values of - 0.6, 0.7, 0.8, 0.9 and 1.0 and compare"
      ],
      "metadata": {
        "id": "fhirlT4K9JhF"
      },
      "id": "fhirlT4K9JhF"
    },
    {
      "cell_type": "code",
      "source": [
        "import re\n",
        "\n",
        "data_dir = \"../data/\"\n",
        "input_df =  \"wiki_entities_baseline_threshold_terms.csv\"\n",
        "input_df = pd.read_csv(data_dir+input_df)\n",
        "\n",
        "mean_precision = dict()\n",
        "thresh_holds = [0.6, 0.7, 0.8, 0.9, 1.0]\n",
        "for threhold in thresh_holds:\n",
        "  metric = []\n",
        "  for index, row in input_df.iterrows():    \n",
        "      wiki_ents = (re.sub(\"[\\[\\]\\']\",'', str(row['terms_'+str(threhold)]))).split(',')\n",
        "      wiki_ents = [ent.strip().lower() for ent in wiki_ents]\n",
        "      \n",
        "      manl_ants = (re.sub(\"[\\[\\]\\']\",'', str(row['Manual Annotation']))).split(',')\n",
        "      manl_ants = [ent.strip().lower() for ent in manl_ants if len(ent.strip())>0]\n",
        "        \n",
        "      overlap = [wiki_ents[i] for i in range(len(wiki_ents)) if wiki_ents[i] in manl_ants ]\n",
        "      tpr = len(overlap)\n",
        "      tpr_fpr = len(wiki_ents) if len(wiki_ents)>0 else 1\n",
        "      metric.append({'TPR':tpr, 'TPR_FPR': tpr_fpr, 'Precision': tpr/tpr_fpr})\n",
        "  metric_df = pd.DataFrame.from_dict(metric, orient='columns')\n",
        "  mean_precision[threhold] = metric_df['Precision'].mean()\n",
        "\n",
        "mean_precision\n",
        "df = pd.DataFrame.from_dict(mean_precision, orient='index')\n",
        "df.reset_index(inplace=True)\n",
        "df = df.rename({'index': 'Threshold', 0: 'Precision'}, axis=1)  # new method\n",
        "df.plot.line(x='Threshold', y='Precision')\n",
        " "
      ],
      "metadata": {
        "colab": {
          "base_uri": "https://localhost:8080/",
          "height": 297
        },
        "id": "_0QE5wvh6DyX",
        "outputId": "61413313-7367-4771-ad5d-0f624ad05192"
      },
      "id": "_0QE5wvh6DyX",
      "execution_count": null,
      "outputs": [
        {
          "output_type": "execute_result",
          "data": {
            "text/plain": [
              "<matplotlib.axes._subplots.AxesSubplot at 0x7ff38c021c90>"
            ]
          },
          "metadata": {},
          "execution_count": 30
        },
        {
          "output_type": "display_data",
          "data": {
            "image/png": "[encoded data removed]",
            "text/plain": [
              "<Figure size 432x288 with 1 Axes>"
            ]
          },
          "metadata": {
            "needs_background": "light"
          }
        }
      ]
    },
    {
      "cell_type": "markdown",
      "source": [
        "The number of Entities extracted for differnet Threshold Values\n",
        "\n",
        "These files are not uploaded into Git repository considering the size.  These files are avialable in the Google dirve for download. These should be placed in the project's data directory if you want to generate the graph or anlysed the terms exracted for each threshold values"
      ],
      "metadata": {
        "id": "6qxdFDxeKoDH"
      },
      "id": "6qxdFDxeKoDH"
    },
    {
      "cell_type": "code",
      "execution_count": null,
      "metadata": {
        "id": "MWJt2hrrV6Pq",
        "colab": {
          "base_uri": "https://localhost:8080/",
          "height": 315
        },
        "outputId": "34013804-c3d5-40d3-edbf-bb5b93c7a2bb"
      },
      "outputs": [
        {
          "output_type": "stream",
          "name": "stdout",
          "text": [
            "[1454, 2488, 3450, 4085, 4694]\n"
          ]
        },
        {
          "output_type": "execute_result",
          "data": {
            "text/plain": [
              "<matplotlib.axes._subplots.AxesSubplot at 0x7ff38c4fa050>"
            ]
          },
          "metadata": {},
          "execution_count": 31
        },
        {
          "output_type": "display_data",
          "data": {
            "image/png": "[encoded data removed]",
            "text/plain": [
              "<Figure size 432x288 with 1 Axes>"
            ]
          },
          "metadata": {
            "needs_background": "light"
          }
        }
      ],
      "source": [
        "input_files = ['termsdec_12_mapping_data_wiki_text_0.6.csv',\n",
        "               'termsdec_12_mapping_data_wiki_text_0.7.csv',\n",
        "               'termsdec_07_mapping_data_wiki_text_0.8.csv',\n",
        "               'termsdec_12_mapping_data_wiki_text_0.9.csv',\n",
        "               'termsdec_12_mapping_data_wiki_text_1.0.csv']\n",
        "\n",
        "thresh_holds = [0.6, 0.7, 0.8, 0.9, 1.0]\n",
        "\n",
        "data_dir = \"../drive/\"\n",
        "terms_threshods = {}\n",
        "terms_count = list()\n",
        "for idx, file in enumerate(input_files):\n",
        "  df = pd.read_csv(data_dir+file)\n",
        "  terms_count.append(len(df))\n",
        "\n",
        "print(terms_count)\n",
        "d = {}\n",
        "d['Threshold'] = thresh_holds\n",
        "d['Terms_count'] = terms_count\n",
        "\n",
        "df = pd.DataFrame(d, columns=['Threshold','Terms_count'])\n",
        "df.plot.line(x='Threshold', y='Terms_count')"
      ],
      "id": "MWJt2hrrV6Pq"
    }
  ],
  "metadata": {
    "colab": {
      "collapsed_sections": [],
      "machine_shape": "hm",
      "name": "term_extraction_threshold_determination.ipynb",
      "provenance": [],
      "include_colab_link": true
    },
    "kernelspec": {
      "display_name": "Python 3",
      "language": "python",
      "name": "python3"
    },
    "language_info": {
      "codemirror_mode": {
        "name": "ipython",
        "version": 3
      },
      "file_extension": ".py",
      "mimetype": "text/x-python",
      "name": "python",
      "nbconvert_exporter": "python",
      "pygments_lexer": "ipython3",
      "version": "3.8.8"
    }
  },
  "nbformat": 4,
  "nbformat_minor": 5
}