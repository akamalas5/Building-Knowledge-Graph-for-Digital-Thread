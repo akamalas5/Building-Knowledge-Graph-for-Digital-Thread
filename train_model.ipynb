{
  "nbformat": 4,
  "nbformat_minor": 5,
  "metadata": {
    "accelerator": "GPU",
    "colab": {
      "name": "train_model.ipynb",
      "provenance": [],
      "collapsed_sections": [],
      "machine_shape": "hm",
      "include_colab_link": true
    },
    "kernelspec": {
      "display_name": "Python 3",
      "language": "python",
      "name": "python3"
    },
    "language_info": {
      "codemirror_mode": {
        "name": "ipython",
        "version": 3
      },
      "file_extension": ".py",
      "mimetype": "text/x-python",
      "name": "python",
      "nbconvert_exporter": "python",
      "pygments_lexer": "ipython3",
      "version": "3.8.8"
    },
    "widgets": {
      "application/vnd.jupyter.widget-state+json": {
        "bb25175d69b248f2b493852e19f6230d": {
          "model_module": "@jupyter-widgets/controls",
          "model_name": "HBoxModel",
          "model_module_version": "1.5.0",
          "state": {
            "_view_name": "HBoxView",
            "_dom_classes": [],
            "_model_name": "HBoxModel",
            "_view_module": "@jupyter-widgets/controls",
            "_model_module_version": "1.5.0",
            "_view_count": null,
            "_view_module_version": "1.5.0",
            "box_style": "",
            "layout": "IPY_MODEL_3aa4371f287e4f77a1fadb069721f70c",
            "_model_module": "@jupyter-widgets/controls",
            "children": [
              "IPY_MODEL_7db571a1dda14b96bb5496a54ef2a5be",
              "IPY_MODEL_6ef36c1f265a4ce7acf799f3d4d86d04",
              "IPY_MODEL_b0eb0e475896498587aa1d470e021c7e"
            ]
          }
        },
        "3aa4371f287e4f77a1fadb069721f70c": {
          "model_module": "@jupyter-widgets/base",
          "model_name": "LayoutModel",
          "model_module_version": "1.2.0",
          "state": {
            "_view_name": "LayoutView",
            "grid_template_rows": null,
            "right": null,
            "justify_content": null,
            "_view_module": "@jupyter-widgets/base",
            "overflow": null,
            "_model_module_version": "1.2.0",
            "_view_count": null,
            "flex_flow": null,
            "width": null,
            "min_width": null,
            "border": null,
            "align_items": null,
            "bottom": null,
            "_model_module": "@jupyter-widgets/base",
            "top": null,
            "grid_column": null,
            "overflow_y": null,
            "overflow_x": null,
            "grid_auto_flow": null,
            "grid_area": null,
            "grid_template_columns": null,
            "flex": null,
            "_model_name": "LayoutModel",
            "justify_items": null,
            "grid_row": null,
            "max_height": null,
            "align_content": null,
            "visibility": null,
            "align_self": null,
            "height": null,
            "min_height": null,
            "padding": null,
            "grid_auto_rows": null,
            "grid_gap": null,
            "max_width": null,
            "order": null,
            "_view_module_version": "1.2.0",
            "grid_template_areas": null,
            "object_position": null,
            "object_fit": null,
            "grid_auto_columns": null,
            "margin": null,
            "display": null,
            "left": null
          }
        },
        "7db571a1dda14b96bb5496a54ef2a5be": {
          "model_module": "@jupyter-widgets/controls",
          "model_name": "HTMLModel",
          "model_module_version": "1.5.0",
          "state": {
            "_view_name": "HTMLView",
            "style": "IPY_MODEL_513a58b76ecf4b32941b57c76e55dfe1",
            "_dom_classes": [],
            "description": "",
            "_model_name": "HTMLModel",
            "placeholder": "​",
            "_view_module": "@jupyter-widgets/controls",
            "_model_module_version": "1.5.0",
            "value": "100%",
            "_view_count": null,
            "_view_module_version": "1.5.0",
            "description_tooltip": null,
            "_model_module": "@jupyter-widgets/controls",
            "layout": "IPY_MODEL_7909805df04842cc9b1413f99b17b07c"
          }
        },
        "6ef36c1f265a4ce7acf799f3d4d86d04": {
          "model_module": "@jupyter-widgets/controls",
          "model_name": "FloatProgressModel",
          "model_module_version": "1.5.0",
          "state": {
            "_view_name": "ProgressView",
            "style": "IPY_MODEL_6288739ba92b4ae798fa1c0e7ac7f8f7",
            "_dom_classes": [],
            "description": "",
            "_model_name": "FloatProgressModel",
            "bar_style": "success",
            "max": 72254,
            "_view_module": "@jupyter-widgets/controls",
            "_model_module_version": "1.5.0",
            "value": 72254,
            "_view_count": null,
            "_view_module_version": "1.5.0",
            "orientation": "horizontal",
            "min": 0,
            "description_tooltip": null,
            "_model_module": "@jupyter-widgets/controls",
            "layout": "IPY_MODEL_dfda02f5b0274b79bac019495177e723"
          }
        },
        "b0eb0e475896498587aa1d470e021c7e": {
          "model_module": "@jupyter-widgets/controls",
          "model_name": "HTMLModel",
          "model_module_version": "1.5.0",
          "state": {
            "_view_name": "HTMLView",
            "style": "IPY_MODEL_3122a2361c1b42ef9eb60c7bcc7bedbc",
            "_dom_classes": [],
            "description": "",
            "_model_name": "HTMLModel",
            "placeholder": "​",
            "_view_module": "@jupyter-widgets/controls",
            "_model_module_version": "1.5.0",
            "value": " 72254/72254 [16:39&lt;00:00, 75.97it/s]",
            "_view_count": null,
            "_view_module_version": "1.5.0",
            "description_tooltip": null,
            "_model_module": "@jupyter-widgets/controls",
            "layout": "IPY_MODEL_3d897ff0a8bc4d0ca43f2e572b83bd4c"
          }
        },
        "513a58b76ecf4b32941b57c76e55dfe1": {
          "model_module": "@jupyter-widgets/controls",
          "model_name": "DescriptionStyleModel",
          "model_module_version": "1.5.0",
          "state": {
            "_view_name": "StyleView",
            "_model_name": "DescriptionStyleModel",
            "description_width": "",
            "_view_module": "@jupyter-widgets/base",
            "_model_module_version": "1.5.0",
            "_view_count": null,
            "_view_module_version": "1.2.0",
            "_model_module": "@jupyter-widgets/controls"
          }
        },
        "7909805df04842cc9b1413f99b17b07c": {
          "model_module": "@jupyter-widgets/base",
          "model_name": "LayoutModel",
          "model_module_version": "1.2.0",
          "state": {
            "_view_name": "LayoutView",
            "grid_template_rows": null,
            "right": null,
            "justify_content": null,
            "_view_module": "@jupyter-widgets/base",
            "overflow": null,
            "_model_module_version": "1.2.0",
            "_view_count": null,
            "flex_flow": null,
            "width": null,
            "min_width": null,
            "border": null,
            "align_items": null,
            "bottom": null,
            "_model_module": "@jupyter-widgets/base",
            "top": null,
            "grid_column": null,
            "overflow_y": null,
            "overflow_x": null,
            "grid_auto_flow": null,
            "grid_area": null,
            "grid_template_columns": null,
            "flex": null,
            "_model_name": "LayoutModel",
            "justify_items": null,
            "grid_row": null,
            "max_height": null,
            "align_content": null,
            "visibility": null,
            "align_self": null,
            "height": null,
            "min_height": null,
            "padding": null,
            "grid_auto_rows": null,
            "grid_gap": null,
            "max_width": null,
            "order": null,
            "_view_module_version": "1.2.0",
            "grid_template_areas": null,
            "object_position": null,
            "object_fit": null,
            "grid_auto_columns": null,
            "margin": null,
            "display": null,
            "left": null
          }
        },
        "6288739ba92b4ae798fa1c0e7ac7f8f7": {
          "model_module": "@jupyter-widgets/controls",
          "model_name": "ProgressStyleModel",
          "model_module_version": "1.5.0",
          "state": {
            "_view_name": "StyleView",
            "_model_name": "ProgressStyleModel",
            "description_width": "",
            "_view_module": "@jupyter-widgets/base",
            "_model_module_version": "1.5.0",
            "_view_count": null,
            "_view_module_version": "1.2.0",
            "bar_color": null,
            "_model_module": "@jupyter-widgets/controls"
          }
        },
        "dfda02f5b0274b79bac019495177e723": {
          "model_module": "@jupyter-widgets/base",
          "model_name": "LayoutModel",
          "model_module_version": "1.2.0",
          "state": {
            "_view_name": "LayoutView",
            "grid_template_rows": null,
            "right": null,
            "justify_content": null,
            "_view_module": "@jupyter-widgets/base",
            "overflow": null,
            "_model_module_version": "1.2.0",
            "_view_count": null,
            "flex_flow": null,
            "width": null,
            "min_width": null,
            "border": null,
            "align_items": null,
            "bottom": null,
            "_model_module": "@jupyter-widgets/base",
            "top": null,
            "grid_column": null,
            "overflow_y": null,
            "overflow_x": null,
            "grid_auto_flow": null,
            "grid_area": null,
            "grid_template_columns": null,
            "flex": null,
            "_model_name": "LayoutModel",
            "justify_items": null,
            "grid_row": null,
            "max_height": null,
            "align_content": null,
            "visibility": null,
            "align_self": null,
            "height": null,
            "min_height": null,
            "padding": null,
            "grid_auto_rows": null,
            "grid_gap": null,
            "max_width": null,
            "order": null,
            "_view_module_version": "1.2.0",
            "grid_template_areas": null,
            "object_position": null,
            "object_fit": null,
            "grid_auto_columns": null,
            "margin": null,
            "display": null,
            "left": null
          }
        },
        "3122a2361c1b42ef9eb60c7bcc7bedbc": {
          "model_module": "@jupyter-widgets/controls",
          "model_name": "DescriptionStyleModel",
          "model_module_version": "1.5.0",
          "state": {
            "_view_name": "StyleView",
            "_model_name": "DescriptionStyleModel",
            "description_width": "",
            "_view_module": "@jupyter-widgets/base",
            "_model_module_version": "1.5.0",
            "_view_count": null,
            "_view_module_version": "1.2.0",
            "_model_module": "@jupyter-widgets/controls"
          }
        },
        "3d897ff0a8bc4d0ca43f2e572b83bd4c": {
          "model_module": "@jupyter-widgets/base",
          "model_name": "LayoutModel",
          "model_module_version": "1.2.0",
          "state": {
            "_view_name": "LayoutView",
            "grid_template_rows": null,
            "right": null,
            "justify_content": null,
            "_view_module": "@jupyter-widgets/base",
            "overflow": null,
            "_model_module_version": "1.2.0",
            "_view_count": null,
            "flex_flow": null,
            "width": null,
            "min_width": null,
            "border": null,
            "align_items": null,
            "bottom": null,
            "_model_module": "@jupyter-widgets/base",
            "top": null,
            "grid_column": null,
            "overflow_y": null,
            "overflow_x": null,
            "grid_auto_flow": null,
            "grid_area": null,
            "grid_template_columns": null,
            "flex": null,
            "_model_name": "LayoutModel",
            "justify_items": null,
            "grid_row": null,
            "max_height": null,
            "align_content": null,
            "visibility": null,
            "align_self": null,
            "height": null,
            "min_height": null,
            "padding": null,
            "grid_auto_rows": null,
            "grid_gap": null,
            "max_width": null,
            "order": null,
            "_view_module_version": "1.2.0",
            "grid_template_areas": null,
            "object_position": null,
            "object_fit": null,
            "grid_auto_columns": null,
            "margin": null,
            "display": null,
            "left": null
          }
        },
        "ff5b050bd0814e3f9712885cb2d40473": {
          "model_module": "@jupyter-widgets/controls",
          "model_name": "HBoxModel",
          "model_module_version": "1.5.0",
          "state": {
            "_view_name": "HBoxView",
            "_dom_classes": [],
            "_model_name": "HBoxModel",
            "_view_module": "@jupyter-widgets/controls",
            "_model_module_version": "1.5.0",
            "_view_count": null,
            "_view_module_version": "1.5.0",
            "box_style": "",
            "layout": "IPY_MODEL_ae56aceb29ab4d17914f4987ffd00a86",
            "_model_module": "@jupyter-widgets/controls",
            "children": [
              "IPY_MODEL_f3449680089d4a6aa07f4b6004ccaf84",
              "IPY_MODEL_2fab227db12646239ddfef2bca055089",
              "IPY_MODEL_1e4d46df601a487b9b4f3d63980918ad"
            ]
          }
        },
        "ae56aceb29ab4d17914f4987ffd00a86": {
          "model_module": "@jupyter-widgets/base",
          "model_name": "LayoutModel",
          "model_module_version": "1.2.0",
          "state": {
            "_view_name": "LayoutView",
            "grid_template_rows": null,
            "right": null,
            "justify_content": null,
            "_view_module": "@jupyter-widgets/base",
            "overflow": null,
            "_model_module_version": "1.2.0",
            "_view_count": null,
            "flex_flow": null,
            "width": null,
            "min_width": null,
            "border": null,
            "align_items": null,
            "bottom": null,
            "_model_module": "@jupyter-widgets/base",
            "top": null,
            "grid_column": null,
            "overflow_y": null,
            "overflow_x": null,
            "grid_auto_flow": null,
            "grid_area": null,
            "grid_template_columns": null,
            "flex": null,
            "_model_name": "LayoutModel",
            "justify_items": null,
            "grid_row": null,
            "max_height": null,
            "align_content": null,
            "visibility": null,
            "align_self": null,
            "height": null,
            "min_height": null,
            "padding": null,
            "grid_auto_rows": null,
            "grid_gap": null,
            "max_width": null,
            "order": null,
            "_view_module_version": "1.2.0",
            "grid_template_areas": null,
            "object_position": null,
            "object_fit": null,
            "grid_auto_columns": null,
            "margin": null,
            "display": null,
            "left": null
          }
        },
        "f3449680089d4a6aa07f4b6004ccaf84": {
          "model_module": "@jupyter-widgets/controls",
          "model_name": "HTMLModel",
          "model_module_version": "1.5.0",
          "state": {
            "_view_name": "HTMLView",
            "style": "IPY_MODEL_c51f02fc6d014bd991189e7abccf358e",
            "_dom_classes": [],
            "description": "",
            "_model_name": "HTMLModel",
            "placeholder": "​",
            "_view_module": "@jupyter-widgets/controls",
            "_model_module_version": "1.5.0",
            "value": "Downloading: 100%",
            "_view_count": null,
            "_view_module_version": "1.5.0",
            "description_tooltip": null,
            "_model_module": "@jupyter-widgets/controls",
            "layout": "IPY_MODEL_540773dcd28a4a089ce3696660ab30f5"
          }
        },
        "2fab227db12646239ddfef2bca055089": {
          "model_module": "@jupyter-widgets/controls",
          "model_name": "FloatProgressModel",
          "model_module_version": "1.5.0",
          "state": {
            "_view_name": "ProgressView",
            "style": "IPY_MODEL_37930fb1d7aa4672a394ceb5a5aaae0c",
            "_dom_classes": [],
            "description": "",
            "_model_name": "FloatProgressModel",
            "bar_style": "success",
            "max": 433,
            "_view_module": "@jupyter-widgets/controls",
            "_model_module_version": "1.5.0",
            "value": 433,
            "_view_count": null,
            "_view_module_version": "1.5.0",
            "orientation": "horizontal",
            "min": 0,
            "description_tooltip": null,
            "_model_module": "@jupyter-widgets/controls",
            "layout": "IPY_MODEL_63acd0caac404c978693f01f533e0657"
          }
        },
        "1e4d46df601a487b9b4f3d63980918ad": {
          "model_module": "@jupyter-widgets/controls",
          "model_name": "HTMLModel",
          "model_module_version": "1.5.0",
          "state": {
            "_view_name": "HTMLView",
            "style": "IPY_MODEL_83b3e1c872754c979546c40c0ad19302",
            "_dom_classes": [],
            "description": "",
            "_model_name": "HTMLModel",
            "placeholder": "​",
            "_view_module": "@jupyter-widgets/controls",
            "_model_module_version": "1.5.0",
            "value": " 433/433 [00:00&lt;00:00, 16.3kB/s]",
            "_view_count": null,
            "_view_module_version": "1.5.0",
            "description_tooltip": null,
            "_model_module": "@jupyter-widgets/controls",
            "layout": "IPY_MODEL_c2caeaff331b4285a389234564eaff8a"
          }
        },
        "c51f02fc6d014bd991189e7abccf358e": {
          "model_module": "@jupyter-widgets/controls",
          "model_name": "DescriptionStyleModel",
          "model_module_version": "1.5.0",
          "state": {
            "_view_name": "StyleView",
            "_model_name": "DescriptionStyleModel",
            "description_width": "",
            "_view_module": "@jupyter-widgets/base",
            "_model_module_version": "1.5.0",
            "_view_count": null,
            "_view_module_version": "1.2.0",
            "_model_module": "@jupyter-widgets/controls"
          }
        },
        "540773dcd28a4a089ce3696660ab30f5": {
          "model_module": "@jupyter-widgets/base",
          "model_name": "LayoutModel",
          "model_module_version": "1.2.0",
          "state": {
            "_view_name": "LayoutView",
            "grid_template_rows": null,
            "right": null,
            "justify_content": null,
            "_view_module": "@jupyter-widgets/base",
            "overflow": null,
            "_model_module_version": "1.2.0",
            "_view_count": null,
            "flex_flow": null,
            "width": null,
            "min_width": null,
            "border": null,
            "align_items": null,
            "bottom": null,
            "_model_module": "@jupyter-widgets/base",
            "top": null,
            "grid_column": null,
            "overflow_y": null,
            "overflow_x": null,
            "grid_auto_flow": null,
            "grid_area": null,
            "grid_template_columns": null,
            "flex": null,
            "_model_name": "LayoutModel",
            "justify_items": null,
            "grid_row": null,
            "max_height": null,
            "align_content": null,
            "visibility": null,
            "align_self": null,
            "height": null,
            "min_height": null,
            "padding": null,
            "grid_auto_rows": null,
            "grid_gap": null,
            "max_width": null,
            "order": null,
            "_view_module_version": "1.2.0",
            "grid_template_areas": null,
            "object_position": null,
            "object_fit": null,
            "grid_auto_columns": null,
            "margin": null,
            "display": null,
            "left": null
          }
        },
        "37930fb1d7aa4672a394ceb5a5aaae0c": {
          "model_module": "@jupyter-widgets/controls",
          "model_name": "ProgressStyleModel",
          "model_module_version": "1.5.0",
          "state": {
            "_view_name": "StyleView",
            "_model_name": "ProgressStyleModel",
            "description_width": "",
            "_view_module": "@jupyter-widgets/base",
            "_model_module_version": "1.5.0",
            "_view_count": null,
            "_view_module_version": "1.2.0",
            "bar_color": null,
            "_model_module": "@jupyter-widgets/controls"
          }
        },
        "63acd0caac404c978693f01f533e0657": {
          "model_module": "@jupyter-widgets/base",
          "model_name": "LayoutModel",
          "model_module_version": "1.2.0",
          "state": {
            "_view_name": "LayoutView",
            "grid_template_rows": null,
            "right": null,
            "justify_content": null,
            "_view_module": "@jupyter-widgets/base",
            "overflow": null,
            "_model_module_version": "1.2.0",
            "_view_count": null,
            "flex_flow": null,
            "width": null,
            "min_width": null,
            "border": null,
            "align_items": null,
            "bottom": null,
            "_model_module": "@jupyter-widgets/base",
            "top": null,
            "grid_column": null,
            "overflow_y": null,
            "overflow_x": null,
            "grid_auto_flow": null,
            "grid_area": null,
            "grid_template_columns": null,
            "flex": null,
            "_model_name": "LayoutModel",
            "justify_items": null,
            "grid_row": null,
            "max_height": null,
            "align_content": null,
            "visibility": null,
            "align_self": null,
            "height": null,
            "min_height": null,
            "padding": null,
            "grid_auto_rows": null,
            "grid_gap": null,
            "max_width": null,
            "order": null,
            "_view_module_version": "1.2.0",
            "grid_template_areas": null,
            "object_position": null,
            "object_fit": null,
            "grid_auto_columns": null,
            "margin": null,
            "display": null,
            "left": null
          }
        },
        "83b3e1c872754c979546c40c0ad19302": {
          "model_module": "@jupyter-widgets/controls",
          "model_name": "DescriptionStyleModel",
          "model_module_version": "1.5.0",
          "state": {
            "_view_name": "StyleView",
            "_model_name": "DescriptionStyleModel",
            "description_width": "",
            "_view_module": "@jupyter-widgets/base",
            "_model_module_version": "1.5.0",
            "_view_count": null,
            "_view_module_version": "1.2.0",
            "_model_module": "@jupyter-widgets/controls"
          }
        },
        "c2caeaff331b4285a389234564eaff8a": {
          "model_module": "@jupyter-widgets/base",
          "model_name": "LayoutModel",
          "model_module_version": "1.2.0",
          "state": {
            "_view_name": "LayoutView",
            "grid_template_rows": null,
            "right": null,
            "justify_content": null,
            "_view_module": "@jupyter-widgets/base",
            "overflow": null,
            "_model_module_version": "1.2.0",
            "_view_count": null,
            "flex_flow": null,
            "width": null,
            "min_width": null,
            "border": null,
            "align_items": null,
            "bottom": null,
            "_model_module": "@jupyter-widgets/base",
            "top": null,
            "grid_column": null,
            "overflow_y": null,
            "overflow_x": null,
            "grid_auto_flow": null,
            "grid_area": null,
            "grid_template_columns": null,
            "flex": null,
            "_model_name": "LayoutModel",
            "justify_items": null,
            "grid_row": null,
            "max_height": null,
            "align_content": null,
            "visibility": null,
            "align_self": null,
            "height": null,
            "min_height": null,
            "padding": null,
            "grid_auto_rows": null,
            "grid_gap": null,
            "max_width": null,
            "order": null,
            "_view_module_version": "1.2.0",
            "grid_template_areas": null,
            "object_position": null,
            "object_fit": null,
            "grid_auto_columns": null,
            "margin": null,
            "display": null,
            "left": null
          }
        },
        "dccb3071fb0e4e65bb60976c26f38702": {
          "model_module": "@jupyter-widgets/controls",
          "model_name": "HBoxModel",
          "model_module_version": "1.5.0",
          "state": {
            "_view_name": "HBoxView",
            "_dom_classes": [],
            "_model_name": "HBoxModel",
            "_view_module": "@jupyter-widgets/controls",
            "_model_module_version": "1.5.0",
            "_view_count": null,
            "_view_module_version": "1.5.0",
            "box_style": "",
            "layout": "IPY_MODEL_545e7c01dc6d467280b975233e001b01",
            "_model_module": "@jupyter-widgets/controls",
            "children": [
              "IPY_MODEL_135269bf02034f6e8f4944450717b062",
              "IPY_MODEL_7c51433942ec4bf594df9ac511ed3bd8",
              "IPY_MODEL_f0e5132d7b514c4b9c78f7d1c4d845df"
            ]
          }
        },
        "545e7c01dc6d467280b975233e001b01": {
          "model_module": "@jupyter-widgets/base",
          "model_name": "LayoutModel",
          "model_module_version": "1.2.0",
          "state": {
            "_view_name": "LayoutView",
            "grid_template_rows": null,
            "right": null,
            "justify_content": null,
            "_view_module": "@jupyter-widgets/base",
            "overflow": null,
            "_model_module_version": "1.2.0",
            "_view_count": null,
            "flex_flow": null,
            "width": null,
            "min_width": null,
            "border": null,
            "align_items": null,
            "bottom": null,
            "_model_module": "@jupyter-widgets/base",
            "top": null,
            "grid_column": null,
            "overflow_y": null,
            "overflow_x": null,
            "grid_auto_flow": null,
            "grid_area": null,
            "grid_template_columns": null,
            "flex": null,
            "_model_name": "LayoutModel",
            "justify_items": null,
            "grid_row": null,
            "max_height": null,
            "align_content": null,
            "visibility": null,
            "align_self": null,
            "height": null,
            "min_height": null,
            "padding": null,
            "grid_auto_rows": null,
            "grid_gap": null,
            "max_width": null,
            "order": null,
            "_view_module_version": "1.2.0",
            "grid_template_areas": null,
            "object_position": null,
            "object_fit": null,
            "grid_auto_columns": null,
            "margin": null,
            "display": null,
            "left": null
          }
        },
        "135269bf02034f6e8f4944450717b062": {
          "model_module": "@jupyter-widgets/controls",
          "model_name": "HTMLModel",
          "model_module_version": "1.5.0",
          "state": {
            "_view_name": "HTMLView",
            "style": "IPY_MODEL_3b722143974b4e60941791f5b91c471f",
            "_dom_classes": [],
            "description": "",
            "_model_name": "HTMLModel",
            "placeholder": "​",
            "_view_module": "@jupyter-widgets/controls",
            "_model_module_version": "1.5.0",
            "value": "Downloading: 100%",
            "_view_count": null,
            "_view_module_version": "1.5.0",
            "description_tooltip": null,
            "_model_module": "@jupyter-widgets/controls",
            "layout": "IPY_MODEL_9b2ba22ac7524509899e5a705f46808b"
          }
        },
        "7c51433942ec4bf594df9ac511ed3bd8": {
          "model_module": "@jupyter-widgets/controls",
          "model_name": "FloatProgressModel",
          "model_module_version": "1.5.0",
          "state": {
            "_view_name": "ProgressView",
            "style": "IPY_MODEL_f319b0bd75614eb184cc92728fbd2536",
            "_dom_classes": [],
            "description": "",
            "_model_name": "FloatProgressModel",
            "bar_style": "success",
            "max": 440473133,
            "_view_module": "@jupyter-widgets/controls",
            "_model_module_version": "1.5.0",
            "value": 440473133,
            "_view_count": null,
            "_view_module_version": "1.5.0",
            "orientation": "horizontal",
            "min": 0,
            "description_tooltip": null,
            "_model_module": "@jupyter-widgets/controls",
            "layout": "IPY_MODEL_afc12af6874840f4af47c65b295e35bb"
          }
        },
        "f0e5132d7b514c4b9c78f7d1c4d845df": {
          "model_module": "@jupyter-widgets/controls",
          "model_name": "HTMLModel",
          "model_module_version": "1.5.0",
          "state": {
            "_view_name": "HTMLView",
            "style": "IPY_MODEL_7951342694434f48b5807f6f9e1a053e",
            "_dom_classes": [],
            "description": "",
            "_model_name": "HTMLModel",
            "placeholder": "​",
            "_view_module": "@jupyter-widgets/controls",
            "_model_module_version": "1.5.0",
            "value": " 440M/440M [00:19&lt;00:00, 27.2MB/s]",
            "_view_count": null,
            "_view_module_version": "1.5.0",
            "description_tooltip": null,
            "_model_module": "@jupyter-widgets/controls",
            "layout": "IPY_MODEL_5b933756b27d4941a985f89ef5887eaf"
          }
        },
        "3b722143974b4e60941791f5b91c471f": {
          "model_module": "@jupyter-widgets/controls",
          "model_name": "DescriptionStyleModel",
          "model_module_version": "1.5.0",
          "state": {
            "_view_name": "StyleView",
            "_model_name": "DescriptionStyleModel",
            "description_width": "",
            "_view_module": "@jupyter-widgets/base",
            "_model_module_version": "1.5.0",
            "_view_count": null,
            "_view_module_version": "1.2.0",
            "_model_module": "@jupyter-widgets/controls"
          }
        },
        "9b2ba22ac7524509899e5a705f46808b": {
          "model_module": "@jupyter-widgets/base",
          "model_name": "LayoutModel",
          "model_module_version": "1.2.0",
          "state": {
            "_view_name": "LayoutView",
            "grid_template_rows": null,
            "right": null,
            "justify_content": null,
            "_view_module": "@jupyter-widgets/base",
            "overflow": null,
            "_model_module_version": "1.2.0",
            "_view_count": null,
            "flex_flow": null,
            "width": null,
            "min_width": null,
            "border": null,
            "align_items": null,
            "bottom": null,
            "_model_module": "@jupyter-widgets/base",
            "top": null,
            "grid_column": null,
            "overflow_y": null,
            "overflow_x": null,
            "grid_auto_flow": null,
            "grid_area": null,
            "grid_template_columns": null,
            "flex": null,
            "_model_name": "LayoutModel",
            "justify_items": null,
            "grid_row": null,
            "max_height": null,
            "align_content": null,
            "visibility": null,
            "align_self": null,
            "height": null,
            "min_height": null,
            "padding": null,
            "grid_auto_rows": null,
            "grid_gap": null,
            "max_width": null,
            "order": null,
            "_view_module_version": "1.2.0",
            "grid_template_areas": null,
            "object_position": null,
            "object_fit": null,
            "grid_auto_columns": null,
            "margin": null,
            "display": null,
            "left": null
          }
        },
        "f319b0bd75614eb184cc92728fbd2536": {
          "model_module": "@jupyter-widgets/controls",
          "model_name": "ProgressStyleModel",
          "model_module_version": "1.5.0",
          "state": {
            "_view_name": "StyleView",
            "_model_name": "ProgressStyleModel",
            "description_width": "",
            "_view_module": "@jupyter-widgets/base",
            "_model_module_version": "1.5.0",
            "_view_count": null,
            "_view_module_version": "1.2.0",
            "bar_color": null,
            "_model_module": "@jupyter-widgets/controls"
          }
        },
        "afc12af6874840f4af47c65b295e35bb": {
          "model_module": "@jupyter-widgets/base",
          "model_name": "LayoutModel",
          "model_module_version": "1.2.0",
          "state": {
            "_view_name": "LayoutView",
            "grid_template_rows": null,
            "right": null,
            "justify_content": null,
            "_view_module": "@jupyter-widgets/base",
            "overflow": null,
            "_model_module_version": "1.2.0",
            "_view_count": null,
            "flex_flow": null,
            "width": null,
            "min_width": null,
            "border": null,
            "align_items": null,
            "bottom": null,
            "_model_module": "@jupyter-widgets/base",
            "top": null,
            "grid_column": null,
            "overflow_y": null,
            "overflow_x": null,
            "grid_auto_flow": null,
            "grid_area": null,
            "grid_template_columns": null,
            "flex": null,
            "_model_name": "LayoutModel",
            "justify_items": null,
            "grid_row": null,
            "max_height": null,
            "align_content": null,
            "visibility": null,
            "align_self": null,
            "height": null,
            "min_height": null,
            "padding": null,
            "grid_auto_rows": null,
            "grid_gap": null,
            "max_width": null,
            "order": null,
            "_view_module_version": "1.2.0",
            "grid_template_areas": null,
            "object_position": null,
            "object_fit": null,
            "grid_auto_columns": null,
            "margin": null,
            "display": null,
            "left": null
          }
        },
        "7951342694434f48b5807f6f9e1a053e": {
          "model_module": "@jupyter-widgets/controls",
          "model_name": "DescriptionStyleModel",
          "model_module_version": "1.5.0",
          "state": {
            "_view_name": "StyleView",
            "_model_name": "DescriptionStyleModel",
            "description_width": "",
            "_view_module": "@jupyter-widgets/base",
            "_model_module_version": "1.5.0",
            "_view_count": null,
            "_view_module_version": "1.2.0",
            "_model_module": "@jupyter-widgets/controls"
          }
        },
        "5b933756b27d4941a985f89ef5887eaf": {
          "model_module": "@jupyter-widgets/base",
          "model_name": "LayoutModel",
          "model_module_version": "1.2.0",
          "state": {
            "_view_name": "LayoutView",
            "grid_template_rows": null,
            "right": null,
            "justify_content": null,
            "_view_module": "@jupyter-widgets/base",
            "overflow": null,
            "_model_module_version": "1.2.0",
            "_view_count": null,
            "flex_flow": null,
            "width": null,
            "min_width": null,
            "border": null,
            "align_items": null,
            "bottom": null,
            "_model_module": "@jupyter-widgets/base",
            "top": null,
            "grid_column": null,
            "overflow_y": null,
            "overflow_x": null,
            "grid_auto_flow": null,
            "grid_area": null,
            "grid_template_columns": null,
            "flex": null,
            "_model_name": "LayoutModel",
            "justify_items": null,
            "grid_row": null,
            "max_height": null,
            "align_content": null,
            "visibility": null,
            "align_self": null,
            "height": null,
            "min_height": null,
            "padding": null,
            "grid_auto_rows": null,
            "grid_gap": null,
            "max_width": null,
            "order": null,
            "_view_module_version": "1.2.0",
            "grid_template_areas": null,
            "object_position": null,
            "object_fit": null,
            "grid_auto_columns": null,
            "margin": null,
            "display": null,
            "left": null
          }
        },
        "df1cdee8b789466cb0f46370fe42e785": {
          "model_module": "@jupyter-widgets/controls",
          "model_name": "HBoxModel",
          "model_module_version": "1.5.0",
          "state": {
            "_view_name": "HBoxView",
            "_dom_classes": [],
            "_model_name": "HBoxModel",
            "_view_module": "@jupyter-widgets/controls",
            "_model_module_version": "1.5.0",
            "_view_count": null,
            "_view_module_version": "1.5.0",
            "box_style": "",
            "layout": "IPY_MODEL_949184774f784636be95e2a31854b077",
            "_model_module": "@jupyter-widgets/controls",
            "children": [
              "IPY_MODEL_9d0f009f0a774c8a92d202ac380e94c9",
              "IPY_MODEL_b61e9a23969843049eeb6f480ad9e9c9",
              "IPY_MODEL_695088bd836c4df7bfe36c3b37cc96f4"
            ]
          }
        },
        "949184774f784636be95e2a31854b077": {
          "model_module": "@jupyter-widgets/base",
          "model_name": "LayoutModel",
          "model_module_version": "1.2.0",
          "state": {
            "_view_name": "LayoutView",
            "grid_template_rows": null,
            "right": null,
            "justify_content": null,
            "_view_module": "@jupyter-widgets/base",
            "overflow": null,
            "_model_module_version": "1.2.0",
            "_view_count": null,
            "flex_flow": null,
            "width": null,
            "min_width": null,
            "border": null,
            "align_items": null,
            "bottom": null,
            "_model_module": "@jupyter-widgets/base",
            "top": null,
            "grid_column": null,
            "overflow_y": null,
            "overflow_x": null,
            "grid_auto_flow": null,
            "grid_area": null,
            "grid_template_columns": null,
            "flex": null,
            "_model_name": "LayoutModel",
            "justify_items": null,
            "grid_row": null,
            "max_height": null,
            "align_content": null,
            "visibility": null,
            "align_self": null,
            "height": null,
            "min_height": null,
            "padding": null,
            "grid_auto_rows": null,
            "grid_gap": null,
            "max_width": null,
            "order": null,
            "_view_module_version": "1.2.0",
            "grid_template_areas": null,
            "object_position": null,
            "object_fit": null,
            "grid_auto_columns": null,
            "margin": null,
            "display": null,
            "left": null
          }
        },
        "9d0f009f0a774c8a92d202ac380e94c9": {
          "model_module": "@jupyter-widgets/controls",
          "model_name": "HTMLModel",
          "model_module_version": "1.5.0",
          "state": {
            "_view_name": "HTMLView",
            "style": "IPY_MODEL_53a9eec382d6404196e6860f69e886bb",
            "_dom_classes": [],
            "description": "",
            "_model_name": "HTMLModel",
            "placeholder": "​",
            "_view_module": "@jupyter-widgets/controls",
            "_model_module_version": "1.5.0",
            "value": "Downloading: 100%",
            "_view_count": null,
            "_view_module_version": "1.5.0",
            "description_tooltip": null,
            "_model_module": "@jupyter-widgets/controls",
            "layout": "IPY_MODEL_fa102290d17541c9ada8c670900dfc1a"
          }
        },
        "b61e9a23969843049eeb6f480ad9e9c9": {
          "model_module": "@jupyter-widgets/controls",
          "model_name": "FloatProgressModel",
          "model_module_version": "1.5.0",
          "state": {
            "_view_name": "ProgressView",
            "style": "IPY_MODEL_54ec7e22adee460b8b59a3e7c7a8652a",
            "_dom_classes": [],
            "description": "",
            "_model_name": "FloatProgressModel",
            "bar_style": "success",
            "max": 231508,
            "_view_module": "@jupyter-widgets/controls",
            "_model_module_version": "1.5.0",
            "value": 231508,
            "_view_count": null,
            "_view_module_version": "1.5.0",
            "orientation": "horizontal",
            "min": 0,
            "description_tooltip": null,
            "_model_module": "@jupyter-widgets/controls",
            "layout": "IPY_MODEL_1e2a8b22804746879bc921a9582cba0c"
          }
        },
        "695088bd836c4df7bfe36c3b37cc96f4": {
          "model_module": "@jupyter-widgets/controls",
          "model_name": "HTMLModel",
          "model_module_version": "1.5.0",
          "state": {
            "_view_name": "HTMLView",
            "style": "IPY_MODEL_5d1a9ac4152a400ea22acf7739975523",
            "_dom_classes": [],
            "description": "",
            "_model_name": "HTMLModel",
            "placeholder": "​",
            "_view_module": "@jupyter-widgets/controls",
            "_model_module_version": "1.5.0",
            "value": " 232k/232k [00:00&lt;00:00, 808kB/s]",
            "_view_count": null,
            "_view_module_version": "1.5.0",
            "description_tooltip": null,
            "_model_module": "@jupyter-widgets/controls",
            "layout": "IPY_MODEL_377955e59a1347c39c74e7783aeb3f7c"
          }
        },
        "53a9eec382d6404196e6860f69e886bb": {
          "model_module": "@jupyter-widgets/controls",
          "model_name": "DescriptionStyleModel",
          "model_module_version": "1.5.0",
          "state": {
            "_view_name": "StyleView",
            "_model_name": "DescriptionStyleModel",
            "description_width": "",
            "_view_module": "@jupyter-widgets/base",
            "_model_module_version": "1.5.0",
            "_view_count": null,
            "_view_module_version": "1.2.0",
            "_model_module": "@jupyter-widgets/controls"
          }
        },
        "fa102290d17541c9ada8c670900dfc1a": {
          "model_module": "@jupyter-widgets/base",
          "model_name": "LayoutModel",
          "model_module_version": "1.2.0",
          "state": {
            "_view_name": "LayoutView",
            "grid_template_rows": null,
            "right": null,
            "justify_content": null,
            "_view_module": "@jupyter-widgets/base",
            "overflow": null,
            "_model_module_version": "1.2.0",
            "_view_count": null,
            "flex_flow": null,
            "width": null,
            "min_width": null,
            "border": null,
            "align_items": null,
            "bottom": null,
            "_model_module": "@jupyter-widgets/base",
            "top": null,
            "grid_column": null,
            "overflow_y": null,
            "overflow_x": null,
            "grid_auto_flow": null,
            "grid_area": null,
            "grid_template_columns": null,
            "flex": null,
            "_model_name": "LayoutModel",
            "justify_items": null,
            "grid_row": null,
            "max_height": null,
            "align_content": null,
            "visibility": null,
            "align_self": null,
            "height": null,
            "min_height": null,
            "padding": null,
            "grid_auto_rows": null,
            "grid_gap": null,
            "max_width": null,
            "order": null,
            "_view_module_version": "1.2.0",
            "grid_template_areas": null,
            "object_position": null,
            "object_fit": null,
            "grid_auto_columns": null,
            "margin": null,
            "display": null,
            "left": null
          }
        },
        "54ec7e22adee460b8b59a3e7c7a8652a": {
          "model_module": "@jupyter-widgets/controls",
          "model_name": "ProgressStyleModel",
          "model_module_version": "1.5.0",
          "state": {
            "_view_name": "StyleView",
            "_model_name": "ProgressStyleModel",
            "description_width": "",
            "_view_module": "@jupyter-widgets/base",
            "_model_module_version": "1.5.0",
            "_view_count": null,
            "_view_module_version": "1.2.0",
            "bar_color": null,
            "_model_module": "@jupyter-widgets/controls"
          }
        },
        "1e2a8b22804746879bc921a9582cba0c": {
          "model_module": "@jupyter-widgets/base",
          "model_name": "LayoutModel",
          "model_module_version": "1.2.0",
          "state": {
            "_view_name": "LayoutView",
            "grid_template_rows": null,
            "right": null,
            "justify_content": null,
            "_view_module": "@jupyter-widgets/base",
            "overflow": null,
            "_model_module_version": "1.2.0",
            "_view_count": null,
            "flex_flow": null,
            "width": null,
            "min_width": null,
            "border": null,
            "align_items": null,
            "bottom": null,
            "_model_module": "@jupyter-widgets/base",
            "top": null,
            "grid_column": null,
            "overflow_y": null,
            "overflow_x": null,
            "grid_auto_flow": null,
            "grid_area": null,
            "grid_template_columns": null,
            "flex": null,
            "_model_name": "LayoutModel",
            "justify_items": null,
            "grid_row": null,
            "max_height": null,
            "align_content": null,
            "visibility": null,
            "align_self": null,
            "height": null,
            "min_height": null,
            "padding": null,
            "grid_auto_rows": null,
            "grid_gap": null,
            "max_width": null,
            "order": null,
            "_view_module_version": "1.2.0",
            "grid_template_areas": null,
            "object_position": null,
            "object_fit": null,
            "grid_auto_columns": null,
            "margin": null,
            "display": null,
            "left": null
          }
        },
        "5d1a9ac4152a400ea22acf7739975523": {
          "model_module": "@jupyter-widgets/controls",
          "model_name": "DescriptionStyleModel",
          "model_module_version": "1.5.0",
          "state": {
            "_view_name": "StyleView",
            "_model_name": "DescriptionStyleModel",
            "description_width": "",
            "_view_module": "@jupyter-widgets/base",
            "_model_module_version": "1.5.0",
            "_view_count": null,
            "_view_module_version": "1.2.0",
            "_model_module": "@jupyter-widgets/controls"
          }
        },
        "377955e59a1347c39c74e7783aeb3f7c": {
          "model_module": "@jupyter-widgets/base",
          "model_name": "LayoutModel",
          "model_module_version": "1.2.0",
          "state": {
            "_view_name": "LayoutView",
            "grid_template_rows": null,
            "right": null,
            "justify_content": null,
            "_view_module": "@jupyter-widgets/base",
            "overflow": null,
            "_model_module_version": "1.2.0",
            "_view_count": null,
            "flex_flow": null,
            "width": null,
            "min_width": null,
            "border": null,
            "align_items": null,
            "bottom": null,
            "_model_module": "@jupyter-widgets/base",
            "top": null,
            "grid_column": null,
            "overflow_y": null,
            "overflow_x": null,
            "grid_auto_flow": null,
            "grid_area": null,
            "grid_template_columns": null,
            "flex": null,
            "_model_name": "LayoutModel",
            "justify_items": null,
            "grid_row": null,
            "max_height": null,
            "align_content": null,
            "visibility": null,
            "align_self": null,
            "height": null,
            "min_height": null,
            "padding": null,
            "grid_auto_rows": null,
            "grid_gap": null,
            "max_width": null,
            "order": null,
            "_view_module_version": "1.2.0",
            "grid_template_areas": null,
            "object_position": null,
            "object_fit": null,
            "grid_auto_columns": null,
            "margin": null,
            "display": null,
            "left": null
          }
        }
      }
    }
  },
  "cells": [
    {
      "cell_type": "markdown",
      "metadata": {
        "id": "view-in-github",
        "colab_type": "text"
      },
      "source": [
        "<a href=\"https://colab.research.google.com/github/akamalas5/Capstone/blob/main/train_model.ipynb\" target=\"_parent\"><img src=\"https://colab.research.google.com/assets/colab-badge.svg\" alt=\"Open In Colab\"/></a>"
      ]
    },
    {
      "cell_type": "code",
      "metadata": {
        "id": "tDu76Zh8H8HE"
      },
      "source": [
        "import requests\n",
        "from collections import defaultdict\n",
        "from tqdm import tqdm\n",
        "from bs4 import BeautifulSoup\n",
        "import pandas as pd\n",
        "import requests\n",
        "import re\n",
        "from tqdm.notebook import tqdm\n",
        "import numpy as np\n",
        "import ast\n",
        "import csv\n",
        "\n",
        "# Wikifier\n",
        "import urllib\n",
        "from string import punctuation\n",
        "import nltk\n",
        "import json\n",
        "import itertools\n",
        "\n",
        "import numpy as np\n",
        "from sklearn.model_selection import train_test_split\n"
      ],
      "id": "tDu76Zh8H8HE",
      "execution_count": null,
      "outputs": []
    },
    {
      "cell_type": "code",
      "metadata": {
        "colab": {
          "base_uri": "https://localhost:8080/"
        },
        "id": "VUKfxl_QH8LE",
        "outputId": "6289f5c9-4210-4f17-fa17-b907f8aac3fe"
      },
      "source": [
        "from google.colab import drive\n",
        "drive.mount('/content/drive')"
      ],
      "id": "VUKfxl_QH8LE",
      "execution_count": null,
      "outputs": [
        {
          "output_type": "stream",
          "name": "stdout",
          "text": [
            "Mounted at /content/drive\n"
          ]
        }
      ]
    },
    {
      "cell_type": "code",
      "metadata": {
        "id": "esKtcHT42gVR",
        "colab": {
          "base_uri": "https://localhost:8080/"
        },
        "outputId": "7cdb7d3f-9c01-4be9-ad96-90c9f94c45ed"
      },
      "source": [
        "#train_data = '/content/drive/MyDrive/Capstone/data/train_data/wiki_model_input_trial_5K.csv'\n",
        "#train_data = '/content/drive/MyDrive/Capstone/data/train_data/wiki_model_input_trial_5K.xlsx'\n",
        "train_data = '/content/drive/MyDrive/Capstone/data/train_data/wiki_model_input_trial_10K.csv'\n",
        "\n",
        "\n",
        "wiki_train_df = pd.read_csv(train_data)\n",
        "wiki_train_df['data'] = wiki_train_df['data'].apply(ast.literal_eval) \n",
        "\n",
        "train_df, test_df = train_test_split(wiki_train_df, test_size=0.2, random_state=42, shuffle=True)\n",
        "print(len(wiki_train_df), len(train_df), len(test_df))\n",
        "\n",
        "\n",
        "#wiki_train_df = pd.read_excel(train_data)\n",
        "\n",
        "\n",
        "train_df['data'].to_csv(\"/content/drive/My Drive/Capstone/data/train_data/wiki_train_df.txt\",\n",
        "                             quoting=csv.QUOTE_NONE, sep='\\t', header = False, index = False)\n",
        "test_df['data'].to_csv(\"/content/drive/My Drive/Capstone/data/train_data/wiki_test_df.txt\",\n",
        "                             quoting=csv.QUOTE_NONE, sep='\\t', header = False, index = False)\n"
      ],
      "id": "esKtcHT42gVR",
      "execution_count": null,
      "outputs": [
        {
          "output_type": "stream",
          "name": "stdout",
          "text": [
            "10218 8174 2044\n"
          ]
        }
      ]
    },
    {
      "cell_type": "markdown",
      "source": [
        "Rel2ID - Relationship to ID"
      ],
      "metadata": {
        "id": "-Gjbw8y0KYCL"
      },
      "id": "-Gjbw8y0KYCL"
    },
    {
      "cell_type": "code",
      "metadata": {
        "id": "07w3XFZE2gYf"
      },
      "source": [
        "import json\n",
        "\n",
        "brake_train_rel2id = {\n",
        "    'is part of':0,\n",
        "    'is type of':1, \n",
        "    'Relation':2, \n",
        "    'is related with':3, \n",
        "    'uses':4,\n",
        "    'interacts with':5, \n",
        "    'is parameter of':6, \n",
        "    'indirectly related with':7,\n",
        "    'consists of':8, \n",
        "    'has type':9, \n",
        "    'has parameter':10\n",
        "}\n",
        "f_rel2id_json = '/content/drive/MyDrive/Capstone/data/train_data/wiki_model_rel2id.json'\n",
        "with open(f_rel2id_json, \"w\") as fp:\n",
        "    json.dump(brake_train_rel2id , fp) "
      ],
      "id": "07w3XFZE2gYf",
      "execution_count": null,
      "outputs": []
    },
    {
      "cell_type": "code",
      "metadata": {
        "colab": {
          "base_uri": "https://localhost:8080/"
        },
        "id": "UwPhl7jj7m8f",
        "outputId": "4e931f05-3429-46d6-93d0-8d18086ba8f4"
      },
      "source": [
        " # Opening JSON file\n",
        "f = open(f_rel2id_json)\n",
        " \n",
        "# returns JSON object as\n",
        "# a dictionary\n",
        "data = json.load(f)\n",
        "data"
      ],
      "id": "UwPhl7jj7m8f",
      "execution_count": null,
      "outputs": [
        {
          "output_type": "execute_result",
          "data": {
            "text/plain": [
              "{'Relation': 2,\n",
              " 'consists of': 8,\n",
              " 'has parameter': 10,\n",
              " 'has type': 9,\n",
              " 'indirectly related with': 7,\n",
              " 'interacts with': 5,\n",
              " 'is parameter of': 6,\n",
              " 'is part of': 0,\n",
              " 'is related with': 3,\n",
              " 'is type of': 1,\n",
              " 'uses': 4}"
            ]
          },
          "metadata": {},
          "execution_count": 5
        }
      ]
    },
    {
      "cell_type": "markdown",
      "metadata": {
        "id": "MWWe-4ix0LSZ"
      },
      "source": [
        "Load OpenNRE"
      ],
      "id": "MWWe-4ix0LSZ"
    },
    {
      "cell_type": "code",
      "metadata": {
        "id": "CYMo7SYF45Kt"
      },
      "source": [
        "import os\n",
        "os.chdir('/content/drive/My Drive/myEnv')\n",
        "import transformers\n",
        "os.chdir('/content/drive/My Drive/myEnv/OpenNRE')\n",
        "import opennre\n",
        "import spacy"
      ],
      "id": "CYMo7SYF45Kt",
      "execution_count": null,
      "outputs": []
    },
    {
      "cell_type": "markdown",
      "metadata": {
        "id": "OSAbZGgsxBgT"
      },
      "source": [
        "Train Bert Model with benchmark data\n",
        "'/content/drive/My Drive/myEnv/OpenNRE/example/train_supervised_bert.py'\n"
      ],
      "id": "OSAbZGgsxBgT"
    },
    {
      "cell_type": "code",
      "metadata": {
        "id": "VfkbEYbTL_DK"
      },
      "source": [
        "import torch\n",
        "import numpy as np\n",
        "import json\n",
        "# Anand commented below one. It is imported before calling this script\n",
        "import opennre\n",
        "from opennre import encoder, model, framework\n",
        "import sys\n",
        "import os\n",
        "import argparse\n",
        "import logging\n",
        "import random"
      ],
      "id": "VfkbEYbTL_DK",
      "execution_count": null,
      "outputs": []
    },
    {
      "cell_type": "code",
      "metadata": {
        "id": "0-jofvawNayV"
      },
      "source": [
        "def set_seed(seed):\n",
        "    random.seed(seed)\n",
        "    np.random.seed(seed)\n",
        "    torch.manual_seed(seed)\n",
        "    torch.cuda.manual_seed_all(seed)\n",
        "set_seed(42)"
      ],
      "id": "0-jofvawNayV",
      "execution_count": null,
      "outputs": []
    },
    {
      "cell_type": "code",
      "metadata": {
        "colab": {
          "base_uri": "https://localhost:8080/",
          "height": 131,
          "referenced_widgets": [
            "ff5b050bd0814e3f9712885cb2d40473",
            "ae56aceb29ab4d17914f4987ffd00a86",
            "f3449680089d4a6aa07f4b6004ccaf84",
            "2fab227db12646239ddfef2bca055089",
            "1e4d46df601a487b9b4f3d63980918ad",
            "c51f02fc6d014bd991189e7abccf358e",
            "540773dcd28a4a089ce3696660ab30f5",
            "37930fb1d7aa4672a394ceb5a5aaae0c",
            "63acd0caac404c978693f01f533e0657",
            "83b3e1c872754c979546c40c0ad19302",
            "c2caeaff331b4285a389234564eaff8a",
            "dccb3071fb0e4e65bb60976c26f38702",
            "545e7c01dc6d467280b975233e001b01",
            "135269bf02034f6e8f4944450717b062",
            "7c51433942ec4bf594df9ac511ed3bd8",
            "f0e5132d7b514c4b9c78f7d1c4d845df",
            "3b722143974b4e60941791f5b91c471f",
            "9b2ba22ac7524509899e5a705f46808b",
            "f319b0bd75614eb184cc92728fbd2536",
            "afc12af6874840f4af47c65b295e35bb",
            "7951342694434f48b5807f6f9e1a053e",
            "5b933756b27d4941a985f89ef5887eaf",
            "df1cdee8b789466cb0f46370fe42e785",
            "949184774f784636be95e2a31854b077",
            "9d0f009f0a774c8a92d202ac380e94c9",
            "b61e9a23969843049eeb6f480ad9e9c9",
            "695088bd836c4df7bfe36c3b37cc96f4",
            "53a9eec382d6404196e6860f69e886bb",
            "fa102290d17541c9ada8c670900dfc1a",
            "54ec7e22adee460b8b59a3e7c7a8652a",
            "1e2a8b22804746879bc921a9582cba0c",
            "5d1a9ac4152a400ea22acf7739975523",
            "377955e59a1347c39c74e7783aeb3f7c"
          ]
        },
        "id": "VU4cJK5lNa1P",
        "outputId": "b2907504-f317-47ba-a63c-8210fb006c18"
      },
      "source": [
        "def define_sentence_encoder(pooler = 'entity', max_length=128,\n",
        "                            pretrain_path = 'bert-base-uncased',\n",
        "                            mask_entity = 'mask_entity'):\n",
        "  if pooler == 'entity':\n",
        "    sentence_encoder = opennre.encoder.BERTEntityEncoder(\n",
        "        max_length=max_length, \n",
        "        pretrain_path= pretrain_path,\n",
        "        mask_entity=mask_entity\n",
        "    )\n",
        "  elif pooler == 'cls':\n",
        "    sentence_encoder = opennre.encoder.BERTEncoder(\n",
        "        max_length=max_length, \n",
        "        pretrain_path=pretrain_path,\n",
        "        mask_entity=mask_entity\n",
        "    )\n",
        "  else:\n",
        "    raise NotImplementedError\n",
        "\n",
        "  return sentence_encoder\n",
        "sentence_encoder = define_sentence_encoder()"
      ],
      "id": "VU4cJK5lNa1P",
      "execution_count": null,
      "outputs": [
        {
          "output_type": "stream",
          "name": "stderr",
          "text": [
            "2021-12-14 02:10:18,110 - root - INFO - Loading BERT pre-trained checkpoint.\n"
          ]
        },
        {
          "output_type": "display_data",
          "data": {
            "application/vnd.jupyter.widget-view+json": {
              "model_id": "ff5b050bd0814e3f9712885cb2d40473",
              "version_minor": 0,
              "version_major": 2
            },
            "text/plain": [
              "Downloading:   0%|          | 0.00/433 [00:00<?, ?B/s]"
            ]
          },
          "metadata": {}
        },
        {
          "output_type": "display_data",
          "data": {
            "application/vnd.jupyter.widget-view+json": {
              "model_id": "dccb3071fb0e4e65bb60976c26f38702",
              "version_minor": 0,
              "version_major": 2
            },
            "text/plain": [
              "Downloading:   0%|          | 0.00/440M [00:00<?, ?B/s]"
            ]
          },
          "metadata": {}
        },
        {
          "output_type": "display_data",
          "data": {
            "application/vnd.jupyter.widget-view+json": {
              "model_id": "df1cdee8b789466cb0f46370fe42e785",
              "version_minor": 0,
              "version_major": 2
            },
            "text/plain": [
              "Downloading:   0%|          | 0.00/232k [00:00<?, ?B/s]"
            ]
          },
          "metadata": {}
        }
      ]
    },
    {
      "cell_type": "markdown",
      "source": [
        "Split the Train data - Train, Val and Test"
      ],
      "metadata": {
        "id": "MUTE0DAngaUH"
      },
      "id": "MUTE0DAngaUH"
    },
    {
      "cell_type": "code",
      "metadata": {
        "id": "nY_mULFslyH_"
      },
      "source": [
        "train_file = \"/content/drive/My Drive/Capstone/data/train_data/wiki_train_df.txt\"\n",
        "val_file = \"/content/drive/My Drive/Capstone/data/train_data/wiki_test_df.txt\"\n",
        "test_file = \"/content/drive/My Drive/Capstone/data/train_data/wiki_test_df.txt\"\n",
        "\n",
        "rel2id_file = f_rel2id_json"
      ],
      "id": "nY_mULFslyH_",
      "execution_count": null,
      "outputs": []
    },
    {
      "cell_type": "code",
      "metadata": {
        "id": "qydC1jzkQXi_"
      },
      "source": [
        "rel2id = json.load(open(rel2id_file))\n",
        "my_model = opennre.model.SoftmaxNN(sentence_encoder, len(rel2id), rel2id)"
      ],
      "id": "qydC1jzkQXi_",
      "execution_count": null,
      "outputs": []
    },
    {
      "cell_type": "code",
      "metadata": {
        "colab": {
          "base_uri": "https://localhost:8080/"
        },
        "id": "O6pA-I8qSDNP",
        "outputId": "09ab735c-6ed1-4753-e82d-25f625248023"
      },
      "source": [
        "# Define the whole training framework\n",
        "framework = opennre.framework.SentenceRE(\n",
        "    train_path=train_file,\n",
        "    val_path=val_file,\n",
        "    test_path=test_file,\n",
        "    model=my_model,\n",
        "    ckpt='/content/drive/My Drive/myEnv/OpenNRE/pretrain/bert-base-uncased/vocab.txt',\n",
        "    batch_size=64,\n",
        "    max_epoch=3,\n",
        "    lr=2e-5,\n",
        "    opt='adamw'\n",
        ")"
      ],
      "id": "O6pA-I8qSDNP",
      "execution_count": null,
      "outputs": [
        {
          "output_type": "stream",
          "name": "stderr",
          "text": [
            "2021-12-14 02:10:42,326 - root - INFO - Loaded sentence RE dataset /content/drive/My Drive/Capstone/data/train_data/wiki_train_df.txt with 8174 lines and 11 relations.\n",
            "2021-12-14 02:10:42,505 - root - INFO - Loaded sentence RE dataset /content/drive/My Drive/Capstone/data/train_data/wiki_test_df.txt with 2044 lines and 11 relations.\n",
            "2021-12-14 02:10:42,666 - root - INFO - Loaded sentence RE dataset /content/drive/My Drive/Capstone/data/train_data/wiki_test_df.txt with 2044 lines and 11 relations.\n"
          ]
        }
      ]
    },
    {
      "cell_type": "code",
      "source": [
        "#Trial  - End iteration flag is set to false in execption for debuggins\n",
        "# File \"/content/drive/My Drive/myEnv/torch/utils/data/_utils/worker.py\", line 185,"
      ],
      "metadata": {
        "id": "38yPdQJze7tj"
      },
      "id": "38yPdQJze7tj",
      "execution_count": null,
      "outputs": []
    },
    {
      "cell_type": "code",
      "metadata": {
        "id": "ZhlNRVQHSDQE",
        "colab": {
          "base_uri": "https://localhost:8080/"
        },
        "outputId": "ae37d31f-57db-4de6-afab-658a9411039c"
      },
      "source": [
        "framework.train_model('micro_f1')"
      ],
      "id": "ZhlNRVQHSDQE",
      "execution_count": null,
      "outputs": [
        {
          "output_type": "stream",
          "name": "stderr",
          "text": [
            "2021-12-14 02:10:50,999 - root - INFO - === Epoch 0 train ===\n",
            "100%|██████████| 128/128 [01:33<00:00,  1.36it/s, acc=0.311, loss=1.96]\n",
            "2021-12-14 02:12:24,909 - root - INFO - === Epoch 0 val ===\n",
            "100%|██████████| 32/32 [00:08<00:00,  3.79it/s, acc=0.582]\n",
            "2021-12-14 02:12:33,371 - root - INFO - Evaluation result: {'acc': 0.5821917808219178, 'micro_p': 0.5821917808219178, 'micro_r': 0.5821917808219178, 'micro_f1': 0.5821917808219178}.\n",
            "2021-12-14 02:12:33,373 - root - INFO - Metric micro_f1 current / best: 0.5821917808219178 / 0\n",
            "2021-12-14 02:12:33,375 - root - INFO - Best ckpt and saved.\n",
            "2021-12-14 02:12:40,724 - root - INFO - === Epoch 1 train ===\n",
            "100%|██████████| 128/128 [01:31<00:00,  1.39it/s, acc=0.714, loss=0.93]\n",
            "2021-12-14 02:14:12,702 - root - INFO - === Epoch 1 val ===\n",
            "100%|██████████| 32/32 [00:08<00:00,  3.79it/s, acc=0.818]\n",
            "2021-12-14 02:14:21,146 - root - INFO - Evaluation result: {'acc': 0.8175146771037182, 'micro_p': 0.8175146771037182, 'micro_r': 0.8175146771037182, 'micro_f1': 0.8175146771037182}.\n",
            "2021-12-14 02:14:21,147 - root - INFO - Metric micro_f1 current / best: 0.8175146771037182 / 0.5821917808219178\n",
            "2021-12-14 02:14:21,148 - root - INFO - Best ckpt and saved.\n",
            "2021-12-14 02:14:22,775 - root - INFO - === Epoch 2 train ===\n",
            "100%|██████████| 128/128 [01:31<00:00,  1.39it/s, acc=0.885, loss=0.39]\n",
            "2021-12-14 02:15:54,780 - root - INFO - === Epoch 2 val ===\n",
            "100%|██████████| 32/32 [00:08<00:00,  3.84it/s, acc=0.89]\n",
            "2021-12-14 02:16:03,118 - root - INFO - Evaluation result: {'acc': 0.8904109589041096, 'micro_p': 0.8904109589041096, 'micro_r': 0.8904109589041096, 'micro_f1': 0.8904109589041096}.\n",
            "2021-12-14 02:16:03,120 - root - INFO - Metric micro_f1 current / best: 0.8904109589041096 / 0.8175146771037182\n",
            "2021-12-14 02:16:03,121 - root - INFO - Best ckpt and saved.\n",
            "2021-12-14 02:16:04,796 - root - INFO - Best micro_f1 on val set: 0.890411\n"
          ]
        }
      ]
    },
    {
      "cell_type": "code",
      "metadata": {
        "id": "UdQLkIBCrdFU"
      },
      "source": [
        " "
      ],
      "id": "UdQLkIBCrdFU",
      "execution_count": null,
      "outputs": []
    },
    {
      "cell_type": "code",
      "metadata": {
        "id": "HfIjHro4TpgB",
        "colab": {
          "base_uri": "https://localhost:8080/"
        },
        "outputId": "e672d874-e342-43f4-edce-954eda240a5f"
      },
      "source": [
        "# Test\n",
        "ckpt='/content/drive/My Drive/myEnv/OpenNRE/pretrain/bert-base-uncased/vocab.txt'\n",
        "\n",
        "framework.load_state_dict(torch.load(ckpt)['state_dict'])\n",
        "result = framework.eval_model(framework.test_loader)\n",
        "\n",
        "# Print the result\n",
        "logging.info('Test set results:')\n",
        "logging.info('Accuracy: {}'.format(result['acc']))\n",
        "logging.info('Micro precision: {}'.format(result['micro_p']))\n",
        "logging.info('Micro recall: {}'.format(result['micro_r']))\n",
        "logging.info('Micro F1: {}'.format(result['micro_f1']))"
      ],
      "id": "HfIjHro4TpgB",
      "execution_count": null,
      "outputs": [
        {
          "output_type": "stream",
          "name": "stderr",
          "text": [
            "100%|██████████| 32/32 [00:08<00:00,  3.78it/s, acc=0.89]\n",
            "2021-12-14 02:16:13,899 - root - INFO - Evaluation result: {'acc': 0.8904109589041096, 'micro_p': 0.8904109589041096, 'micro_r': 0.8904109589041096, 'micro_f1': 0.8904109589041096}.\n",
            "2021-12-14 02:16:13,900 - root - INFO - Test set results:\n",
            "2021-12-14 02:16:13,901 - root - INFO - Accuracy: 0.8904109589041096\n",
            "2021-12-14 02:16:13,904 - root - INFO - Micro precision: 0.8904109589041096\n",
            "2021-12-14 02:16:13,905 - root - INFO - Micro recall: 0.8904109589041096\n",
            "2021-12-14 02:16:13,906 - root - INFO - Micro F1: 0.8904109589041096\n"
          ]
        }
      ]
    },
    {
      "cell_type": "code",
      "source": [
        "data = my_model.infer(\n",
        "    {'token': ['Some', 'vehicles', 'use', 'a', 'combination', 'of', 'braking', 'mechanisms'], 'h': {'pos': [1, 2]}, 't': {'pos': [6, 7]}}\n",
        ")\n",
        "print(data)"
      ],
      "metadata": {
        "colab": {
          "base_uri": "https://localhost:8080/"
        },
        "id": "zMKpVYbHGEcM",
        "outputId": "c7a4346d-84a7-4760-e178-26e20e4dabd6"
      },
      "id": "zMKpVYbHGEcM",
      "execution_count": null,
      "outputs": [
        {
          "output_type": "stream",
          "name": "stdout",
          "text": [
            "('indirectly related with', 0.47297462821006775)\n"
          ]
        }
      ]
    },
    {
      "cell_type": "code",
      "source": [
        "import pickle\n",
        "filename = '/content/drive/My Drive/Capstone/data/train_data/finalized_model.pkl'\n",
        "#pickle.dump(my_model, open(filename, 'wb'))"
      ],
      "metadata": {
        "id": "ngnvbgtoFppx"
      },
      "id": "ngnvbgtoFppx",
      "execution_count": null,
      "outputs": []
    },
    {
      "cell_type": "code",
      "source": [
        "ls *.pkl"
      ],
      "metadata": {
        "colab": {
          "base_uri": "https://localhost:8080/"
        },
        "id": "Ybm-07LTI88Z",
        "outputId": "8511bb58-27ea-486a-ae66-2dfb39d81d83"
      },
      "id": "Ybm-07LTI88Z",
      "execution_count": null,
      "outputs": [
        {
          "output_type": "stream",
          "name": "stdout",
          "text": [
            "finalized_model.pkl\n"
          ]
        }
      ]
    },
    {
      "cell_type": "code",
      "source": [
        "loaded_model = pickle.load(open(filename, 'rb'))\n",
        "data = loaded_model.infer(\n",
        "    {'text': 'brake is a mechanical system, it is related to chassis', 'h': {'pos': [11, 21]}, 't': {'pos': [47, 54]}}\n",
        ")\n",
        "print(data)"
      ],
      "metadata": {
        "colab": {
          "base_uri": "https://localhost:8080/"
        },
        "id": "p_HXg7xCF2FM",
        "outputId": "d436112c-6e7c-4cee-c97b-c2421e96b1ab"
      },
      "id": "p_HXg7xCF2FM",
      "execution_count": null,
      "outputs": [
        {
          "output_type": "stream",
          "name": "stdout",
          "text": [
            "('has type', 0.4834158420562744)\n"
          ]
        }
      ]
    },
    {
      "cell_type": "code",
      "source": [
        ""
      ],
      "metadata": {
        "id": "Bt1jaDrD1zmn"
      },
      "id": "Bt1jaDrD1zmn",
      "execution_count": null,
      "outputs": []
    },
    {
      "cell_type": "markdown",
      "source": [
        "\n",
        "\n",
        "```\n",
        "# This is formatted as code\n",
        "```\n",
        "\n",
        "Predict Links Using the Trained Model"
      ],
      "metadata": {
        "id": "Vbnn3fKK14Pt"
      },
      "id": "Vbnn3fKK14Pt"
    },
    {
      "cell_type": "code",
      "source": [
        "def remove_relation_key(input_dict):\n",
        "  input_dict.pop('relation', None)\n",
        "\n",
        "#input_file = '/content/drive/MyDrive/Capstone/data/train_data/wiki_mapping/dec_07_mapping_data_wiki_text_0.8.csv'\n",
        "input_file = '/content/drive/MyDrive/Capstone/data/train_data/req_mapping/dec_07_mapping_data_req_text_0.8.csv'\n",
        "\n",
        "input_df = pd.read_csv(input_file)\n",
        "# Coneert data to dictionary\n",
        "input_df['data'] = input_df['data'].apply(ast.literal_eval) \n",
        "# Remove the relation key - The actual relation should be populated with Predicted value\n",
        "input_df.data.apply(remove_relation_key)\n"
      ],
      "metadata": {
        "colab": {
          "base_uri": "https://localhost:8080/"
        },
        "id": "iPDTTess1zub",
        "outputId": "9545a364-14b6-47c2-9bd0-8527b8c89aed"
      },
      "id": "iPDTTess1zub",
      "execution_count": null,
      "outputs": [
        {
          "output_type": "execute_result",
          "data": {
            "text/plain": [
              "0        None\n",
              "1        None\n",
              "2        None\n",
              "3        None\n",
              "4        None\n",
              "         ... \n",
              "72249    None\n",
              "72250    None\n",
              "72251    None\n",
              "72252    None\n",
              "72253    None\n",
              "Name: data, Length: 72254, dtype: object"
            ]
          },
          "metadata": {},
          "execution_count": 54
        }
      ]
    },
    {
      "cell_type": "code",
      "source": [
        "\n"
      ],
      "metadata": {
        "id": "-vQ3B9zM-4nM"
      },
      "id": "-vQ3B9zM-4nM",
      "execution_count": null,
      "outputs": []
    },
    {
      "cell_type": "markdown",
      "source": [
        "Generate the Output File - Prediction and Score for each of the Sentence"
      ],
      "metadata": {
        "id": "kjL854X7GfwM"
      },
      "id": "kjL854X7GfwM"
    },
    {
      "cell_type": "code",
      "source": [
        "df = input_df\n",
        "preditions = []\n",
        "for row in tqdm(df.data):\n",
        "  result = loaded_model.infer(row)\n",
        "  preditions.append(\n",
        "      { 'relation' : result[0], 'score' : result[1]}\n",
        "  )\n",
        "pred_df = pd.DataFrame(preditions)\n",
        "extracted_col1 = pred_df[\"relation\"]\n",
        "extracted_col2 = pred_df[\"score\"]\n",
        "\n",
        "#df = df.join(extracted_col)\n",
        "df.insert(1,\"relation\", extracted_col1)\n",
        "df.insert(1, \"score\", extracted_col2)\n",
        "\n",
        "\n",
        "# df['score'] = pred_df['score']\n",
        "\n",
        "df.to_csv(\"/content/drive/My Drive/Capstone/data/train_data/req_mapping/with_train_test_mapping_data_req_text_0.8_results.csv\")"
      ],
      "metadata": {
        "colab": {
          "base_uri": "https://localhost:8080/",
          "height": 49,
          "referenced_widgets": [
            "bb25175d69b248f2b493852e19f6230d",
            "3aa4371f287e4f77a1fadb069721f70c",
            "7db571a1dda14b96bb5496a54ef2a5be",
            "6ef36c1f265a4ce7acf799f3d4d86d04",
            "b0eb0e475896498587aa1d470e021c7e",
            "513a58b76ecf4b32941b57c76e55dfe1",
            "7909805df04842cc9b1413f99b17b07c",
            "6288739ba92b4ae798fa1c0e7ac7f8f7",
            "dfda02f5b0274b79bac019495177e723",
            "3122a2361c1b42ef9eb60c7bcc7bedbc",
            "3d897ff0a8bc4d0ca43f2e572b83bd4c"
          ]
        },
        "id": "CXM9OqjW1zyn",
        "outputId": "a9ff1754-ee89-474c-9dda-fedb6a42a50a"
      },
      "id": "CXM9OqjW1zyn",
      "execution_count": null,
      "outputs": [
        {
          "output_type": "display_data",
          "data": {
            "application/vnd.jupyter.widget-view+json": {
              "model_id": "bb25175d69b248f2b493852e19f6230d",
              "version_minor": 0,
              "version_major": 2
            },
            "text/plain": [
              "  0%|          | 0/72254 [00:00<?, ?it/s]"
            ]
          },
          "metadata": {}
        }
      ]
    },
    {
      "cell_type": "code",
      "source": [
        "df.relation.value_counts()"
      ],
      "metadata": {
        "colab": {
          "base_uri": "https://localhost:8080/"
        },
        "id": "ARdoecSTLSkM",
        "outputId": "bce76221-efd3-4c67-e9e2-6c5e9cca2572"
      },
      "id": "ARdoecSTLSkM",
      "execution_count": null,
      "outputs": [
        {
          "output_type": "execute_result",
          "data": {
            "text/plain": [
              "indirectly related with    15685\n",
              "is part of                 13569\n",
              "consists of                12680\n",
              "interacts with              8747\n",
              "is related with             8620\n",
              "is parameter of             5644\n",
              "has parameter               4665\n",
              "is type of                  1680\n",
              "has type                     964\n",
              "Name: relation, dtype: int64"
            ]
          },
          "metadata": {},
          "execution_count": 56
        }
      ]
    },
    {
      "cell_type": "code",
      "source": [
        "# With Model trainied with Wiki data without split\n",
        "# indirectly related with    15211\n",
        "# is part of                 12424\n",
        "# consists of                11491\n",
        "# is related with             9302\n",
        "# interacts with              9142\n",
        "# is parameter of             6634\n",
        "# has parameter               5156\n",
        "# is type of                  1756\n",
        "# has type                    1138\n",
        "# Name: relation, dtype: int64"
      ],
      "metadata": {
        "id": "V3pmXnGF8jGl"
      },
      "id": "V3pmXnGF8jGl",
      "execution_count": null,
      "outputs": []
    }
  ]
}